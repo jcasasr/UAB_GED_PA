{
 "cells": [
  {
   "cell_type": "markdown",
   "metadata": {},
   "source": [
    "<div style=\"width: 100%; clear: both;\">\n",
    "<div style=\"float: left; width: 50%;\">\n",
    "<img src=\"media/logo_uab.jpg\", align=\"left\">\n",
    "</div>\n",
    "</div>\n",
    "<div style=\"float: right; width: 50%;\">\n",
    "<p style=\"margin: 0; padding-top: 22px; text-align:right;\">Programació Avançada</p>\n",
    "<p style=\"margin: 0; text-align:right;\">Grau en Enginyeria de Dades</p>\n",
    "</div>\n",
    "</div>\n",
    "<div style=\"width: 100%; clear: both;\">\n",
    "<div style=\"width:100%;\">&nbsp;</div>"
   ]
  },
  {
   "cell_type": "markdown",
   "metadata": {},
   "source": [
    "# Programació Avançada\n",
    "\n",
    "## Organització del codi\n",
    "\n",
    "Un **mòdul** de Python és qualsevol fitxer amb extensió *.py* que estigui sota la ruta del _path_ de Python. \n",
    "\n",
    "El path de Python es pot consultar important la llibreria `sys`:"
   ]
  },
  {
   "cell_type": "code",
   "execution_count": 1,
   "metadata": {},
   "outputs": [
    {
     "name": "stdout",
     "output_type": "stream",
     "text": [
      "['/Users/jcasasr/Library/CloudStorage/Dropbox/_NB_PA', '/Users/jcasasr/opt/anaconda3/lib/python38.zip', '/Users/jcasasr/opt/anaconda3/lib/python3.8', '/Users/jcasasr/opt/anaconda3/lib/python3.8/lib-dynload', '', '/Users/jcasasr/opt/anaconda3/lib/python3.8/site-packages', '/Users/jcasasr/opt/anaconda3/lib/python3.8/site-packages/aeosa', '/Users/jcasasr/opt/anaconda3/lib/python3.8/site-packages/locket-0.2.1-py3.8.egg', '/Users/jcasasr/opt/anaconda3/lib/python3.8/site-packages/IPython/extensions', '/Users/jcasasr/.ipython']\n"
     ]
    }
   ],
   "source": [
    "import sys\n",
    "print(sys.path)"
   ]
  },
  {
   "cell_type": "markdown",
   "metadata": {},
   "source": [
    "Per defecte, Python també mira les llibreries que s'hagin definit a\n",
    "la variable d'entorn \\$PYTHONPATH (això pot canviar lleugerament en un\n",
    "[entorn Windows](https://docs.python.org/3/using/cmdline.html))."
   ]
  },
  {
   "cell_type": "markdown",
   "metadata": {},
   "source": [
    "Un **paquet** en Python és qualsevol directori que contingui un fitxer especial de nom *\\_\\_init\\_\\_.py* (aquest fitxer estarà buit la majoria de vegades). Un mòdul pot contenir diferents funcions, variables o objectes. \n",
    "\n",
    "Per exemple, definim un mòdul de nom `prog_datasci.py` que contingui:"
   ]
  },
  {
   "cell_type": "code",
   "execution_count": 2,
   "metadata": {
    "attributes": {
     "classes": [
      "sourceCode"
     ],
     "id": ""
    }
   },
   "outputs": [],
   "source": [
    "# prog_datasci.py\n",
    "\n",
    "PI = 3.14159265\n",
    "\n",
    "def suma(x, y):\n",
    "    return x + y\n",
    "\n",
    "def resta(x, y):\n",
    "    return x - y"
   ]
  },
  {
   "cell_type": "markdown",
   "metadata": {},
   "source": [
    "Per utilitzar des d'un altre mòdul o _script_ aquestes funcions, hauríem\n",
    "d'escriure el següent:"
   ]
  },
  {
   "cell_type": "code",
   "execution_count": 3,
   "metadata": {
    "attributes": {
     "classes": [
      "sourceCode"
     ],
     "id": ""
    }
   },
   "outputs": [
    {
     "data": {
      "text/plain": [
       "7"
      ]
     },
     "execution_count": 3,
     "metadata": {},
     "output_type": "execute_result"
    }
   ],
   "source": [
    "from prog_datasci import PI, suma, resta\n",
    "\n",
    "# I llavors podríem utilitzar-les normalment.\n",
    "suma(2, 5)"
   ]
  },
  {
   "cell_type": "markdown",
   "metadata": {},
   "source": [
    "A Python també podem utilitzar la directiva `from prog_datasci import *`, però el seu ús està **totalment desaconsellat**. La raó és\n",
    "que estaríem important gran quantitat de codi que no utilitzarem (amb el\n",
    "consegüent augment de l'ús de la memòria), però a més, podríem tenir\n",
    "col·lisions de noms (funcions que es diguin de la mateixa manera en\n",
    "diferents mòduls) sense el nostre coneixement. Si no és que és\n",
    "imprescindible, no utilitzarem aquesta directiva i importarem una a una\n",
    "les llibreries i les funcions que necessitarem.\n",
    "\n",
    "Podeu aprendre més sobre importar llibreries i definir els vostres\n",
    "propis mòduls [aquí](http://life.bsc.es/pid/brian/python/#/5)."
   ]
  }
 ],
 "metadata": {
  "kernelspec": {
   "display_name": "Python 3",
   "language": "python",
   "name": "python3"
  },
  "language_info": {
   "codemirror_mode": {
    "name": "ipython",
    "version": 3
   },
   "file_extension": ".py",
   "mimetype": "text/x-python",
   "name": "python",
   "nbconvert_exporter": "python",
   "pygments_lexer": "ipython3",
   "version": "3.8.8"
  }
 },
 "nbformat": 4,
 "nbformat_minor": 4
}
