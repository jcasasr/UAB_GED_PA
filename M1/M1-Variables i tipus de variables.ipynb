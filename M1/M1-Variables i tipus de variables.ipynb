{
 "cells": [
  {
   "cell_type": "markdown",
   "metadata": {},
   "source": [
    "<div style=\"width: 100%; clear: both;\">\n",
    "<div style=\"float: left; width: 50%;\">\n",
    "<img src=\"data:image/jpeg;base64,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\", align=\"left\">\n",
    "</div>\n",
    "</div>\n",
    "<div style=\"float: right; width: 50%;\">\n",
    "    <p style=\"margin: 0; padding-top: 22px; text-align:right;\"><b>104338 - Programació Avançada</b></p>\n",
    "    <p style=\"margin: 0; text-align:right;\">Grau en Enginyeria de Dades</p>\n",
    "    <p style=\"margin: 0; text-align:right;\">Universitat Autònoma de Barcelona (UAB)</p>\n",
    "</div>\n",
    "<div style=\"width: 100%; clear: both;\"></div>\n",
    "<div style=\"width:100%;\">&nbsp;</div>"
   ]
  },
  {
   "cell_type": "markdown",
   "metadata": {},
   "source": [
    "# Variables i tipus de variables\n",
    "\n",
    "Podem entendre una variable com un contenidor en el qual podem posar les nostres dades a fi de guardar-les i tractar-les més endavant. A Python, les variables no tenen tipus, és a dir, no hem d'indicar si la variable serà numèrica, un caràcter, una cadena de caràcters o una llista, per exemple. A més, les variables poden ser declarades i inicialitzades en qualsevol moment, a diferència d'altres llenguatges de programació.\n",
    "\n",
    "Per declarar una variable, fem servir l'expressió:\n",
    "\n",
    "> nom_de_variable = valor\n",
    "\n",
    "Es recomana repassar el document [PEP-8](https://www.python.org/dev/peps/pep-0008/#function-and-variable-names) per indicar noms de variables correctes, però a grans trets, les directrius són:\n",
    "1. Evitarem utilitzar majúscula a la inicial\n",
    "2. Separarem les diferents paraules amb el caràcter «_» \n",
    "3. No utilitzarem accents ni caràcters específics de la nostra codificació com el símbol del «€» o la «ñ», per exemple.\n",
    "\n",
    "Vegem uns quants exemples de declaracions de variables i com fer-les servir:"
   ]
  },
  {
   "cell_type": "code",
   "execution_count": 1,
   "metadata": {
    "attributes": {
     "classes": [
      "sourceCode"
     ],
     "id": ""
    }
   },
   "outputs": [],
   "source": [
    "# Declarem una variable de nom 'variable_numerica' que conté el valor enter 12.\n",
    "variable_numerica = 12\n",
    "\n",
    "# Declarem una variable de nom monstre que conté el valor 'Godzilla'.\n",
    "monstre = 'Godzilla'\n",
    "\n",
    "# Declarem una variable de nom 'planetes' que és una llista de cadenes de caràcters.\n",
    "planetes = ['Mercuri', 'Venus', 'Terra', 'Mart']"
   ]
  },
  {
   "cell_type": "code",
   "execution_count": 2,
   "metadata": {
    "attributes": {
     "classes": [
      "sourceCode"
     ],
     "id": ""
    }
   },
   "outputs": [
    {
     "name": "stdout",
     "output_type": "stream",
     "text": [
      "30\n"
     ]
    }
   ],
   "source": [
    "la_meva_edat = 25\n",
    "la_meva_edat_en_5 = la_meva_edat + 5\n",
    "# 'Imprimim' el valor calculat que serà, efectivament, 30\n",
    "print(la_meva_edat_en_5)"
   ]
  },
  {
   "cell_type": "markdown",
   "metadata": {},
   "source": [
    "Els tipus nadius de dades que una variable de Python pot contenir són:\n",
    "- __nombres enters__ (int)\n",
    "- __nombres decimals__ (float)\n",
    "- __nombres complexos__ (complex)\n",
    "- __cadena de caràcters__ (string)\n",
    "- __llistes__ (list)\n",
    "- __tuples__ (tuple)\n",
    "- __diccionaris__ (dict). \n",
    "\n",
    "Vegem un per un cada un d'aquests tipus:"
   ]
  },
  {
   "cell_type": "code",
   "execution_count": 3,
   "metadata": {
    "attributes": {
     "classes": [
      "sourceCode"
     ],
     "id": ""
    }
   },
   "outputs": [
    {
     "name": "stdout",
     "output_type": "stream",
     "text": [
      "-4\n",
      "6\n",
      "-5\n",
      "-0.2\n",
      "-1\n"
     ]
    }
   ],
   "source": [
    "# Un nombre enter\n",
    "int_var = 1\n",
    "another_int_var = -5\n",
    "\n",
    "# Podem sumar-los, restar-los, multiplicar-los o dividir-los.\n",
    "print(int_var + another_int_var)\n",
    "print(int_var - another_int_var)\n",
    "print(int_var * another_int_var)\n",
    "print(int_var / another_int_var)\n",
    "\n",
    "# També podem realitzar la divisió entera.\n",
    "# Com que només tractem amb nombres enters, no hi haurà part decimal.\n",
    "print(int_var // another_int_var)"
   ]
  },
  {
   "cell_type": "markdown",
   "metadata": {},
   "source": [
    "El comportament de l'operador `/` és una de les diferències entre Python 2 i Python 3. Mentre que en Python 3, l'operador `/` realitza la divisió real entre dos nombres enters (fixeu-vos que `1 / -5` dóna com a resultat `0.2`), en Python 2 realitzava la divisió entera (per la qual cosa el resultat d'executar` 1 / -5` en Python 2 seria `-1`). Noteu que usem l'operador `//` per expressar la divisió entera en Python 3."
   ]
  },
  {
   "cell_type": "code",
   "execution_count": 4,
   "metadata": {
    "attributes": {
     "classes": [
      "sourceCode"
     ],
     "id": ""
    }
   },
   "outputs": [
    {
     "name": "stdout",
     "output_type": "stream",
     "text": [
      "3.2\n",
      "-1.8\n",
      "1.75\n",
      "0.27999999999999997\n",
      "0.0\n"
     ]
    }
   ],
   "source": [
    "# Un nombre decimal o 'float'\n",
    "float_var = 2.5\n",
    "another_float_var = .7\n",
    "\n",
    "# Convertim un nombre enter en un de decimal mitjançant la funció 'float() '\n",
    "encore_float = float(7)\n",
    "\n",
    "# Podem fer el mateix en sentit contrari amb la funció 'int()'\n",
    "new_int = int(encore_float)\n",
    "\n",
    "# Podem fer les mateixes operacions que en el cas dels nombres enters, però en aquest cas la divisió serà\n",
    "# decimal si algun dels nombres és decimal.\n",
    "print(another_float_var + float_var)\n",
    "print(another_float_var - float_var)\n",
    "print(another_float_var * float_var)\n",
    "print(another_float_var / float_var)\n",
    "print(another_float_var // float_var)"
   ]
  },
  {
   "cell_type": "code",
   "execution_count": 5,
   "metadata": {
    "attributes": {
     "classes": [
      "sourceCode"
     ],
     "id": ""
    }
   },
   "outputs": [
    {
     "name": "stdout",
     "output_type": "stream",
     "text": [
      "3.0\n",
      "2.0\n"
     ]
    }
   ],
   "source": [
    "# Un nombre complex\n",
    "complex_var = 2+3j\n",
    "\n",
    "# Podem accedir a la part imaginària o a la part real:\n",
    "print(complex_var.imag)\n",
    "print(complex_var.real)"
   ]
  },
  {
   "cell_type": "code",
   "execution_count": 6,
   "metadata": {},
   "outputs": [
    {
     "name": "stdout",
     "output_type": "stream",
     "text": [
      "Hello, Bio! ñç\n"
     ]
    }
   ],
   "source": [
    "# Cadena de caràcters\n",
    "my_string = 'Hello, Bio! ñç'\n",
    "print(my_string)"
   ]
  },
  {
   "cell_type": "markdown",
   "metadata": {},
   "source": [
    "Fixeu-vos que podem incloure caràcters unicode (com `ñ`o`ç`) a les cadenes. Això també és una novetat de Python 3 (les variables de tipus `str` són ara UTF-8)."
   ]
  },
  {
   "cell_type": "code",
   "execution_count": 7,
   "metadata": {
    "attributes": {
     "classes": [
      "sourceCode"
     ],
     "id": ""
    }
   },
   "outputs": [
    {
     "name": "stdout",
     "output_type": "stream",
     "text": [
      "Hello, Bio! ñc\n",
      "Hello, Guido! You've got 5 new emails\n"
     ]
    }
   ],
   "source": [
    "# Podem concatenar dues cadenes utilitzant l'operador '+'.\n",
    "same_string = 'Hello, ' + 'Bio' + '!' + ' ñc'\n",
    "print(same_string)\n",
    "\n",
    "# A Python també podem utilitzar wildcards com en la funció 'sprintf' de C. Per exemple:\n",
    "name = \"Guido\"\n",
    "num_emails = 5\n",
    "print(\"Hello, %s! You've got %d new emails\" % (name, num_emails))"
   ]
  },
  {
   "cell_type": "markdown",
   "metadata": {},
   "source": [
    "A l'exemple anterior, hem substituït a l'_string_ la cadena *%s* pel\n",
    "contingut de la variable *name*, que és un _string_, i *%d* per\n",
    "*num_emails*, que és un nombre enter. També podríem utilitzar *%f* per\n",
    "a nombres decimals (podríem indicar la precisió, per exemple, amb *%5.3f*, el nombre tindria una mida total de cinc xifres i tres serien per\n",
    "la part decimal). Hi ha moltes altres possibilitats, però haurem de\n",
    "tenir en compte el tipus de variable que volem substituir. Per exemple,\n",
    "si utilitzem *%d* i el contingut és _string_, Python retornarà un\n",
    "missatge d'error. Per evitar aquesta situació, es recomana l'ús de la\n",
    "funció *str()* per convertir el valor a _string_.\n",
    "\n",
    "També podem mostrar el contingut de les variables sense especificar el seu tipus, fent servir `format`:"
   ]
  },
  {
   "cell_type": "code",
   "execution_count": 8,
   "metadata": {},
   "outputs": [
    {
     "name": "stdout",
     "output_type": "stream",
     "text": [
      "Hello, Guido! You've got 5 new emails\n"
     ]
    }
   ],
   "source": [
    "print(\"Hello, {}! You've got {} new emails\".format(name, num_emails))"
   ]
  },
  {
   "cell_type": "markdown",
   "metadata": {},
   "source": [
    "Ara presentarem altres tipus de dades nadius més complexos: llistes, tuples i diccionaris:"
   ]
  },
  {
   "cell_type": "markdown",
   "metadata": {},
   "source": [
    "### Llistes\n",
    "\n",
    "Característiques principals:\n",
    "- Mutable\n",
    "- Heterogènia"
   ]
  },
  {
   "cell_type": "code",
   "execution_count": 9,
   "metadata": {},
   "outputs": [
    {
     "name": "stdout",
     "output_type": "stream",
     "text": [
      "['3', 'a string', ['a list inside another list', 'second item'], 7.5]\n"
     ]
    }
   ],
   "source": [
    "# Definim una llista amb el nom dels planetes (string).\n",
    "planets = ['Mercury', 'Venus', 'Earth', 'Mars',\n",
    "           'Jupiter', 'Saturn', 'Uranus', 'Neptune']\n",
    "\n",
    "# També pot contenir números.\n",
    "prime_numbers = [2, 3, 5, 7]\n",
    "\n",
    "# Una llista buida\n",
    "empty_list = []\n",
    "\n",
    "# O una barreja de qualsevol tipus:\n",
    "sandbox = ['3', 'a string', ['a list inside another list', 'second item'], 7.5]\n",
    "print(sandbox)"
   ]
  },
  {
   "cell_type": "code",
   "execution_count": 10,
   "metadata": {
    "attributes": {
     "classes": [
      "sourceCode"
     ],
     "id": ""
    }
   },
   "outputs": [
    {
     "name": "stdout",
     "output_type": "stream",
     "text": [
      "['Mercury', 'Venus', 'Earth', 'Mars', 'Jupiter', 'Saturn', 'Uranus', 'Neptune', 'Pluto']\n"
     ]
    }
   ],
   "source": [
    "# Podem afegir elements a una llista.\n",
    "planets.append('Pluto')\n",
    "print(planets)"
   ]
  },
  {
   "cell_type": "code",
   "execution_count": 11,
   "metadata": {
    "attributes": {
     "classes": [
      "sourceCode"
     ],
     "id": ""
    }
   },
   "outputs": [
    {
     "name": "stdout",
     "output_type": "stream",
     "text": [
      "['Mercury', 'Venus', 'Earth', 'Mars', 'Jupiter', 'Saturn', 'Uranus', 'Neptune']\n"
     ]
    }
   ],
   "source": [
    "# O en podem eliminar.\n",
    "planets.remove('Pluto')\n",
    "print(planets)"
   ]
  },
  {
   "cell_type": "code",
   "execution_count": 12,
   "metadata": {
    "attributes": {
     "classes": [
      "sourceCode"
     ],
     "id": ""
    }
   },
   "outputs": [
    {
     "name": "stdout",
     "output_type": "stream",
     "text": [
      "['Mercury', 'Earth', 'Mars', 'Jupiter', 'Saturn', 'Uranus', 'Neptune']\n"
     ]
    }
   ],
   "source": [
    "# Podem eliminar qualsevol element de la llista.\n",
    "planets.remove('Venus')\n",
    "print(planets)"
   ]
  },
  {
   "cell_type": "code",
   "execution_count": 13,
   "metadata": {
    "attributes": {
     "classes": [
      "sourceCode"
     ],
     "id": ""
    }
   },
   "outputs": [
    {
     "name": "stdout",
     "output_type": "stream",
     "text": [
      "['Mercury', 'Earth', 'Mars', 'Jupiter', 'Saturn', 'Uranus', 'Neptune', 'Venus']\n"
     ]
    }
   ],
   "source": [
    "# Sempre que n'afegim, serà al final de la llista. Una llista està ordenada.\n",
    "planets.append('Venus')\n",
    "print(planets)"
   ]
  },
  {
   "cell_type": "code",
   "execution_count": 14,
   "metadata": {
    "attributes": {
     "classes": [
      "sourceCode"
     ],
     "id": ""
    }
   },
   "outputs": [
    {
     "name": "stdout",
     "output_type": "stream",
     "text": [
      "['Earth', 'Jupiter', 'Mars', 'Mercury', 'Neptune', 'Saturn', 'Uranus', 'Venus']\n"
     ]
    }
   ],
   "source": [
    "# Si volem ordenar-la alfabèticament, podem utilitzar la funció 'sorted()'\n",
    "print(sorted(planets))"
   ]
  },
  {
   "cell_type": "code",
   "execution_count": 15,
   "metadata": {
    "attributes": {
     "classes": [
      "sourceCode"
     ],
     "id": ""
    }
   },
   "outputs": [
    {
     "name": "stdout",
     "output_type": "stream",
     "text": [
      "['Godzilla', 'King Kong', 'Cthulu']\n"
     ]
    }
   ],
   "source": [
    "# Podem concatenar dues llistes:\n",
    "monsters = ['Godzilla', 'King Kong']\n",
    "more_monsters = ['Cthulu']\n",
    "print(monsters + more_monsters)"
   ]
  },
  {
   "cell_type": "code",
   "execution_count": 16,
   "metadata": {
    "attributes": {
     "classes": [
      "sourceCode"
     ],
     "id": ""
    }
   },
   "outputs": [
    {
     "name": "stdout",
     "output_type": "stream",
     "text": [
      "['Godzilla', 'King Kong', 'Cthulu']\n"
     ]
    }
   ],
   "source": [
    "# Podem concatenar una llista amb una altra i guardar-la a la mateixa llista:\n",
    "monsters.extend(more_monsters)\n",
    "print(monsters)"
   ]
  },
  {
   "cell_type": "code",
   "execution_count": 17,
   "metadata": {
    "attributes": {
     "classes": [
      "sourceCode"
     ],
     "id": ""
    }
   },
   "outputs": [
    {
     "name": "stdout",
     "output_type": "stream",
     "text": [
      "Godzilla\n",
      "King Kong\n",
      "Cthulu\n",
      "King Kong\n"
     ]
    }
   ],
   "source": [
    "# Podem accedir a un element en concret de la llista:\n",
    "print(monsters[0])\n",
    "\n",
    "# El primer element d'una llista és el 0, per tant, el segon serà l'1:\n",
    "print(monsters[1])\n",
    "\n",
    "# Podem accedir a l'últim element mitjançant nombres negatius:\n",
    "print(monsters[-1])\n",
    "\n",
    "# Penúltim:\n",
    "print(monsters[-2])"
   ]
  },
  {
   "cell_type": "code",
   "execution_count": 18,
   "metadata": {},
   "outputs": [
    {
     "name": "stdout",
     "output_type": "stream",
     "text": [
      "['Mercury', 'Venus']\n"
     ]
    }
   ],
   "source": [
    "# També podem obtenir parts d'una llista mitjançant la tècnica de 'slicing'.\n",
    "planets = ['Mercury', 'Venus', 'Earth', 'Mars',\n",
    "           'Jupiter', 'Saturn', 'Uranus', 'Neptune']\n",
    "\n",
    "# Per exemple, els dos primers elements:\n",
    "print(planets[:2])"
   ]
  },
  {
   "cell_type": "code",
   "execution_count": 19,
   "metadata": {},
   "outputs": [
    {
     "name": "stdout",
     "output_type": "stream",
     "text": [
      "['Earth', 'Mars', 'Jupiter']\n"
     ]
    }
   ],
   "source": [
    "# O els elements entre les posicions 2 i 4\n",
    "print(planets[2:5])"
   ]
  },
  {
   "cell_type": "markdown",
   "metadata": {},
   "source": [
    "Fixeu-vos en aquest últim exemple: en la posició 2 trobem el tercer element de la llista (`'Earth'`) ja que la llista comença a indexar en 0. A més, l'últim element indicat (la posició` 5`) no s'inclou."
   ]
  },
  {
   "cell_type": "code",
   "execution_count": 20,
   "metadata": {
    "attributes": {
     "classes": [
      "sourceCode"
     ],
     "id": ""
    }
   },
   "outputs": [
    {
     "name": "stdout",
     "output_type": "stream",
     "text": [
      "['Venus', 'Earth', 'Mars', 'Jupiter', 'Saturn', 'Uranus']\n"
     ]
    }
   ],
   "source": [
    "# O els elements del segon al penúltim:\n",
    "print(planets[1:-1])"
   ]
  },
  {
   "cell_type": "markdown",
   "metadata": {},
   "source": [
    "La tècnica de _**slicing**_ és molt important i ens permet gestionar\n",
    "llistes d'una manera molt senzilla i potent. Serà imprescindible\n",
    "dominar-la per afrontar molts dels problemes que haurem de resoldre en el camp de\n",
    "la ciència de dades."
   ]
  },
  {
   "cell_type": "code",
   "execution_count": 21,
   "metadata": {
    "attributes": {
     "classes": [
      "sourceCode"
     ],
     "id": ""
    }
   },
   "outputs": [
    {
     "name": "stdout",
     "output_type": "stream",
     "text": [
      "['Godzilla', 'King Kong', 'Kraken']\n"
     ]
    }
   ],
   "source": [
    "# Podem modificar un element en concret d'una llista:\n",
    "monsters = ['Godzilla', 'King Kong', 'Cthulu']\n",
    "monsters[-1] = 'Kraken'\n",
    "print(monsters)"
   ]
  },
  {
   "cell_type": "markdown",
   "metadata": {},
   "source": [
    "### Tupla\n",
    "\n",
    "Característiques principals:\n",
    "- Immutable\n",
    "- Heterogènia"
   ]
  },
  {
   "cell_type": "code",
   "execution_count": 22,
   "metadata": {
    "attributes": {
     "classes": [
      "sourceCode"
     ],
     "id": ""
    }
   },
   "outputs": [
    {
     "ename": "TypeError",
     "evalue": "'tuple' object does not support item assignment",
     "output_type": "error",
     "traceback": [
      "\u001b[0;31m---------------------------------------------------------------------------\u001b[0m",
      "\u001b[0;31mTypeError\u001b[0m                                 Traceback (most recent call last)",
      "\u001b[0;32m<ipython-input-22-e3fce253af97>\u001b[0m in \u001b[0;36m<module>\u001b[0;34m\u001b[0m\n\u001b[1;32m      4\u001b[0m \u001b[0;34m\u001b[0m\u001b[0m\n\u001b[1;32m      5\u001b[0m \u001b[0;31m# Si executem la línia següent, obtindrem un error de tipus 'TypeError'\u001b[0m\u001b[0;34m\u001b[0m\u001b[0;34m\u001b[0m\u001b[0;34m\u001b[0m\u001b[0m\n\u001b[0;32m----> 6\u001b[0;31m \u001b[0mbirth_year\u001b[0m\u001b[0;34m[\u001b[0m\u001b[0;36m1\u001b[0m\u001b[0;34m]\u001b[0m \u001b[0;34m=\u001b[0m \u001b[0;36m1984\u001b[0m\u001b[0;34m\u001b[0m\u001b[0;34m\u001b[0m\u001b[0m\n\u001b[0m",
      "\u001b[0;31mTypeError\u001b[0m: 'tuple' object does not support item assignment"
     ]
    }
   ],
   "source": [
    "# Una tupla és un tipus molt semblant a una llista, però és immutable, és a dir, un cop declarada \n",
    "# no podem afegir-hi elements ni eliminar-ne:\n",
    "birth_year = ('Stephen Hawking', 1942)\n",
    "\n",
    "# Si executem la línia següent, obtindrem un error de tipus 'TypeError'\n",
    "birth_year[1] = 1984"
   ]
  },
  {
   "cell_type": "markdown",
   "metadata": {},
   "source": [
    "Els errors en Python solen ser molt informatius. Una recerca a internet\n",
    "ens ajudarà en la gran majoria de problemes que puguem tenir."
   ]
  },
  {
   "cell_type": "code",
   "execution_count": 23,
   "metadata": {
    "attributes": {
     "classes": [
      "sourceCode"
     ],
     "id": ""
    }
   },
   "outputs": [
    {
     "name": "stdout",
     "output_type": "stream",
     "text": [
      "t\n",
      "Einstein\n",
      "Einstein\n",
      "['E', 'i', 'n', 's', 't', 'e', 'i', 'n']\n",
      "Einstein\n",
      "E.i.n.s.t.e.i.n\n"
     ]
    }
   ],
   "source": [
    "# Un string també és considerat una llista de caràcters.\n",
    "# Així doncs, podem accedir a una posició determinada (tot i que no modificar-la):\n",
    "name = 'Albert Einstein'\n",
    "print(name[5])\n",
    "\n",
    "# Podem fer servir slicing també amb les cadenas de caràcters\n",
    "print(name[7:15])\n",
    "\n",
    "# Podem separar pel caràcter que considerem un string. En aquest cas, per l'espai en blanc, utilitzant\n",
    "# la funció 'split()'.\n",
    "n, surname = name.split()\n",
    "print(surname)\n",
    "\n",
    "# I podem convertir un determinat string en una llista de caràcters fàcilment:\n",
    "chars = list(surname)\n",
    "print(chars)\n",
    "\n",
    "# Per unir els diferents elements d'una llista mitjançant un caràcter, podem utilitzar la funció \n",
    "# 'join()':\n",
    "print(''.join(chars))\n",
    "print('.'.join(chars))"
   ]
  },
  {
   "cell_type": "code",
   "execution_count": 24,
   "metadata": {
    "attributes": {
     "classes": [
      "sourceCode"
     ],
     "id": ""
    }
   },
   "outputs": [
    {
     "name": "stdout",
     "output_type": "stream",
     "text": [
      "-5\n",
      "5\n"
     ]
    }
   ],
   "source": [
    "# L'operador ',' és el creador de tuples. Per exemple, el típic problema d'assignar el valor d'una \n",
    "# variable a una altra en Python es pot resoldre en una línia d'una manera molt elegant utilitzant \n",
    "# tuples (es tracta d'un idiom):\n",
    "a = 5\n",
    "b = -5\n",
    "a,b = b,a\n",
    "print(a)\n",
    "print(b)"
   ]
  },
  {
   "cell_type": "markdown",
   "metadata": {},
   "source": [
    "L'anterior exemple és un *idiom* típic de Python. A la tercera línia,\n",
    "creem una tupla (a,b) a la qual assignem els valors un per un de la\n",
    "tupla (b,a). Els parèntesis no són necessaris, i per això queda una\n",
    "notació tan reduïda."
   ]
  },
  {
   "cell_type": "markdown",
   "metadata": {},
   "source": [
    "### Diccionaris\n",
    "\n",
    "Per acabar, presentarem els diccionaris, una estructura de dades molt útil a la qual assignem un valor a una clau en el diccionari:"
   ]
  },
  {
   "cell_type": "code",
   "execution_count": 25,
   "metadata": {
    "attributes": {
     "classes": [
      "sourceCode"
     ],
     "id": ""
    }
   },
   "outputs": [
    {
     "name": "stdout",
     "output_type": "stream",
     "text": [
      "Spain\n"
     ]
    }
   ],
   "source": [
    "# Codis internacionals d'alguns països. La clau o 'key' és el codi de país, i el valor, el seu nom:\n",
    "country_codes = {34: 'Spain', 376: 'Andorra', 41: 'Switzerland', 424: None}\n",
    "\n",
    "# Podem buscar\n",
    "my_code = 34\n",
    "country = country_codes[my_code]\n",
    "print(country)"
   ]
  },
  {
   "cell_type": "code",
   "execution_count": 26,
   "metadata": {
    "attributes": {
     "classes": [
      "sourceCode"
     ],
     "id": ""
    }
   },
   "outputs": [
    {
     "name": "stdout",
     "output_type": "stream",
     "text": [
      "dict_keys([34, 376, 41, 424])\n"
     ]
    }
   ],
   "source": [
    "# Podem obtenir totes les claus:\n",
    "print(country_codes.keys())"
   ]
  },
  {
   "cell_type": "code",
   "execution_count": 27,
   "metadata": {
    "attributes": {
     "classes": [
      "sourceCode"
     ],
     "id": ""
    }
   },
   "outputs": [
    {
     "name": "stdout",
     "output_type": "stream",
     "text": [
      "dict_values(['Spain', 'Andorra', 'Switzerland', None])\n"
     ]
    }
   ],
   "source": [
    "# O els valors:\n",
    "print(country_codes.values())"
   ]
  },
  {
   "cell_type": "markdown",
   "metadata": {},
   "source": [
    "**És molt important notar que els valors que obtenim de les claus o en\n",
    "imprimir un diccionari no estan ordenats**. És un error molt comú\n",
    "suposar que el diccionari es guarda internament en el mateix ordre en\n",
    "què va ser definit i serà una font d'error habitual no tenir-lo en\n",
    "compte."
   ]
  },
  {
   "cell_type": "code",
   "execution_count": 28,
   "metadata": {
    "attributes": {
     "classes": [
      "sourceCode"
     ],
     "id": ""
    }
   },
   "outputs": [
    {
     "name": "stdout",
     "output_type": "stream",
     "text": [
      "{34: 'Spain', 81: 'Japan'}\n"
     ]
    }
   ],
   "source": [
    "# Podem modificar valors al diccionari o afegir noves claus.\n",
    "\n",
    "# Definim un diccionari buit. 'country_codes = dict()' és una notació equivalent:\n",
    "country_codes = {}\n",
    "\n",
    "# Afegim un element:\n",
    "country_codes[34] = 'Spain'\n",
    "\n",
    "# N'afegim un altre:\n",
    "country_codes[81] = 'Japan'\n",
    "\n",
    "print(country_codes)"
   ]
  },
  {
   "cell_type": "code",
   "execution_count": 29,
   "metadata": {
    "attributes": {
     "classes": [
      "sourceCode"
     ],
     "id": ""
    }
   },
   "outputs": [
    {
     "name": "stdout",
     "output_type": "stream",
     "text": [
      "{34: 'Spain', 81: 'Andorra'}\n"
     ]
    }
   ],
   "source": [
    "# Modifiquem el diccionari:\n",
    "country_codes[81] = 'Andorra'\n",
    "\n",
    "print(country_codes)"
   ]
  },
  {
   "cell_type": "code",
   "execution_count": 30,
   "metadata": {
    "attributes": {
     "classes": [
      "sourceCode"
     ],
     "id": ""
    }
   },
   "outputs": [
    {
     "name": "stdout",
     "output_type": "stream",
     "text": [
      "{34: 'Spain', 81: None}\n"
     ]
    }
   ],
   "source": [
    "# Podem assignar el valor buit a un element:\n",
    "country_codes[81] = None\n",
    "\n",
    "print(country_codes)"
   ]
  },
  {
   "cell_type": "markdown",
   "metadata": {},
   "source": [
    "Els valors buits ens seran útils per declarar una variable que no\n",
    "sapiguem quin valor o quin tipus de valor contindrà i per fer\n",
    "comparacions entre variables. Habitualment, els valors buits són _None_ o\n",
    "'', en el cas de les cadenes de caràcters."
   ]
  },
  {
   "cell_type": "code",
   "execution_count": 31,
   "metadata": {
    "attributes": {
     "classes": [
      "sourceCode"
     ],
     "id": ""
    }
   },
   "outputs": [
    {
     "name": "stdout",
     "output_type": "stream",
     "text": [
      "5 1\n",
      "5 5\n"
     ]
    }
   ],
   "source": [
    "# Podem assignar el valor d'una variable a una altra. És important que s'entenguin les \n",
    "# línies següents:\n",
    "a = 5\n",
    "b = 1\n",
    "print(a, b)\n",
    "# b conté la 'direcció' del contenidor al qual apunta 'a'.\n",
    "b = a\n",
    "print(a, b)"
   ]
  },
  {
   "cell_type": "code",
   "execution_count": 32,
   "metadata": {
    "attributes": {
     "classes": [
      "sourceCode"
     ],
     "id": ""
    }
   },
   "outputs": [
    {
     "name": "stdout",
     "output_type": "stream",
     "text": [
      "6 5\n",
      "6 7\n"
     ]
    }
   ],
   "source": [
    "# Vegem ara què passa si modifiquem el valor d'a o b:\n",
    "a = 6\n",
    "print(a, b)\n",
    "b = 7\n",
    "print(a, b)"
   ]
  },
  {
   "cell_type": "markdown",
   "metadata": {},
   "source": [
    "Fins aquí hem presentat com declarar i utilitzar variables. \n",
    "\n",
    "Recomanem la lectura de la [documentació oficial en línia](https://docs.python.org/3/tutorial/introduction.html) per a fixar els coneixements explicats."
   ]
  }
 ],
 "metadata": {
  "kernelspec": {
   "display_name": "Python 3 (ipykernel)",
   "language": "python",
   "name": "python3"
  },
  "language_info": {
   "codemirror_mode": {
    "name": "ipython",
    "version": 3
   },
   "file_extension": ".py",
   "mimetype": "text/x-python",
   "name": "python",
   "nbconvert_exporter": "python",
   "pygments_lexer": "ipython3",
   "version": "3.8.8"
  }
 },
 "nbformat": 4,
 "nbformat_minor": 4
}
