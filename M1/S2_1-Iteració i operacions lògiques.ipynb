{
 "cells": [
  {
   "cell_type": "markdown",
   "metadata": {},
   "source": [
    "<div style=\"width: 100%; clear: both;\">\n",
    "<div style=\"float: left; width: 50%;\">\n",
    "<img src=\"data:image/jpeg;base64,/9j/4AAQSkZJRgABAgEASABIAAD/4QD6RXhpZgAATU0AKgAAAAgABwESAAMAAAABAAEAAAEaAAUAAAABAAAAYgEbAAUAAAABAAAAagEoAAMAAAABAAIAAAExAAIAAAAjAAAAcgITAAMAAAABAAEAAIdpAAQAAAABAAAAlgAAAAAAAABIAAAAAQAAAEgAAAABQWRvYmUgSWxsdXN0cmF0b3IgMjYuNCAoTWFjaW50b3NoKQAAAAeQAAAHAAAABDAyMjGRAQAHAAAABAECAwCgAAAHAAAABDAxMDCgAQADAAAAAQABAACgAgAEAAAAAQAAASygAwAEAAAAAQAAAJmkBgADAAAAAQAAAAAAAAAAAAD/wAARCABmAMgDASIAAhEBAxEB/8QAHwAAAQUBAQEBAQEAAAAAAAAAAAECAwQFBgcICQoL/8QAtRAAAgEDAwIEAwUFBAQAAAF9AQIDAAQRBRIhMUEGE1FhByJxFDKBkaEII0KxwRVS0fAkM2JyggkKFhcYGRolJicoKSo0NTY3ODk6Q0RFRkdISUpTVFVWV1hZWmNkZWZnaGlqc3R1dnd4eXqDhIWGh4iJipKTlJWWl5iZmqKjpKWmp6ipqrKztLW2t7i5usLDxMXGx8jJytLT1NXW19jZ2uHi4+Tl5ufo6erx8vP09fb3+Pn6/8QAHwEAAwEBAQEBAQEBAQAAAAAAAAECAwQFBgcICQoL/8QAtREAAgECBAQDBAcFBAQAAQJ3AAECAxEEBSExBhJBUQdhcRMiMoEIFEKRobHBCSMzUvAVYnLRChYkNOEl8RcYGRomJygpKjU2Nzg5OkNERUZHSElKU1RVVldYWVpjZGVmZ2hpanN0dXZ3eHl6goOEhYaHiImKkpOUlZaXmJmaoqOkpaanqKmqsrO0tba3uLm6wsPExcbHyMnK0tPU1dbX2Nna4uPk5ebn6Onq8vP09fb3+Pn6/9sAQwABAQEBAQECAQECAwICAgMEAwMDAwQFBAQEBAQFBgUFBQUFBQYGBgYGBgYGBwcHBwcHCAgICAgJCQkJCQkJCQkJ/9sAQwEBAQECAgIEAgIECQYFBgkJCQkJCQkJCQkJCQkJCQkJCQkJCQkJCQkJCQkJCQkJCQkJCQkJCQkJCQkJCQkJCQkJ/90ABAAN/9oADAMBAAIRAxEAPwD8p6KKK/Bz/B8KKKKACiiigAooooAKKKKACiiigAooooAKKKKGwCiiigAooooAKKKKACiiigAooooA/9D8p6KKK/Bz/B8KKKKACiiigAr6a/ZQ/ZN+LX7ZXxSb4RfBlLF9YTT7jUiNQujaReRavDHJ+8WKY7t06YXZyMnIxz8y1+6X/Bvb/wAn8Tf9idrP/pVplVTpe0qQpXtzSS031dj9E8KOHMNm2f4bL8Ym4Tkk7H5x/tefsXfGn9ibxrpngH42x6dHqGrWJ1CAaddteJ5KyGI7naGHa27+HB45z2ryr4B/BDxv+0h8X9C+CPw3W2bXPEU729mLyY28JeOCW4bfKElKjZC3Ow5OB3yP3F/4OPeP2p/BA/6lWT/0tNfn7/wSF/5SQ/Cb/sLXP/prv61xWE9niHQi3ZStfS+9u1r/ACPt+JuAMuwvHkchpJ+xdSEbX1s7X1OI/bF/4J3/ALRP7Dmm6Bqnxyi0qOLxHLcQ2f8AZt814S1sivJvDW8G0YYYILZPp3+NfCHhTXvHXirTPBfhe3N1qWsXlvYWkK9ZJ7qVYYkH1dwCewyTwK/qs/4OWAB4M+EH/YQ1f/0mir8/f+CCX7M5+Mf7XrfGDW7cy6N8NrQ6gGYHY2p3gkt7NfQmOMXEpHY+W1dWLyt08Z9SotvVJX31Sb2XRXfTY97jDwdwq46hw3lqapycb3d2k0nJ/mzP/wCIf7/goGePsvhcf9xuT/5Ar8bfHXgrxJ8OfGereAPF9sbPVdEvbjT7yFusc9rK0Ui9Bkblyp/iUhhwRX94l5/wUV0WD/gqhbfsM+bD/ZD6A0Ulxkbh4hYC9jtc4/58VLEZ+8wGM1/Pp/wX7/Zn/wCFTftYWvxu0K3MekfEi0+0ysoOxdVsVSC5BPQGaAwSAcZKSNzya6MxyqhSputhZuSjLlle2j8rJdbL/hj7Lxl8GMiwmS1Mz4eu3QnyVLu/l26Nr7z85P2PP2GPjp+3Dr2ueHPgdHpsl14etbe7uxqV41mvlXMkkUZRlgn3HdE2RhcDHJzivvP/AIh//wDgoF2tfC//AIPJP/kCvqX/AINrufi/8VO//Eh0f/0tva7H/grF+31+3l+z9+2fq/w0+APifUNN8N2+laXcRW1vpVtdxrLOkpmIlktJny21cgvgdgMmufDYHD/Uo4zESneUpRtG1lZyS3T6L7zThPwx4VpcHYfiHN6NScptp8jXdpafLufn541/4IT/APBQzwf4en1+18PaRrZt1Lm10rV0mumA6+XHPBbK59F8wE9smvyA1bSdT0HU7nRdatpbO8s5XgngnjaKWKWJikkckbgMjowKsrAEEEEV/b3/AMEWf2p/2xv2nPBPjW9/alS4vrLSbm0TSNWutPGnyTvKspuYAEihSZYgsTB0jGDIUJYjj+cD/gs9qPgDU/8Agov8Qbj4ftE0aNYQ37Q42NqUdpGt104LAeUrkfxqwPINXj8vo0sPTxNCUmpu1pWv110S7Hzni54VZDheHaHEeS89NTduSpu99fw87rVH5Z0UUV5Z/KjQUUUUCCiiigAooooA/9H8p6KKK/Bz/B8KKKKACiiigAr9zv8Ag3wliT9vp1dgC/hDWlUHuftOmnj8Bmvwxr6n/Yx/ae8QfsfftHeGvj3oFub0aPM6XdnvCfarK4QxXMG48KzKQ6E8CRE3ELmtKFRQqwqPaMov5Jps/RvCXP8AD5XxDhcdinaEZK77K+5+xP8AwcgWdzF+034DvZEIim8LTqj44JjvhvGfbev5ivz9/wCCPVjd3/8AwUk+FS2UbSeTqN5M+0Z2xppd9uY+gG4c+4r+o/xf48/4JVf8FY/h5pMHjfxFp15daWWmtoJ75tF1zTZJgFljKl4plV9oDD5opNqsNwCtVT4Q/BL/AIJMf8EzdRvPjDpXijStL1WW2a1XUNY1w6jdrC5DPDaRNI7BpSq7hDHvk2gHIAFfR4jKHWxbxUKkfZOSlfm1Vmm123Xdbn9nZ34SrMOLocW0cZS+rc0Z35u1tO2rXc+F/wDg5Wnt/wDhE/hBbSyKjG+1iQ7jjCLbwhnPsuRk192f8EofgtF+xv8A8E67T4geINLnk1/xTDJ4qv7SGJmupGuY1FhZqn3jKLdYIgmOZCeMmvwS/ap/a3+GX/BUH/goJ4I0fxRqFv4R+E2gXP2EXmuSpZq+nLILvUbm481lWJr0QR20UTHeqlS2HZkT9kf+CkP/AAWJ+FvwF+EWmeGv2NfEfh/xZ4q1p2hiurGeHULTSLWALmZ44X2NMxKx28bELndIQyxlWvDZhhpY6vj5S0jpHu7pK6X4J+b1Wp62T8U5H/b2acX1q8fZwSpwd1d2STcYt3eqsujvva58NeBf+CMX/BQXx98Vov2uvHnjTw94N8dXmtjxQbWQXWpS214bgXKxSy27wx7UAEDIhdfKGwOw5r9g/wDgr9+zLe/tK/sMa/DYWi3PibweF8R6asS7meWzRvtUEWcH9/bNNEvTlhx2r+O/Wf8Agpf+3zr13Jfal8XfE5kkYsRFdRQID6KkEMSKPYKK/oE/4I7/APBUTwl4g+FHir4Z/tq/EazttV0y/W507UPE1/FDJeWV6mJIBLMyiRoJkf5QMrHInGK5coxeA5Z4RwlD2i1lKSd2uu7SfW9lr5ng+HniHwXmP1jIMLGcPrKlzSqSVpOz13snrfRLp2R86f8ABtgUPxg+KjRsHRtA0ZlYdCrXl6VI9iMEV9+ft+/8FodW/Yn/AGj7/wCAtt8OrbxJHZWFjei+l1RrRmN4sjFPKW0mA2eXjO/nPQY5+O/+CYvjn9kv9jr9uv4+aNcfEbwxZeBry201/DWpvqlqtnc2s11d3SwQzbxGzWqzCFkUkqEUnrX2n+0b4A/4Ih/tWfFO5+M3xl+Jnhy9167tre0kltvGBs4zFahhEPKt7pEyN7c4yc80ZXia0cqjSw9aMainO92lpzS7p76NO2qPpeFJ4vC8G0csynG0qWIhOSvKUbWU5dHffRp21R6b+wf/AMFEPB//AAVN8LeNvhNrXh3VPAupaVZwSXDaXqsqmS1vWlhV7W+thb3EMqPEwYbVIypVm5x/Jb/wUX/ZOb9jP9qvX/gzbajNq2nCODVNOu7lt1zJZ3/mMn2ggANMsscqO/8Ay02hz8zMK/qz+BXxe/4Ixf8ABPTwtrmq/BPx94cgk1cRvevbaxJrup3S24byoo1ElxcMql2KRRgLuZjjLE1/KN/wUQ/a1j/bS/ao1/43abZvp+kyx2+naXbzAecljZBxEZtpYCSR5ZZGUEhQ4TJKkkzisp4al7acZ1k3dxd/dd+3/bva5+c+P+Ows+FMNSzbEwrY5S3g01bW+1la1ui126nw9RRRXz5/CgUUUUAFFFFABRRRQB//0vynooor8HR/g+egfDv4V/Eb4tarc6H8M9DvdevLO0lv54bGIzPHawbRLMyjpGhZdzdsj1pug/C34i+KPAWsfFHw5ol7feHdAMK6jqUERe2tTcbfK86QcJ5m5dueuR61+r//AAQ723n7Vnifw7A6m+1j4f8AiGys4iwDT3DPZMsaZIyxVSQPRSexr3r9kT4JfEL4E/8ABNj4p+GP2kvC994aTxT4x8D6RBZa1bPbtfN9u063uIkikAaRDl0ZgCpAYglQTRToym01t7130XKk100vfr8j+huCvBvD5rl9DGOclzqrzNfDFwinG+ml29b79D+e+a2uLeN5Z0ZFjDM5YEbQoyxPsB19K9B+IPwf+KXwpk0+H4k+HtQ0J9Vs11CzW+gaEz2rkBZo8/ejJIG73r+mz4g/CL9k7xp+0Z+0p+xhpPwX8I6Bo/g/wVNrmn61p9ns1eHUVsYZfNilI2QRL56iOKJQoKMzb/NZRD4g+Bv7P3xZ+K/gf9mHxZ4X006n8SvgXBdaBqksQe6sNftUeVZLWSXcY3mjdmbaRnyACCK3eArJ7rey13d7W29LdNdfL3qf0c06VRLEpyvyxeqXOpuDi01d3aSTulrc/lXFtcMFKox3/d4PPrj6U4WtxuEYQkkZGATkeo9RX9TXwc/Yy/ZO8K+PNE/Z0+JXg/RtQ+IXww+Fg8W67DJpr6n/AGpr+qOd6XNnblbjUo9MVP3dmDyLiPaNwjK978Iv2Vf2Pfi18aPhH4w8VfD6xkn8R6B4lOr2Z8HXnhPSdU+yLC8F9FoeqM89tc25OzeeW8zdkjy8dFPKMTK1rb23fe3bo/1tfS7wP0YcdVhFvEwTuk1ro/dTT0umm7W629L/AMk8tlJcxi3vLdZkTkLNGHVd3s4IGf1rvdC+EPxH1LwHq/xU8M+GrpvD2hzx2mpanaWgW3tpptnlxTSoo2s/mJgHrvX1Ffv7+zBffss/HP4aeOfjdp/wU8P+BTaavpHh/Sr1/Ctz460i3tgEZ4bjTLN4bqK9uVm/0i98sR7WiZpZNhUdr8d/gV8Of2ZfgF+0zqd/4D8OS2/h/wAaeErm20aCa5k0j7Jdxaa0sJjzFJBDLvdpLclhHuwrGPYB5v8AZzlBYpcrWuq3slLuk1t1RWX+BD+p/XJYzmo8s3ePMkrKVnZq/wBna2vQ/mfvNF1vSJYFv7Se3eeNJofNidC8cgyjoHUbkZeVdcqw5UkVALXULqaOBY3keQhEVVJLMSFAUDOSSQMDJyQOtf18ftP/AAWh+NX/AAUn8HfDq/8Agn4a1Pwhp3h1dVg1q9gubWHUI7Oy8v7HLLBHMt9BZNNG8VgiAMzBiyiM7vP9K+F/wE0Pxp+yv8dLr4beG49X8Z+N7rQryVvCV54OtzCkU93YXq6Fd3DzwXdtJaRLbS3fzsGaQRrvj290srq88opq0Zct3ddUtFb+8uvz2Our9Gmr7apTp4v93GajrFq+sU3bZ25laz/S/wDKPqOl6lo95Lp2rW8trcQMUkinRopEZTgqyOFZSCMEMAQeCAa9a8Kfs/8Ax28X/DfVfi/4P8J6vqPhfRhMb/Vba1eSzthboHlMso4Xy1ILddo64r67/wCCqF1rTftieKovEfw6svAbQX2oSRrYWUlpJrVu95OyapMH5mnuirDzRw5HHNf0U/s9aB4X/ZN8J/A79kXxt8QfBfh+0u9Cvv8AhOfDOr6oLfV9T1PxSF8j7LbMPnC3DSRIGILg7VwVwYwuDdWpKlOVlHS+m97Lfvq31sj53gzwVw+MznG4LEV3GnQfKpL3XzSaUfitpu33Sdj+L4m7jzOQy87S2O/pWpYab4k1W5az0y2ubmZY3lMcMLyOI413O5VFYhVUbmYjao5JA5r90fiL/wAE7r3w/wDsCeM/AHw48BHxJ8UvB/xWm8Om+06yF1q/9klV+xb5EBdYJIJreZixCIH3uQoLD9PfB/wu+D/wS/bW+Mfwc+FHwn8MNeWnwftNUs7W3sSZbqe68+G6sRDEwR4Lpoo/OEaCSRsbnI2gZUsHWlJRnHlul3esubTbVrlaa81309TKfo84+VeMMViHCLUXe0nrLnvFbXacLP1R/JL4P+Evxj+Ivh/V/EfgPw5rGt6foZiXUZtOs57tLfz93l+csCuyhtrHJUgAEsQOa8yS2uJQTHGxCnBwD1r+n/4X6J4i+BnwE+G3xk/Z8+Aema54v+KHi6807xvYW+nX0q+HFiujbf2Xbw27htNjhQMN8uI0ZWZwd4xi/Hb4M/sgfsefBf8AaR+K3g74aeGfHk/gL4iaXY6HBr0DXUFgL/TdLmmsXkB8yW2t57mVhBvC7iEb7vFVcJOFN1bq1ru9+zl2u9FqrXT/AAWP+j7/ALPGq8VblTlNyUrW5XNcumvur3lq09D+ZkW85fywh3dcY7ev096UWtyXEYjYsRkAA9PX6V/WH46/ZG/Zp0z4m+Pfjp8O/hRoviDxJZfCfRfF+h+AVtGn0ufVb2W8W5nj06LBn2iGFREq/eJKgSSZq78FP2SP2cPif8Tfgl8Sfjf8I9C8IeJvG3hfxVPr3ghNP+yWMy6dJCLTU10yfLWku1lIyA6+eAxLICOlZXXdT2el/V9+Xt36b26ak0/oy4yVVUViY3b0dpW5ebkve1r3d+V62P5MPsl1n/Vt+XpTRbzlmTYcp94Y6fX0r+imy8f/ALNcv7CPg39stP2e/h+niGLx03g6Cw+xSnTf7OknB8y4iLZurtYVKJNNu2ys0wUbjGfoT4h/sZfBr4LfHX9oDx54A+HHh640fw+2gJpP2/QNQ8YLpd1qdvE80On+FNNWN7hZHkVvN+0RLDuOMRI+OfD4SpVSdNp3SfXaSbX2eyZzYb6OVbEcksNioyjJRltLSMoyknt/da8tD+U+SOSJzHIpVh1B4plfqp/wWE+B/wAMPgR+1ynhz4UaDb+GtP1Twzo2sTafaQi2toru7N3HOYbdWdIFbyEJiRiituIJJJP5V1i4yjKUJ7ptP1Tsfh/GfDFTJszrZbVkpODtdbMKKKKD5c//0/ynooor8HP8HzX0LX9b8L6vb+IPDd5cadf2jiWC5tJpLeeJxnDxyxMskbjJAZWBwTzgkV6f8Rv2iPjx8XbjT7z4n+NNd8Qy6VIstk2o6jc3H2eVOVkhV32xyDtIoD/7VeM0VDpq9z1MNneMo0JYalVkoPVpNpP1Wx6a3xn+LreJNV8Y/wDCV62dW1u3a01G+/tG7+1XcDKqGK5n83zJoyqhSkjMpAAxgDEEnxe+Ksuv6R4pl8Uay+p6BClvpl4dRuvtFlEgKpHazeb5kCKrEKsTKoBIAwTXnNFDgiv7dxnSrLvu997/AH6no8Pxd+Klv8QR8WovE+rx+J0cSnWf7QuRfhlQR7mvDJ53EahDucgoAp+UYr6Svbn9tbxl8N2/bqvPFWu3+l2mof8ACMDxF/bszXqTXAXNrEUnEywPldwj2xMcbgSM19H/APBHD4d/DX4iftTalbeNNIsPEWsaX4X1TUvDWk6mqPa3msW5i8kMj/K7RqxZFPqzjlAV/Zzw14Q1/wCJf7GPgrRP+Cg/gbSPh83iP4saSNasLS0j0mG8TbttmureKaVYzPOkdszFwZYgpIG7NdeGyyVaLlF20lbe10la72W/ru7n9KeGHhris1yueMq4uaU1NxSbUVNWXNOWyd3tu1dp6a/ymfCz43/Fr4M6hd6t8G/Fup+HLi5VYrp9G1CS3MirnasywuFbaSdu8Erk7cZOfpj4R/s/ft9/tU+B/EWu/CXSfFPjHQNW1JRrckWoiSC81CFI3VrxLu9j+0TInllZJFkKgKFYYAH7ff8ABQ34afD5/wBlv4tz+NPAt1p03hHU7ePwtqX/AAjGneHbfTpPtIjS0tLpLsy6laXURVCY45M5JO1sLH5H/wAE+vBEvj7/AIJTePfDVr4D1/4jl/iHbyDRvDesNoeoSCO3sj5y3qPGVSIfPIgcCRRtOc4L/sl/Wfq85dG7ryvpZ83bonpb0PWyrwhnQztZFjcZOdH2U5pRbTvezVvetd32Tvp10Px3+Lx/be/Zk8YaB4V+Mmo+MfCWraBD9s0aG/1S7X7HCR5RlsmW6lhjjwPLfyX24+R1CkKfB/E3xs+K/j1Irjxh4x1fW44786nHJeatc3SJe4Cm5RpJmVJwAB5i4cAAAgAAf1ieOfgrq3j/APay+COm63o2lxR+GvhNf39p4O8Wqde1PQJ7WSxRmlWO5dtXvSzKsZeVVDRSNvdmUjb074HfC3xd+0T+y58Q/H3gqFNd8SR+KbPXI9X0aw0y5u47axkmtft+m2jTW8UsfDRo7GWJWw+1yyjaORVOZxi9E0tfPl1000b2tr5PQ9fNPAnG1qtanhsdONNTikpXej5E3dNarmVtE7LVJ6L+Qzxj8S/H/jrW4vFnj/xHqOs6hZpHEt7qmoTXc0KRMXjQT3MrugRiWVd3BJIwSai8SfELxz4v8RN448W69f6pqjeVK2pX17Nc3B8jHlObqaR3/dlRsO/5CBtIxX9FnwK8Z6b8bfBvxu+MX7O/wg8IT/Ff4dS2Hhvwl4atNOjukttAivXSa/jsppIhPdsGmWWRSpbyUQZ+63ufwn+BngXWv2kNR8X/AB7+GvhXwt8X4vhjDrtp4b0JYtXaTUTI8c2ovoEq21vFfooRUt1uJwcn98SNx46ODlPl5GrS2bTS3a3tvptp011PlMN4H4rFOm6OPb9pK/Nyy5XZyXxbc/uv3Xbda62PwN/Zx1T9t79oTx9r/hD4BeL9f1DWvEOmXGoasy6/PAb6zsEjile4uJJ/3zIjpGCWMmw7FOwYHzevxv8Ai6/jO0+Io8Y6yniI2sdvbakdWu01H7MB8kUVx54uPLAOBGrbByNtf13/AAq8G+AtO/ap8AeOrfwxe6B4z1r4c+MV1O5vNIs/D8mrW8MmneRc3Gl21xJJbzxFhHmSOPeGPAwqr4J+zj8JLrSPA37NXgb9m/4VeHfHPwg8d+Hbe4+IPiDUNLt72eS6ljVbs3d1LKr27xAHahjYAjygFCha2q5PUuoJp6vu/wCS2n/bzu76b3fX6yv4I4mdKnRhj5uUZSu7uXWHI1FbWc25u9lvqfzW+EP2mf2gPh3PrN94L+IGv6JJrkjT6pJa6xdW7XUsmA01ywmBeVuB5zfvTwN/SvPZviD41HhXUfB91rt6uh6rdi/vrOS+lWyuro4IuLiJpPKmmOARLIGkJAO7vX9HvjDxP8Ev2SP2WvAnjf8AZ58I+F/FSX3xm8QeHNO1fXNOTUXj0wX98pSCQlGciOL7NDMzPiL5lDZyforUv2ZPDvwu/aR/aO+I3wR8F6Y/9mX2gwWMGm6FFr+s28uoWNtcXEOl6bcS29jbQTySeZJcyvtDNIXCpECM4ZZOTcYtP72ldOV/O9tla+l3rp4UfBHMK8oYZ5i5NW5krtRU4SleOut+V9uj8j+WO0+O/wAa9P8AFmm+PrPxjrqa1pNstpYaimp3Rure2XlYYJ/NLpB0/dK3lEdVIqxqX7Qfx11jx4/xS1Lxpr83iSSBrZtVbU7sX3kP96EXCyiRYj3iUiM/3ck1+gX/AAWb+GPw/wDhf+2fNY/DrR7XRLTVfDmjatcW9lHFFC15d/aluJVjg/cqZDEpby/lLAsM5JP5OZrCpQ5Zyg+ja+adr/1qfhPGizPJcxrZVPEyl7OXRuza6+p1yePvHCeE4vAUetagNDgu/t0enC7mFmlz/wA91tt/lCb/AKaBQ/vXfab+0l+0Jo/iDVfFmlePPEltqmuW6WmoXser3y3N1BECscc0/neZIqBiE3MSgJCFQTnxKip9lG1mj5OhxDjqTTpVpJrazfT5+b+86jxT408YeN7u3v8Axlqt9q89tbRWcMl/czXTx28OfKhR5ndliTcdiAhVycAZNcvRRWiR5mIxE6s3UqO7fVhRRRQYn//U/Keiiivwc/wfCiiigAooooA0NL1bU9Ev4dV0e4ltLq2cSQzwSPDLG69HjkjKujDsykEZ4NbuuePPG3ieG5h8TazqOppeSrPcLe3tzdLNKqhFeUTyyCRwoChnDMFAAOBiuSorN0YN8zR30c0xFOm6NObUX0vodj4j+IXjvxhY2ul+Ldd1PVrayObaK/vrq7jg42/uUuJZFi+UkfIBxx04qPQfHvjjwxZtp3hvWtR06B38xo7O9urZC2ANxSCWNS2ABkjOOM4FclRSVCCXKkbf25jPbfWPavn2vd3sdPD418X23iRfGdtq19HrCHK36Xdwl4p27Mi6WQTg7flz5n3eOnFW0+Ifj2K5hvY9c1MTQSyzxuL66DpLcZ86RX83cry5PmOpDPk7y2a42il9Xhe9hxz3GpNKrLV33e/f8Df0LxX4n8L6wPEPhnUrzTdQXdi7s7ma1uBv5fE8DpKN38WG+bvmpx4z8WjxN/wmg1S9Gs+Z5v8AaH2qf7Z5m3bv+1eZ5+/bxv8AM3Y4zjiuZopvDwu3ymcM4xUYqEajsndK737nZ3fxG+IF74gk8W3mvapNq0sXkPfS393JdvF/zza4aUzMn+wXK+3NM0j4g+O/D2iXPhnQNb1Kw0283faLS1vrm3tptww3mwRSpFIWHBLo2ehyK4+ik8NTslyo1Wf41Sc/ayu763fXf7zZbxDrraTb6Eb65+xWkpmgtvPl8iKQ9Xjh3eXG/JyyKG963YPiV8Q7W/vtUttf1WK61OIQXkyahdrLcRKCBHPIsoeVACQEkZlAJGMGuJopyoQe6M6Wc4uDvCo18+ysvwNPVNa1fXJY59Zu57t4YkgjM8rylIoxhI1MjMVRBwqDCqOFArMoorSMUlZHDWrzqSc6ju2FFFFMyCiiigAooooA/9X8p6KKK/Bz/B8KKKKACiiigAooooAKKKKACiiigAooooAKKKKACiiigAooooAKKKKACiiigAooooA//9k=\", align=\"left\">\n",
    "</div>\n",
    "</div>\n",
    "<div style=\"float: right; width: 50%;\">\n",
    "    <p style=\"margin: 0; padding-top: 22px; text-align:right;\"><b>104338 - Programació Avançada</b></p>\n",
    "    <p style=\"margin: 0; text-align:right;\">Grau en Enginyeria de Dades</p>\n",
    "    <p style=\"margin: 0; text-align:right;\">Universitat Autònoma de Barcelona (UAB)</p>\n",
    "</div>\n",
    "<div style=\"width: 100%; clear: both;\"></div>\n",
    "<div style=\"width:100%;\">&nbsp;</div>"
   ]
  },
  {
   "cell_type": "markdown",
   "metadata": {},
   "source": [
    "# Iteració i operacions lògiques\n",
    "\n",
    "En la majoria de casos haurem de manipular les nostres dades, i per fer-ho utilitzarem els conceptes d'iteració i les operacions\n",
    "lògiques. Les operacions lògiques ens permeten comparar valors entre variables (més gran, més petit, igualtat), i la iteració, anar visitant un a un els elements d'una llista, tupla, diccionari o qualsevol estructura de dades que sigui susceptible de seqüenciar-se."
   ]
  },
  {
   "cell_type": "code",
   "execution_count": 2,
   "metadata": {
    "attributes": {
     "classes": [
      "sourceCode"
     ],
     "id": ""
    }
   },
   "outputs": [
    {
     "name": "stdout",
     "output_type": "stream",
     "text": [
      "True\n"
     ]
    }
   ],
   "source": [
    "# Les operacions lògiques tindran com a resultat un valor cert (True) o fals (False):\n",
    "\n",
    "a = 5\n",
    "b = 1\n",
    "\n",
    "# El valor a és més gran que b?\n",
    "print(a > b)"
   ]
  },
  {
   "cell_type": "code",
   "execution_count": 3,
   "metadata": {
    "attributes": {
     "classes": [
      "sourceCode"
     ],
     "id": ""
    }
   },
   "outputs": [
    {
     "name": "stdout",
     "output_type": "stream",
     "text": [
      "False\n"
     ]
    }
   ],
   "source": [
    "# El valor a és més petit que b?\n",
    "print(a < b)"
   ]
  },
  {
   "cell_type": "code",
   "execution_count": 4,
   "metadata": {
    "attributes": {
     "classes": [
      "sourceCode"
     ],
     "id": ""
    }
   },
   "outputs": [
    {
     "name": "stdout",
     "output_type": "stream",
     "text": [
      "True\n"
     ]
    }
   ],
   "source": [
    "b = 5\n",
    "# El valor de b és igual que el d'a?\n",
    "print(b == a)"
   ]
  },
  {
   "cell_type": "code",
   "execution_count": 5,
   "metadata": {
    "attributes": {
     "classes": [
      "sourceCode"
     ],
     "id": ""
    }
   },
   "outputs": [
    {
     "name": "stdout",
     "output_type": "stream",
     "text": [
      "True\n",
      "True\n",
      "True\n"
     ]
    }
   ],
   "source": [
    "# Altres operadors lògics disponibles són més petit o igual '<=', més gran o igual '> =' \n",
    "# o la negació 'not'\n",
    "print(a <= b)\n",
    "print(a >= b)\n",
    "\n",
    "a = False\n",
    "print(not a)"
   ]
  },
  {
   "cell_type": "markdown",
   "metadata": {},
   "source": [
    "També podem alterar el flux d'execució del nostre programa utilitzant\n",
    "les estructures *if... else* o *if... elif... else*. Vegem-ne uns quants\n",
    "exemples:"
   ]
  },
  {
   "cell_type": "code",
   "execution_count": 6,
   "metadata": {
    "attributes": {
     "classes": [
      "sourceCode"
     ],
     "id": ""
    }
   },
   "outputs": [
    {
     "name": "stdout",
     "output_type": "stream",
     "text": [
      "a és menor o igual que b\n"
     ]
    }
   ],
   "source": [
    "a = 5\n",
    "b = 6\n",
    "if a > b:\n",
    "    print('a és major que b')\n",
    "else:\n",
    "    print('a és menor o igual que b')"
   ]
  },
  {
   "cell_type": "code",
   "execution_count": 7,
   "metadata": {
    "attributes": {
     "classes": [
      "sourceCode"
     ],
     "id": ""
    }
   },
   "outputs": [
    {
     "name": "stdout",
     "output_type": "stream",
     "text": [
      "a és igual a b\n"
     ]
    }
   ],
   "source": [
    "a = 5\n",
    "b = 5\n",
    "if a > b:\n",
    "    print('a és major que b')\n",
    "elif a < b:\n",
    "    print('a és menor que b')\n",
    "else:\n",
    "    print('a és igual a b')"
   ]
  },
  {
   "cell_type": "markdown",
   "metadata": {},
   "source": [
    "En Python hi només dues maneres d'iterar una seqüència: \n",
    "- Mitjançant _**for**_: Aquesta opció iterarà un per un els elements continguts en una llista. \n",
    "- o mitjançant _**while**_: En aquest cas, iterarem mentre la condició de permanència al bucle es compleixi. \n",
    "\n",
    "Vegem-ne uns exemples:"
   ]
  },
  {
   "cell_type": "code",
   "execution_count": 8,
   "metadata": {
    "attributes": {
     "classes": [
      "sourceCode"
     ],
     "id": ""
    }
   },
   "outputs": [
    {
     "name": "stdout",
     "output_type": "stream",
     "text": [
      "Kraken\n",
      "Leviathan\n",
      "Uroborus\n",
      "Hydra\n",
      "0 Kraken\n",
      "1 Leviathan\n",
      "2 Uroborus\n",
      "3 Hydra\n"
     ]
    }
   ],
   "source": [
    "monsters = ['Kraken', 'Leviathan', 'Uroborus', 'Hydra']\n",
    "\n",
    "# Primer mètode iterant mitjançant for:\n",
    "for monster in monsters:\n",
    "    print(monster)\n",
    "\n",
    "# Segon mètode. La funció especial 'enumerate' ens retorna una tupla en què el primer element és un \n",
    "# índex que comença per 0 i augmenta d'1 a 1 i el segon element és el valor de la posició a la llista:\n",
    "for i, monster in enumerate(monsters):\n",
    "    print(i, monster)"
   ]
  },
  {
   "cell_type": "code",
   "execution_count": 9,
   "metadata": {
    "attributes": {
     "classes": [
      "sourceCode"
     ],
     "id": ""
    }
   },
   "outputs": [
    {
     "name": "stdout",
     "output_type": "stream",
     "text": [
      "0 Kraken\n",
      "1 Leviathan\n",
      "2 Uroborus\n",
      "3 Hydra\n"
     ]
    }
   ],
   "source": [
    "# També podríem iterar la llista mitjançant while, però és una manera molt menys idiomàtica en Python \n",
    "# i preferirem sempre l'opció de for:\n",
    "i = 0\n",
    "# Mentre que l'índex 'i' sigui més petit que la longitud de la llista 'monsters':\n",
    "while i < len(monsters):\n",
    "    # Imprimeix el valor de la llista en la posició 'i'.\n",
    "    print(i, monsters[i])\n",
    "    # No ens oblidem d'actualitzar el valor de 'i' sumant-li 1 o tindrem un bucle infinit.\n",
    "    i += 1"
   ]
  },
  {
   "cell_type": "markdown",
   "metadata": {},
   "source": [
    "En aquest moment seríem capaços de calcular la sèrie de Fibonacci fins a\n",
    "un determinat valor:"
   ]
  },
  {
   "cell_type": "code",
   "execution_count": 10,
   "metadata": {
    "attributes": {
     "classes": [
      "sourceCode"
     ],
     "id": ""
    }
   },
   "outputs": [
    {
     "name": "stdout",
     "output_type": "stream",
     "text": [
      "0 1 1 2 3 5 8 13 21 34 55 89 "
     ]
    }
   ],
   "source": [
    "# Calculem el valor de la sèrie fins a un valor n = 100.\n",
    "n = 100\n",
    "\n",
    "a, b = 0, 1\n",
    "while a < n:\n",
    "    print(a, end =\" \")\n",
    "    a, b = b, a+b"
   ]
  },
  {
   "cell_type": "markdown",
   "metadata": {},
   "source": [
    "A Python disposem d'una funció molt útil per generar una seqüència devnombres, la funció `range`, que podem utilitzar de diferents maneres:"
   ]
  },
  {
   "cell_type": "code",
   "execution_count": 11,
   "metadata": {
    "attributes": {
     "classes": [
      "sourceCode"
     ],
     "id": ""
    }
   },
   "outputs": [
    {
     "data": {
      "text/plain": [
       "[0, 1, 2, 3, 4, 5, 6, 7, 8, 9]"
      ]
     },
     "execution_count": 11,
     "metadata": {},
     "output_type": "execute_result"
    }
   ],
   "source": [
    "# La funció 'range' ens retorna una llista de nombres:\n",
    "list(range(10))"
   ]
  },
  {
   "cell_type": "markdown",
   "metadata": {},
   "source": [
    "Fixeu-vos que `range` no torna directament una llista, sinó que retorna un tipus propi del mateix nom. Per aquest motiu, per obtenir una llista cal fer una conversió de tipus utilitzant `list()`. Això és una novetat en Python 3, ja que en Python 2 la funció `range` retornava una llista."
   ]
  },
  {
   "cell_type": "code",
   "execution_count": 12,
   "metadata": {},
   "outputs": [
    {
     "name": "stdout",
     "output_type": "stream",
     "text": [
      "<class 'range'>\n",
      "<class 'list'>\n"
     ]
    }
   ],
   "source": [
    "# Visualitzem el tipus de retorn de range\n",
    "print(type(range(10)))\n",
    "print(type(list(range(10))))"
   ]
  },
  {
   "cell_type": "markdown",
   "metadata": {},
   "source": [
    "Vegem alguns dels usos més habituals de `range`:"
   ]
  },
  {
   "cell_type": "code",
   "execution_count": 13,
   "metadata": {
    "attributes": {
     "classes": [
      "sourceCode"
     ],
     "id": ""
    }
   },
   "outputs": [
    {
     "name": "stdout",
     "output_type": "stream",
     "text": [
      "0 1 2 3 4 5 6 7 8 9 "
     ]
    }
   ],
   "source": [
    "# Podem utilitzar-la per iterar:\n",
    "for i in range(10):\n",
    "    print(i, end = \" \")"
   ]
  },
  {
   "cell_type": "code",
   "execution_count": 14,
   "metadata": {
    "attributes": {
     "classes": [
      "sourceCode"
     ],
     "id": ""
    }
   },
   "outputs": [
    {
     "name": "stdout",
     "output_type": "stream",
     "text": [
      "0 1 2 3 4 5 6 7 8 9 \n",
      "5 6 7 8 9 \n",
      "5 8 "
     ]
    }
   ],
   "source": [
    "# Podem definir el rang d'acció. \n",
    "\n",
    "# Per exemple, especificant només el final com hem fet abans\n",
    "for i in range(10):\n",
    "    print(i, end = \" \")\n",
    "\n",
    "print()\n",
    "\n",
    "# especificant inici i fi:\n",
    "for i in range(5, 10):\n",
    "    print(i, end = \" \")\n",
    "\n",
    "print()\n",
    "\n",
    "# o especificant també el salt entre cada valor:\n",
    "for i in range(5, 10, 3):\n",
    "    print(i, end = \" \")"
   ]
  },
  {
   "cell_type": "markdown",
   "metadata": {},
   "source": [
    "Sempre que no necessitem explícitament una llista, farem servir directament el tipus `range` (sense fer la conversió a llista), ja que això és en general més eficient (estalvia memòria). Només quan necessitem una llista, (per exemple, per visualitzar el resultat com hem fet en el primer exemple) convertirem el resultat de `range` a llista."
   ]
  },
  {
   "cell_type": "code",
   "execution_count": 15,
   "metadata": {
    "attributes": {
     "classes": [
      "sourceCode"
     ],
     "id": ""
    }
   },
   "outputs": [
    {
     "name": "stdout",
     "output_type": "stream",
     "text": [
      "34\n",
      "376\n",
      "41\n",
      "424\n",
      "\n",
      "Spain\n",
      "Andorra\n",
      "Switzerland\n",
      "None\n",
      "\n",
      "34 Spain\n",
      "376 Andorra\n",
      "41 Switzerland\n",
      "424 None\n"
     ]
    }
   ],
   "source": [
    "# També és possible iterar en un diccionari:\n",
    "country_codes = {34: 'Spain', 376: 'Andorra', 41: 'Switzerland', 424: None}\n",
    "\n",
    "# Per clau:\n",
    "for country_code in country_codes.keys():\n",
    "    print(country_code)\n",
    "print()\n",
    "\n",
    "# Per valor:\n",
    "for country in country_codes.values():\n",
    "    print(country)\n",
    "print()\n",
    "\n",
    "# Per tots dos alhora:\n",
    "for country_code, country in country_codes.items():\n",
    "    print(country_code, country)"
   ]
  }
 ],
 "metadata": {
  "kernelspec": {
   "display_name": "Python 3 (ipykernel)",
   "language": "python",
   "name": "python3"
  },
  "language_info": {
   "codemirror_mode": {
    "name": "ipython",
    "version": 3
   },
   "file_extension": ".py",
   "mimetype": "text/x-python",
   "name": "python",
   "nbconvert_exporter": "python",
   "pygments_lexer": "ipython3",
   "version": "3.8.8"
  }
 },
 "nbformat": 4,
 "nbformat_minor": 4
}
