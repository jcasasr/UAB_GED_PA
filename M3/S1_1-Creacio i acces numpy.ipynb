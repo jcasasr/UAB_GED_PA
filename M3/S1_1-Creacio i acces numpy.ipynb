{
 "cells": [
  {
   "cell_type": "markdown",
   "metadata": {},
   "source": [
    "# **Arrays - Mòdul Numpy**\n",
    "\n",
    "https://numpy.org/doc/stable/user/whatisnumpy.html\n",
    "\n",
    "- Mòdul per poder treballar amb arrays multidimensionals (tipus `ndarray`)\n",
    "- Què és un array?\n",
    "   - És un tipus de dades compost definit a partir d’altres tipus de dades, en què els elements estan ordenats segons     una seqüència definida per l’índex de l’element (igual que a les llistes).\n",
    "   \n",
    "   <img src=\"./imatges_notebook/image1.png\" alt=\"image 1\" width=\"300\" height=\"30\" > \n",
    "\n",
    "   - Són objectes mutables.\n",
    "   - A diferència de les llistes, els elements d’un array han de ser tots del mateix tipus de dades\n",
    "   - Permeten representar i manipular fàcilment estructures multidimensionals: 1D, 2D, 3D, ... nD\n",
    "   \n",
    "   <img src=\"./imatges_notebook/image2.png\" alt=\"image 1\" width=\"400\" height=\"160\" > \n",
    "   \n",
    "   - `numpy` incorpora una extensa llibreria de funcions per manipular i fer càlculs sobre arrays de forma molt eficient\n",
    "  "
   ]
  },
  {
   "cell_type": "code",
   "execution_count": 3,
   "metadata": {},
   "outputs": [],
   "source": [
    "import numpy as np"
   ]
  },
  {
   "cell_type": "markdown",
   "metadata": {},
   "source": [
    "**Exemple**"
   ]
  },
  {
   "cell_type": "code",
   "execution_count": 4,
   "metadata": {},
   "outputs": [
    {
     "name": "stdout",
     "output_type": "stream",
     "text": [
      "[2.33644978e-307 8.34428586e-308 1.50199021e-307 2.33647694e-307\n",
      " 1.89142482e-307 2.11389826e-307 8.34427737e-308 1.50199531e-307\n",
      " 2.33643960e-307 4.22789158e-307]\n"
     ]
    }
   ],
   "source": [
    "a = np.empty(10)\n",
    "print(a)"
   ]
  },
  {
   "cell_type": "code",
   "execution_count": 5,
   "metadata": {},
   "outputs": [
    {
     "name": "stdout",
     "output_type": "stream",
     "text": [
      "[ 0. 10. 20. 30. 40. 50. 60. 70. 80. 90.]\n"
     ]
    }
   ],
   "source": [
    "for i in range(10):\n",
    "    a[i] = i * 10\n",
    "print(a)"
   ]
  },
  {
   "cell_type": "code",
   "execution_count": null,
   "metadata": {},
   "outputs": [],
   "source": [
    "for i in range(10):\n",
    "    print(a[i])"
   ]
  },
  {
   "cell_type": "code",
   "execution_count": 6,
   "metadata": {},
   "outputs": [
    {
     "name": "stdout",
     "output_type": "stream",
     "text": [
      "[[1.05103434e-311 3.16202013e-322 0.00000000e+000 0.00000000e+000]\n",
      " [3.14573925e+097 3.06185043e-057 2.85471763e-056 3.37560468e-057]\n",
      " [3.59726042e+179 1.19055317e-047 1.15455572e-071 1.04113536e-071]]\n"
     ]
    }
   ],
   "source": [
    "a = np.empty((3, 4))\n",
    "print(a)"
   ]
  },
  {
   "cell_type": "code",
   "execution_count": 7,
   "metadata": {},
   "outputs": [
    {
     "name": "stdout",
     "output_type": "stream",
     "text": [
      "[[ 0.  1.  2.  3.]\n",
      " [10. 11. 12. 13.]\n",
      " [20. 21. 22. 23.]]\n"
     ]
    }
   ],
   "source": [
    "for i in range(3):\n",
    "    for j in range(4):\n",
    "        a[i,j] = i * 10 + j\n",
    "print(a)"
   ]
  },
  {
   "cell_type": "code",
   "execution_count": 8,
   "metadata": {},
   "outputs": [
    {
     "name": "stdout",
     "output_type": "stream",
     "text": [
      "[[[6.23042070e-307 3.56043053e-307 1.60219306e-306 7.56571288e-307]\n",
      "  [1.89146896e-307 1.37961302e-306 1.05699242e-307 8.01097889e-307]\n",
      "  [1.78020169e-306 7.56601165e-307 1.02359984e-306 1.33510679e-306]]\n",
      "\n",
      " [[2.22522597e-306 1.33511018e-306 6.23057689e-307 1.11260755e-306]\n",
      "  [8.34453626e-308 1.33508761e-307 1.33511562e-306 8.90103560e-307]\n",
      "  [1.42410974e-306 1.00132228e-307 1.33511969e-306 2.18568966e-312]]]\n"
     ]
    }
   ],
   "source": [
    "a = np.empty((2, 3, 4))\n",
    "print(a)"
   ]
  },
  {
   "cell_type": "markdown",
   "metadata": {},
   "source": [
    "### **Arrays: Creació**\n",
    "https://docs.scipy.org/doc/numpy/user/quickstart.html#array-creation"
   ]
  },
  {
   "cell_type": "markdown",
   "metadata": {},
   "source": [
    "**A partir de llistes**\n",
    "- L'array s'inicialitza amb els valors de la llista que s'indica al moment de crear-lo"
   ]
  },
  {
   "cell_type": "code",
   "execution_count": null,
   "metadata": {},
   "outputs": [],
   "source": [
    "a = np.array([1, 2, 3])\n",
    "print (a)"
   ]
  },
  {
   "cell_type": "markdown",
   "metadata": {},
   "source": [
    "- Si la llista és una llista de llistes, cada llista és una fila de l'array"
   ]
  },
  {
   "cell_type": "code",
   "execution_count": 9,
   "metadata": {},
   "outputs": [
    {
     "name": "stdout",
     "output_type": "stream",
     "text": [
      "[[ 0  2  4  6  8]\n",
      " [ 1  3  5  7  9]\n",
      " [10 12 14 16 18]]\n"
     ]
    }
   ],
   "source": [
    "b = np.array([[0, 2, 4, 6, 8], [1, 3, 5, 7, 9], [10, 12, 14, 16, 18]])\n",
    "print (b)"
   ]
  },
  {
   "cell_type": "markdown",
   "metadata": {},
   "source": [
    "**Especificant un rang de valors**\n",
    "```python\n",
    "arange(valorInicial, valorFinal, pasActualitzacio)\n",
    "```\n",
    "- Similar a la funció `range` de les llistes, però retorna un array i tots els valors poden ser decimals"
   ]
  },
  {
   "cell_type": "code",
   "execution_count": null,
   "metadata": {},
   "outputs": [],
   "source": [
    "c = np.array([np.arange(0,1,0.2), np.arange(0.1,1.0,0.2), np.arange(1,2,0.2)])\n",
    "print (c)"
   ]
  },
  {
   "cell_type": "markdown",
   "metadata": {},
   "source": [
    "**Exercici**: Incialitzar un array de 4 files i 5 columnes amb valors del 1 al 20 guardats en ordre creixent per les files (la primera fila té els valors del 1 al 4 i la última fila els valors del 17 al 20)."
   ]
  },
  {
   "cell_type": "code",
   "execution_count": null,
   "metadata": {},
   "outputs": [],
   "source": [
    "a = np.array([range(1,6), range(6,11), range(11, 16), range(16,21)])\n",
    "print(a)"
   ]
  },
  {
   "cell_type": "markdown",
   "metadata": {},
   "source": [
    "**A partir de valors fixos**\n",
    "- Podem inicialitzar un array amb 0's ó 1's amb les funcions `np.zeros` i `np.ones` indicant en una tupla les dimensions de l'array"
   ]
  },
  {
   "cell_type": "code",
   "execution_count": 10,
   "metadata": {},
   "outputs": [
    {
     "name": "stdout",
     "output_type": "stream",
     "text": [
      "[[0. 0. 0. 0.]\n",
      " [0. 0. 0. 0.]\n",
      " [0. 0. 0. 0.]]\n"
     ]
    }
   ],
   "source": [
    "a = np.zeros((3,4))\n",
    "print (a)"
   ]
  },
  {
   "cell_type": "code",
   "execution_count": 11,
   "metadata": {},
   "outputs": [
    {
     "name": "stdout",
     "output_type": "stream",
     "text": [
      "[[1. 1. 1.]\n",
      " [1. 1. 1.]]\n"
     ]
    }
   ],
   "source": [
    "b = np.ones((2,3))\n",
    "print (b)"
   ]
  },
  {
   "cell_type": "markdown",
   "metadata": {},
   "source": [
    "- Podem especificar el tipus dels valors de l'array (per defecte `float64`)\n",
    "- Altres possibles tipus: https://docs.scipy.org/doc/numpy/reference/arrays.scalars.html"
   ]
  },
  {
   "cell_type": "code",
   "execution_count": null,
   "metadata": {},
   "outputs": [],
   "source": [
    "b = np.ones((2,3), dtype='int32')\n",
    "print (b)"
   ]
  },
  {
   "cell_type": "markdown",
   "metadata": {},
   "source": [
    "**Com un array sense inicialitzar**\n",
    "- Indicant en una tupla les dimensions de l'array"
   ]
  },
  {
   "cell_type": "code",
   "execution_count": 12,
   "metadata": {},
   "outputs": [
    {
     "name": "stdout",
     "output_type": "stream",
     "text": [
      "[[1.05101527e-311 1.05103364e-311]\n",
      " [0.00000000e+000 1.06099790e-314]]\n"
     ]
    }
   ],
   "source": [
    "c = np.empty((2,2))\n",
    "print (c)"
   ]
  },
  {
   "cell_type": "markdown",
   "metadata": {},
   "source": [
    "**Exercici**: Inicialitzar un array de 5 files i 4 columnes amb tots els valors inicialitzats a 10"
   ]
  },
  {
   "cell_type": "code",
   "execution_count": 13,
   "metadata": {},
   "outputs": [
    {
     "name": "stdout",
     "output_type": "stream",
     "text": [
      "[[10. 10. 10. 10.]\n",
      " [10. 10. 10. 10.]\n",
      " [10. 10. 10. 10.]\n",
      " [10. 10. 10. 10.]\n",
      " [10. 10. 10. 10.]]\n"
     ]
    }
   ],
   "source": [
    "a = np.ones((5, 4)) * 10\n",
    "print(a)"
   ]
  },
  {
   "cell_type": "markdown",
   "metadata": {},
   "source": [
    "### **Arrays: Accés**\n",
    "https://docs.scipy.org/doc/numpy/user/quickstart.html#indexing-slicing-and-iterating"
   ]
  },
  {
   "cell_type": "markdown",
   "metadata": {},
   "source": [
    "Accés a un element de  l’array: un índex per cada dimensió (en 2D, fila i columna)\n",
    "- Els índexs comencen per 0.\n",
    "- Els índexs negatius comencen pel final de l’array"
   ]
  },
  {
   "cell_type": "code",
   "execution_count": 14,
   "metadata": {},
   "outputs": [
    {
     "name": "stdout",
     "output_type": "stream",
     "text": [
      "[[ 0  2  4  6  8]\n",
      " [ 1  3  5  7  9]\n",
      " [10 12 14 16 18]]\n",
      "5\n",
      "16\n"
     ]
    }
   ],
   "source": [
    "a = np.array([np.arange(0,10,2), np.arange(1,10,2), np.arange(10,20,2)])\n",
    "print(a)\n",
    "print(a[1,2])\n",
    "print(a[-1,-2])"
   ]
  },
  {
   "cell_type": "code",
   "execution_count": 15,
   "metadata": {},
   "outputs": [
    {
     "name": "stdout",
     "output_type": "stream",
     "text": [
      "[[[6.23042070e-307 3.56043053e-307]\n",
      "  [1.60219306e-306 7.56571288e-307]\n",
      "  [1.89146896e-307 1.37961302e-306]\n",
      "  [1.05699242e-307 8.01097889e-307]]\n",
      "\n",
      " [[1.78020169e-306 7.56601165e-307]\n",
      "  [1.02359984e-306 1.33510679e-306]\n",
      "  [2.22522597e-306 1.33511018e-306]\n",
      "  [6.23057689e-307 1.11260755e-306]]\n",
      "\n",
      " [[8.34453626e-308 1.33508761e-307]\n",
      "  [1.33511562e-306 8.90103560e-307]\n",
      "  [1.42410974e-306 1.00132228e-307]\n",
      "  [1.33511969e-306 2.18568966e-312]]]\n"
     ]
    }
   ],
   "source": [
    "a = np.empty((3, 4, 2))\n",
    "print(a)"
   ]
  },
  {
   "cell_type": "code",
   "execution_count": 16,
   "metadata": {},
   "outputs": [
    {
     "name": "stdout",
     "output_type": "stream",
     "text": [
      "[[[6.23042070e-307 3.56043053e-307]\n",
      "  [1.60219306e-306 7.56571288e-307]\n",
      "  [1.89146896e-307 1.37961302e-306]\n",
      "  [1.05699242e-307 8.01097889e-307]]\n",
      "\n",
      " [[1.78020169e-306 7.56601165e-307]\n",
      "  [1.02359984e-306 1.33510679e-306]\n",
      "  [0.00000000e+000 1.33511018e-306]\n",
      "  [6.23057689e-307 1.11260755e-306]]\n",
      "\n",
      " [[8.34453626e-308 1.33508761e-307]\n",
      "  [1.33511562e-306 8.90103560e-307]\n",
      "  [1.42410974e-306 1.00132228e-307]\n",
      "  [1.33511969e-306 2.18568966e-312]]]\n"
     ]
    }
   ],
   "source": [
    "a[1,2,0] = 0\n",
    "print(a)"
   ]
  },
  {
   "cell_type": "markdown",
   "metadata": {},
   "source": [
    "**Slicing**\n",
    "\n",
    "Permet accedir a múltiples elements de l’array a la vegada:\n",
    "- Per cada dimensió:  `inici:final:pas_actualització`\n",
    "- Podem recuperar elements no consecutius definint un pas d'actualització diferent de 1. "
   ]
  },
  {
   "cell_type": "code",
   "execution_count": 17,
   "metadata": {},
   "outputs": [
    {
     "name": "stdout",
     "output_type": "stream",
     "text": [
      "[[ 0  2  4  6  8]\n",
      " [ 1  3  5  7  9]\n",
      " [10 12 14 16 18]]\n"
     ]
    }
   ],
   "source": [
    "a = np.array([np.arange(0,10,2), np.arange(1,10,2), np.arange(10,20,2)])\n",
    "print(a)"
   ]
  },
  {
   "cell_type": "code",
   "execution_count": 18,
   "metadata": {},
   "outputs": [
    {
     "name": "stdout",
     "output_type": "stream",
     "text": [
      "[0 2 4 6 8]\n"
     ]
    }
   ],
   "source": [
    "print (a[0,:])"
   ]
  },
  {
   "cell_type": "code",
   "execution_count": 19,
   "metadata": {},
   "outputs": [
    {
     "name": "stdout",
     "output_type": "stream",
     "text": [
      "[[0 2 4 6 8]\n",
      " [1 3 5 7 9]]\n"
     ]
    }
   ],
   "source": [
    "print (a[0:2,:])"
   ]
  },
  {
   "cell_type": "code",
   "execution_count": 20,
   "metadata": {},
   "outputs": [
    {
     "name": "stdout",
     "output_type": "stream",
     "text": [
      "[[0 4 8]\n",
      " [1 5 9]]\n"
     ]
    }
   ],
   "source": [
    "print (a[0:2,0:5:2])"
   ]
  },
  {
   "cell_type": "markdown",
   "metadata": {},
   "source": [
    "**Exercici**: Incialitzar un array de 4 files i 5 columnes amb valors del 1 al 20 guardats en ordre creixent per les files (la primera fila té els valors del 1 al 4 i la última fila els valors del 17 al 20).\n",
    "A partir d'aquest array, escriviu el codi per retornar altres arrays que continguin:\n",
    "- La tercera fila de l'array\n",
    "- Les dues últimes columnes de l'array\n",
    "- El quadrat definit per la intersecció de les files 1 a 3 i les columnes 1 a 2 (extrems inclosos)\n",
    "- El quadrat definit per la intersecció de les files 0, 2, 4 i les columnes 0, 2"
   ]
  },
  {
   "cell_type": "code",
   "execution_count": 31,
   "metadata": {},
   "outputs": [
    {
     "name": "stdout",
     "output_type": "stream",
     "text": [
      "[[ 1  2  3  4  5]\n",
      " [ 6  7  8  9 10]\n",
      " [11 12 13 14 15]\n",
      " [16 17 18 19 20]]\n",
      "[11 12 13 14 15]\n",
      "[[ 4  5]\n",
      " [ 9 10]\n",
      " [14 15]\n",
      " [19 20]]\n",
      "[[ 4  5]\n",
      " [ 9 10]\n",
      " [14 15]\n",
      " [19 20]]\n",
      "[[ 7  8]\n",
      " [12 13]\n",
      " [17 18]]\n",
      "[[ 1  3]\n",
      " [11 13]]\n"
     ]
    }
   ],
   "source": [
    "a = np.array([np.arange(1,6), np.arange(6,11), np.arange(11, 16), np.arange(16,21)])\n",
    "print(a)\n",
    "print(a[2,:])\n",
    "print(a[:,3:5])\n",
    "print(a[:,-2:])\n",
    "print(a[1:4, 1:3])\n",
    "print(a[0:3:2, 0:3:2])"
   ]
  },
  {
   "cell_type": "markdown",
   "metadata": {},
   "source": [
    "### **Arrays: Cerca**"
   ]
  },
  {
   "cell_type": "markdown",
   "metadata": {},
   "source": [
    "Igual que a les llistes: operador `in` retorna `True` si un element està dins de l'array"
   ]
  },
  {
   "cell_type": "code",
   "execution_count": 32,
   "metadata": {},
   "outputs": [
    {
     "name": "stdout",
     "output_type": "stream",
     "text": [
      "[[ 0  2  4  6  8]\n",
      " [ 1  3  5  7  9]\n",
      " [10 12 14 16 18]]\n"
     ]
    },
    {
     "name": "stdin",
     "output_type": "stream",
     "text": [
      " 4\n"
     ]
    },
    {
     "name": "stdout",
     "output_type": "stream",
     "text": [
      "4 esta a l’array\n"
     ]
    }
   ],
   "source": [
    "import numpy as np\n",
    "a = np.array([np.arange(0,10,2), np.arange(1,10,2), np.arange(10,20,2)])\n",
    "print(a)\n",
    "\n",
    "x = int(input())\n",
    "\n",
    "if x in a:\n",
    "\tprint(x, 'esta a l’array')\n",
    "else:\n",
    "\tprint(x, 'no esta a l’array')"
   ]
  },
  {
   "cell_type": "markdown",
   "metadata": {},
   "source": [
    "**Exercici**: Modifiqueu el codi anterior per comprovar si el valor *x* està dins d'una determinada columna de l'array. L'índex de la columna també s'ha de llegir per teclat"
   ]
  },
  {
   "cell_type": "code",
   "execution_count": 33,
   "metadata": {},
   "outputs": [
    {
     "name": "stdout",
     "output_type": "stream",
     "text": [
      "[[ 0  2  4  6  8]\n",
      " [ 1  3  5  7  9]\n",
      " [10 12 14 16 18]]\n"
     ]
    },
    {
     "name": "stdin",
     "output_type": "stream",
     "text": [
      " 4\n",
      " 0\n"
     ]
    },
    {
     "name": "stdout",
     "output_type": "stream",
     "text": [
      "4 no esta a l’array\n"
     ]
    }
   ],
   "source": [
    "import numpy as np\n",
    "a = np.array([np.arange(0,10,2), np.arange(1,10,2), np.arange(10,20,2)])\n",
    "print(a)\n",
    "\n",
    "x = int(input())\n",
    "col = int(input())\n",
    "\n",
    "if x in a[:, col]:\n",
    "\tprint(x, 'esta a l’array')\n",
    "else:\n",
    "\tprint(x, 'no esta a l’array')"
   ]
  },
  {
   "cell_type": "markdown",
   "metadata": {},
   "source": [
    "### **Arrays: Recorregut**"
   ]
  },
  {
   "cell_type": "code",
   "execution_count": null,
   "metadata": {},
   "outputs": [],
   "source": [
    "a = np.array([np.arange(0,10,2), np.arange(1,10,2), np.arange(10,20,2)])\n",
    "for fila in a:\n",
    "    print(fila)"
   ]
  },
  {
   "cell_type": "markdown",
   "metadata": {},
   "source": [
    "#### **Recorregut per cada dimensió de l'array:**\n",
    "- Similar a les llistes en arrays 1D"
   ]
  },
  {
   "cell_type": "code",
   "execution_count": 34,
   "metadata": {},
   "outputs": [
    {
     "name": "stdout",
     "output_type": "stream",
     "text": [
      "[0 2 4 6 8]\n",
      "0\n",
      "2\n",
      "4\n",
      "6\n",
      "8\n"
     ]
    }
   ],
   "source": [
    "a = np.array(np.arange(0,10,2))\n",
    "print(a)\n",
    "for valor in a:\n",
    "    print(valor)"
   ]
  },
  {
   "cell_type": "markdown",
   "metadata": {},
   "source": [
    "- En arrays 2D, primer per files i després per columnes"
   ]
  },
  {
   "cell_type": "code",
   "execution_count": 35,
   "metadata": {},
   "outputs": [
    {
     "name": "stdout",
     "output_type": "stream",
     "text": [
      "[0 2 4 6 8]\n",
      "[1 3 5 7 9]\n",
      "[10 12 14 16 18]\n"
     ]
    }
   ],
   "source": [
    "a = np.array([np.arange(0,10,2), np.arange(1,10,2), np.arange(10,20,2)])\n",
    "for fila in a:\n",
    "    print(fila)"
   ]
  },
  {
   "cell_type": "code",
   "execution_count": 36,
   "metadata": {},
   "outputs": [
    {
     "name": "stdout",
     "output_type": "stream",
     "text": [
      "0  2  4  6  8  \n",
      "\n",
      "1  3  5  7  9  \n",
      "\n",
      "10  12  14  16  18  \n",
      "\n"
     ]
    }
   ],
   "source": [
    "a = np.array([np.arange(0,10,2), np.arange(1,10,2), np.arange(10,20,2)])\n",
    "for fila in a:\n",
    "    for element in fila:\n",
    "        print (element,\" \", end=\"\")\n",
    "    print (\"\\n\")"
   ]
  },
  {
   "cell_type": "markdown",
   "metadata": {},
   "source": [
    "#### **Recorregut de tots els elements de l'array en un sol bucle:**\n",
    "```python\n",
    "a.flat\n",
    "```\n",
    "retorna un array 1D amb tots els elements de l'array recorreguts per files"
   ]
  },
  {
   "cell_type": "code",
   "execution_count": 37,
   "metadata": {},
   "outputs": [
    {
     "name": "stdout",
     "output_type": "stream",
     "text": [
      "0\n",
      "2\n",
      "4\n",
      "6\n",
      "8\n",
      "1\n",
      "3\n",
      "5\n",
      "7\n",
      "9\n",
      "10\n",
      "12\n",
      "14\n",
      "16\n",
      "18\n"
     ]
    }
   ],
   "source": [
    "a = np.array([np.arange(0,10,2), np.arange(1,10,2), np.arange(10,20,2)])\n",
    "for x in a.flat:\n",
    "    print(x)"
   ]
  },
  {
   "cell_type": "markdown",
   "metadata": {},
   "source": [
    "#### **Recorregut recuperant valors i índexs de l'array**\n",
    "```python\n",
    "np.ndenumerate(a)\n",
    "```\n",
    "- Similar a `enumerate` per llistes\n",
    "- `index` recorre l’índex com una tupla (fila, columna) de tots els elements de l’array\n",
    "- `element` recorre tots els elements de l’array"
   ]
  },
  {
   "cell_type": "code",
   "execution_count": 38,
   "metadata": {},
   "outputs": [
    {
     "name": "stdout",
     "output_type": "stream",
     "text": [
      "(0, 0) 0\n",
      "(0, 1) 2\n",
      "(0, 2) 4\n",
      "(0, 3) 6\n",
      "(0, 4) 8\n",
      "(1, 0) 1\n",
      "(1, 1) 3\n",
      "(1, 2) 5\n",
      "(1, 3) 7\n",
      "(1, 4) 9\n",
      "(2, 0) 10\n",
      "(2, 1) 12\n",
      "(2, 2) 14\n",
      "(2, 3) 16\n",
      "(2, 4) 18\n"
     ]
    }
   ],
   "source": [
    "a = np.array([np.arange(0,10,2), np.arange(1,10,2), np.arange(10,20,2)])\n",
    "for index, element in np.ndenumerate(a):\n",
    "    print (index, element)"
   ]
  },
  {
   "cell_type": "markdown",
   "metadata": {},
   "source": [
    "### **Arrays: afegir/eliminar elements**\n",
    "- Es fa de forma similar a les llistes"
   ]
  },
  {
   "cell_type": "markdown",
   "metadata": {},
   "source": [
    "#### **Afegir elements amb la funció `insert`**"
   ]
  },
  {
   "cell_type": "markdown",
   "metadata": {},
   "source": [
    "- Retorna un array resultat d'afegir el valor o valors a les posicions indicades per l’índex.\n",
    "\n",
    "```python\n",
    "np.insert(array, index, valor)\n",
    "```"
   ]
  },
  {
   "cell_type": "code",
   "execution_count": 40,
   "metadata": {},
   "outputs": [
    {
     "name": "stdout",
     "output_type": "stream",
     "text": [
      "[0 1 2]\n",
      "[ 0 -1  1  2]\n",
      "[ 0 -1 -2 -3  1  2]\n"
     ]
    }
   ],
   "source": [
    "a = np.arange(3)\n",
    "print(a)\n",
    "a = np.insert(a, 1, -1)\n",
    "print(a)\n",
    "a = np.insert(a, 2, [-2, -3])\n",
    "print(a)"
   ]
  },
  {
   "cell_type": "markdown",
   "metadata": {},
   "source": [
    "#### **Afegir elements amb la funció `append`**"
   ]
  },
  {
   "cell_type": "markdown",
   "metadata": {},
   "source": [
    "- Retorna un array resultat d'afegir el valor o valors al final de l’array.\n",
    "\n",
    "```python\n",
    "np.append(array, valor)\n",
    "```"
   ]
  },
  {
   "cell_type": "code",
   "execution_count": 39,
   "metadata": {},
   "outputs": [
    {
     "name": "stdout",
     "output_type": "stream",
     "text": [
      "[0 1 2]\n",
      "[ 0  1  2 -3]\n",
      "[ 0  1  2 -3 -1 -2]\n"
     ]
    }
   ],
   "source": [
    "a = np.arange(3)\n",
    "print(a)\n",
    "a = np.append(a, -3)\n",
    "print(a)\n",
    "a = np.append(a, [-1, -2])\n",
    "print(a)"
   ]
  },
  {
   "cell_type": "markdown",
   "metadata": {},
   "source": [
    "#### **Eliminar elements amb la funció `delete`**"
   ]
  },
  {
   "cell_type": "markdown",
   "metadata": {},
   "source": [
    "- Elimina l’element de la posició indicada per l’índex.\n",
    "\n",
    "```python\n",
    "np.delete(array, index)\n",
    "```"
   ]
  },
  {
   "cell_type": "code",
   "execution_count": 41,
   "metadata": {},
   "outputs": [
    {
     "name": "stdout",
     "output_type": "stream",
     "text": [
      "[0 1 2]\n",
      "[1 2]\n"
     ]
    }
   ],
   "source": [
    "a = np.arange(3)\n",
    "print(a)\n",
    "a = np.delete(a, 0)\n",
    "print(a)"
   ]
  }
 ],
 "metadata": {
  "kernelspec": {
   "display_name": "Python 3 (ipykernel)",
   "language": "python",
   "name": "python3"
  },
  "language_info": {
   "codemirror_mode": {
    "name": "ipython",
    "version": 3
   },
   "file_extension": ".py",
   "mimetype": "text/x-python",
   "name": "python",
   "nbconvert_exporter": "python",
   "pygments_lexer": "ipython3",
   "version": "3.8.8"
  }
 },
 "nbformat": 4,
 "nbformat_minor": 4
}
