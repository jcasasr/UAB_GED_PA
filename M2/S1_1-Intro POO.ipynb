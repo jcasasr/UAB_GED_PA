{
 "cells": [
  {
   "cell_type": "markdown",
   "id": "f4cf43d9-f72e-46d7-afa1-1b2bd4dc44b4",
   "metadata": {
    "slideshow": {
     "slide_type": "slide"
    },
    "tags": []
   },
   "source": [
    "# **Programació Orientada a Objectes**"
   ]
  },
  {
   "cell_type": "markdown",
   "id": "2c036e04-6bd5-4bce-9b37-112966421a7c",
   "metadata": {
    "jp-MarkdownHeadingCollapsed": true,
    "slideshow": {
     "slide_type": "subslide"
    },
    "tags": []
   },
   "source": [
    "Una **classe** és una construcció que ens permet crear un nou tipus de dades que agrupa:\n",
    "- Un conjunt de dades (**atributs**).\n",
    "- Un conjunt de funcions (**mètodes**) necessaris per interactuar i manipular les dades guardades als atributs.\n",
    "\n",
    "Els atributs descriuen les propietats dels objectes de la classe mentre que els mètodes descriuen el seu comportament (accions que es poden fer) associat. "
   ]
  },
  {
   "cell_type": "markdown",
   "id": "144d8139-dd69-4ac1-bc89-8ab5e254ba67",
   "metadata": {
    "slideshow": {
     "slide_type": "skip"
    },
    "tags": []
   },
   "source": [
    "El següent exemple defineix una classe `Punt` amb atributs per guardar les coordenades `x` i `y` d'un punt de l'espai 2D."
   ]
  },
  {
   "cell_type": "code",
   "execution_count": null,
   "id": "72c3e4a0-e4a5-458e-ab35-ff706b16fd7a",
   "metadata": {
    "slideshow": {
     "slide_type": "fragment"
    },
    "tags": []
   },
   "outputs": [],
   "source": [
    "class Punt:\n",
    "    def __init__(self, x = 0, y = 0):\n",
    "        self.x = x\n",
    "        self.y = y"
   ]
  },
  {
   "cell_type": "markdown",
   "id": "f8a55c85-eff6-4d28-ae50-3bceec91f1e4",
   "metadata": {},
   "source": [
    "El mètode *`__init__`* és el **constructor** de la classe. Es crida automàticament sempre que es crea una variable d'aquesta classe i serveix per definir i inicialitzar el atributs de la classe."
   ]
  },
  {
   "cell_type": "markdown",
   "id": "32a69663-52d5-49f9-a14b-acb81e54e530",
   "metadata": {},
   "source": [
    "Un **objecte** és una variable definida com una instància particular d'una classe. Cada objecte té els seus propis valors pels atributs (propietats) de la classe, però tots els objectes tenen el mateix comportament (accions que es poden fer).\n",
    "\n",
    "A partir de la definició de la classe anterior podem crear variables de tipus `Punt` de la forma següent:"
   ]
  },
  {
   "cell_type": "code",
   "execution_count": null,
   "id": "dbbd171a-3aa3-477a-adb1-dc3cb9f31ccb",
   "metadata": {},
   "outputs": [],
   "source": [
    "p = Punt(1, 2)"
   ]
  },
  {
   "cell_type": "markdown",
   "id": "5ef90b6e-47de-4e56-bcc0-02929b37d80f",
   "metadata": {},
   "source": [
    "Aquesta instrucció crea una variable `p` de tipus `Punt` i crida al mètode `__init__` per definir i inicialitzar els atributs `x` i `y`. El paràmetre `self` agafa el valor de la variable `p` que s'està creant. "
   ]
  },
  {
   "cell_type": "markdown",
   "id": "3e364780-1a74-4625-8ebb-47fcce848258",
   "metadata": {},
   "source": [
    "Un cop creat, es pot accedir als atributs (i mètodes) de l'objecte utilitzant la sintaxi `nom_objecte.nom_atribut`"
   ]
  },
  {
   "cell_type": "code",
   "execution_count": null,
   "id": "9095ddcc-2742-405f-b445-63886ec8c096",
   "metadata": {
    "slideshow": {
     "slide_type": "slide"
    },
    "tags": []
   },
   "outputs": [],
   "source": [
    "print(p.x, p.y)"
   ]
  },
  {
   "cell_type": "code",
   "execution_count": null,
   "id": "9b6eabba-2267-4be0-b495-5953b52f88f5",
   "metadata": {},
   "outputs": [],
   "source": [
    "p.x = 3\n",
    "print(p.x, p.y)"
   ]
  },
  {
   "cell_type": "markdown",
   "id": "e2387691-5a9f-496f-bc41-cbd5d01e3f8e",
   "metadata": {},
   "source": [
    "Els **mètodes** són les funcions associades als objectes de la classe i defineixen el seu comportament (quines accions podem realitzar).\n",
    "\n",
    "En el següent exemple afegim a la classe `Punt` un mètode per calcular la distancia al punt (0,0) i un altre mètode per retornar el punt que està al mig entre dos punts. "
   ]
  },
  {
   "cell_type": "code",
   "execution_count": null,
   "id": "85b8929c-2096-42f9-b0b2-d6263e7a87e3",
   "metadata": {},
   "outputs": [],
   "source": [
    "import math\n",
    "\n",
    "class Punt:\n",
    "    def __init__(self, x = 0, y = 0):\n",
    "        self.x = x\n",
    "        self.y = y\n",
    "    def distancia_origen(self):\n",
    "        return math.sqrt(self.x**2 + self.y**2)   \n",
    "    def punt_mig(self, p):\n",
    "        return Punt((self.x + p.x)/2, (self.y + p.y)/2)\n"
   ]
  },
  {
   "cell_type": "markdown",
   "id": "04554d5f-759c-4cc6-b06e-f7101545ffe1",
   "metadata": {},
   "source": [
    "Els mètodes es poden cridar utilitzant la sintaxi `nom_objecte.nom_metode`. Quan es fa la crida el paràmetre `self` agafa el valor de l'objecte que s'utilitza per fer la crida (no es posa explícitament quan fem la crida). Dins del mètode podem accedir al valor dels atributs de l'objecte utilitzant `self.nom_atribut`."
   ]
  },
  {
   "cell_type": "code",
   "execution_count": null,
   "id": "092b215e-6fbf-4c24-86af-1edf362159a3",
   "metadata": {},
   "outputs": [],
   "source": [
    "p1 = Punt(2, 2)\n",
    "p2 = Punt(2, 4)\n",
    "d = p1.distancia_origen()\n",
    "print(d)"
   ]
  },
  {
   "cell_type": "code",
   "execution_count": null,
   "id": "06f62ee0-7f9f-40a1-b0e4-9a1ce99b68ec",
   "metadata": {},
   "outputs": [],
   "source": [
    "p_mig = p1.punt_mig(p2)\n",
    "print(p_mig.x, p_mig.y)"
   ]
  },
  {
   "cell_type": "markdown",
   "id": "2f7fdab3-c60e-4398-9bfb-63cf1faf9e42",
   "metadata": {},
   "source": [
    "**Sobrecàrrega d'operadors**\n",
    "\n",
    "Amb els objectes d'una classe es poden utilitzar els operadors habituals aritmètics (`+, -, *, /`) i de comparació (`<, <=, >, >=, ==, !=`), redefinint dins de la classe mètodes amb noms predefinits:\n",
    "\n",
    "- *Operadors aritmètics*\n",
    "    - `__add__(a, b)` -> `a + b`\n",
    "    - `__sub__(a, b)` -> `a - b`\n",
    "    - `__mul__(a, b)` -> `a * b`\n",
    "    - `__div__(a, b)` -> `a / b`\n",
    "- *Operadors de comparació*\n",
    "    - `__lt__(a, b)` -> `a < b`\n",
    "    - `__le__(a, b)` -> `a <= b`\n",
    "    - `__gt__(a, b)` -> `a > b`\n",
    "    - `__ge__(a, b)` -> `a >= b`  \n",
    "    - `__eq__(a, b)` -> `a == b`  \n",
    "    - `__ne__(a, b)` -> `a != b`  \n",
    "    \n",
    "A la classe `Punt` podem redefinir l'operador `__eq__` per comparar si dos punts són iguals i l'operador `__sub__` per calcular la distància entre dos punts: "
   ]
  },
  {
   "cell_type": "code",
   "execution_count": null,
   "id": "1bf831ea-e256-40d8-8e54-31908c1487da",
   "metadata": {},
   "outputs": [],
   "source": [
    "import math\n",
    "\n",
    "class Punt:\n",
    "    def __init__(self, x = 0, y = 0):\n",
    "        self.x = x\n",
    "        self.y = y\n",
    "    def distancia_origen(self):\n",
    "        return math.sqrt(self.x**2 + self.y**2)   \n",
    "    def punt_mig(self, p):\n",
    "        return Punt((self.x + p.x)/2, (self.y + p.y)/2)\n",
    "    def __sub__(self, p):\n",
    "        return math.sqrt((self.x - p.x)**2 + (self.y - p.y)**2)\n",
    "    def __eq__(self, p):\n",
    "        return self.x == p.x and self.y == p.y\n"
   ]
  },
  {
   "cell_type": "code",
   "execution_count": null,
   "id": "350fc457-5ccc-4997-bba6-6b9804bc1be8",
   "metadata": {},
   "outputs": [],
   "source": [
    "p1 = Punt(0,1)\n",
    "p2 = Punt(1,1)\n",
    "p3 = Punt(1,1)\n",
    "print(p1-p2)"
   ]
  },
  {
   "cell_type": "code",
   "execution_count": null,
   "id": "953be162-6e7b-4d34-9b0d-8a6fb5a58e81",
   "metadata": {},
   "outputs": [],
   "source": [
    "print(p1 == p2)\n",
    "print(p2 == p3)"
   ]
  },
  {
   "cell_type": "markdown",
   "id": "dd37b772-12bf-4bbe-9715-6eb8586af84a",
   "metadata": {},
   "source": [
    "Igualment es pot sobrecarregar el mètode `__str__` per convertir l'objecte en un string i poder mostrar el contingut de l'objecte per pantalla amb el format que vulguem utilitzant la instrucció `print`:"
   ]
  },
  {
   "cell_type": "code",
   "execution_count": null,
   "id": "29b5c8d6-291c-4dc0-a969-03b9db2ae323",
   "metadata": {},
   "outputs": [],
   "source": [
    "import math\n",
    "\n",
    "class Punt:\n",
    "    def __init__(self, x = 0, y = 0):\n",
    "        self.x = x\n",
    "        self.y = y\n",
    "    def distancia_origen(self):\n",
    "        return math.sqrt(self.x**2 + self.y**2)   \n",
    "    def punt_mig(self, p):\n",
    "        return Punt((self.x + p.x)/2, (self.y + p.y)/2)\n",
    "    def __sub__(self, p):\n",
    "        return math.sqrt((self.x - p.x)**2 + (self.y - p.y)**2)\n",
    "    def __eq__(self, p):\n",
    "        return self.x == p.x and self.y == p.y\n",
    "    def __str__(self):  \n",
    "        return \"(\"+ str(self.x) + \", \" + str(self.y) + \")\""
   ]
  },
  {
   "cell_type": "code",
   "execution_count": null,
   "id": "a2714973-c264-4451-bf40-62e528e53c8a",
   "metadata": {},
   "outputs": [],
   "source": [
    "p = Punt(1,1)\n",
    "print(p)\n",
    "s = str(p)\n",
    "s"
   ]
  },
  {
   "cell_type": "code",
   "execution_count": null,
   "id": "b5825478-949a-49a5-8e04-c9a7374c479d",
   "metadata": {},
   "outputs": [],
   "source": []
  }
 ],
 "metadata": {
  "kernelspec": {
   "display_name": "Python 3 (ipykernel)",
   "language": "python",
   "name": "python3"
  },
  "language_info": {
   "codemirror_mode": {
    "name": "ipython",
    "version": 3
   },
   "file_extension": ".py",
   "mimetype": "text/x-python",
   "name": "python",
   "nbconvert_exporter": "python",
   "pygments_lexer": "ipython3",
   "version": "3.8.12"
  },
  "toc-autonumbering": true,
  "toc-showcode": true,
  "toc-showmarkdowntxt": true,
  "toc-showtags": false
 },
 "nbformat": 4,
 "nbformat_minor": 5
}
