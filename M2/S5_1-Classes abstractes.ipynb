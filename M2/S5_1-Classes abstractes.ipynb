{
 "cells": [
  {
   "cell_type": "markdown",
   "id": "300abbb9-dc8d-4ae5-bbff-2f44ef1ab635",
   "metadata": {
    "tags": []
   },
   "source": [
    "# **Classes Abstractes**"
   ]
  },
  {
   "cell_type": "markdown",
   "id": "503b7a2f-817c-4e6f-bf7c-9345639ff36f",
   "metadata": {
    "tags": []
   },
   "source": [
    "#### **Exemple**"
   ]
  },
  {
   "cell_type": "markdown",
   "id": "d4d93922-3909-4cda-889c-96972da3a5cc",
   "metadata": {
    "tags": []
   },
   "source": [
    "Suposem que volem definir un conjunt de classes per poder guardar i manipular diferents figures geomètriques: cercles, rectangles, triangles, etc. \n",
    "\n",
    "Utilitzant una classe `Point` per guardar punts, podem crear classes per gestionar cada tipus de figura, per exemple la classe `Cercle` i la classe `Rectangle`"
   ]
  },
  {
   "cell_type": "code",
   "execution_count": 1,
   "id": "e284f69f-7b1b-4917-b5c8-30bb783ae644",
   "metadata": {},
   "outputs": [],
   "source": [
    "import math\n",
    "    \n",
    "class Point:\n",
    "    def __init__(self, x = 0, y = 0):\n",
    "        self._x = x\n",
    "        self._y = y\n",
    "\n",
    "    @property\n",
    "    def x(self):\n",
    "        return self._x\n",
    "    @x.setter\n",
    "    def x(self, valor):\n",
    "        self._x = valor\n",
    "\n",
    "    @property\n",
    "    def y(self):\n",
    "        return self._y\n",
    "    @y.setter\n",
    "    def y(self, valor):\n",
    "        self._y = valor\n",
    "    \n",
    "    def __sub__(self,p2):\n",
    "        return math.sqrt((self.x - p2.x)**2 + (self.y - p2.y)**2)\n",
    "       \n",
    "    def __str__(self):  \n",
    "        return \"(\"+ str(self.x) + \", \" + str(self.y) + \")\""
   ]
  },
  {
   "cell_type": "code",
   "execution_count": 2,
   "id": "81119429-d4e4-4ac0-b215-9eeb99bca6d0",
   "metadata": {},
   "outputs": [],
   "source": [
    "import numpy as np\n",
    "from dataclasses import dataclass\n",
    "\n",
    "@dataclass\n",
    "class Cercle:\n",
    "    _centre: Point = Point(0,0)\n",
    "    _radi: float = 0.0\n",
    "\n",
    "    def area(self):\n",
    "        return np.pi*self._radi**2\n",
    "\n",
    "    def perimetre(self):\n",
    "        return 2*np.pi*self._radi\n",
    "        \n",
    "    def llegeix(self):\n",
    "        print (\"Coordenades del centre: \")\n",
    "        x = float(input(\"x: \"))\n",
    "        y = float(input(\"y: \"))\n",
    "        self._centre = Point(x,y)\n",
    "        self._radi = float(input(\"Radi: \"))\n",
    "    \n",
    "    def __str__(self):\n",
    "        resultat = \"Centre: \" + str(self._centre) + \"\\n\"\n",
    "        resultat += \"Radi: \" + str(self._radi) + \"\\n\"\n",
    "        return resultat"
   ]
  },
  {
   "cell_type": "code",
   "execution_count": 3,
   "id": "56e9632a-ff65-455e-a375-f1aec12f86f9",
   "metadata": {},
   "outputs": [],
   "source": [
    "from dataclasses import dataclass\n",
    "\n",
    "@dataclass\n",
    "class Rectangle:\n",
    "    _topLeft: Point = Point(0.0,0.0)\n",
    "    _base: float = 0.0\n",
    "    _altura: float = 0.0\n",
    "\n",
    "    def area(self):\n",
    "        return self._base * self._altura\n",
    "\n",
    "    def perimetre(self):\n",
    "        return 2 * self._base + 2 * self._altura\n",
    "        \n",
    "    def llegeix(self):\n",
    "        print (\"Coordenades de la cantonada superior esquerra: \")\n",
    "        x = float(input(\"x: \"))\n",
    "        y = float(input(\"y: \"))\n",
    "        self._topLeft = Point(x,y)\n",
    "        self._base = float(input(\"Base: \"))\n",
    "        self._altura = float(input(\"Altura: \"))\n",
    "    \n",
    "    def __str__(self):\n",
    "        resultat = \"Origen: \" + str(self._topLeft) + \"\\n\" \n",
    "        resultat += \"Base: \" + str(self._base) + \"\\n\" \n",
    "        resultat += \"Altura: \" + str(self._altura) + \"\\n\" \n",
    "        return resultat"
   ]
  },
  {
   "cell_type": "code",
   "execution_count": 4,
   "id": "a8733b36-5b99-4d38-90a9-85e4d911ffca",
   "metadata": {},
   "outputs": [
    {
     "name": "stdout",
     "output_type": "stream",
     "text": [
      "Centre: (0, 0)\n",
      "Radi: 1\n",
      "\n",
      "3.141592653589793 6.283185307179586\n",
      "Origen: (10, 10)\n",
      "Base: 5\n",
      "Altura: 10\n",
      "\n",
      "50 30\n"
     ]
    }
   ],
   "source": [
    "llista_figures = []\n",
    "c = Cercle(Point(0,0), 1)\n",
    "llista_figures.append(c)\n",
    "r = Rectangle(Point(10,10), 5, 10)\n",
    "llista_figures.append(r)\n",
    "for figura in llista_figures:\n",
    "    print(figura)\n",
    "    print(figura.area(), figura.perimetre())"
   ]
  },
  {
   "cell_type": "markdown",
   "id": "db4d8d2e-0180-4ad3-8d36-ab887f896144",
   "metadata": {},
   "source": [
    "A l'exemple anterior volem guardar en una única llista objectes de la classe `Cercle` i de la classe `Rectangle` i poder-hi accedir de la mateixa forma independentment de la classe, utilitzant polimorfisme. \n",
    "\n",
    "Per poder-ho fer, necessitem una classe base que agrupi la interfície comuna de les classes `Cercle` i `Rectangle`. Podem crear una classe base `Figura` que agrupi el que és comú a les dues classes. Fixem-nos que l'únic que comparteixen les dues classes és la interfície pública, la implementació dels mètodes és completament diferent i no comparteixen cap atribut. "
   ]
  },
  {
   "cell_type": "code",
   "execution_count": 5,
   "id": "b3321ecc-bdea-4003-b847-7ae0ae29a876",
   "metadata": {},
   "outputs": [],
   "source": [
    "from dataclasses import dataclass\n",
    "\n",
    "@dataclass\n",
    "class Figura:\n",
    "    def area(self):\n",
    "      raise NotImplementedError()\n",
    "    \n",
    "    def perimetre(self):\n",
    "      raise NotImplementedError()\n",
    "    \n",
    "    def llegeix(self):\n",
    "      raise NotImplementedError()\n",
    "\n",
    "    def __str__(self):\n",
    "      raise NotImplementedError()\n",
    "    \n",
    "class Rectangle(Figura):\n",
    "    pass\n",
    "\n",
    "class Cercle(Figura):\n",
    "    pass\n"
   ]
  },
  {
   "cell_type": "markdown",
   "id": "3010b741-79eb-47fe-a0be-140756bf8bfe",
   "metadata": {},
   "source": [
    "Fixem-nos que la classe `Figura` no pot donar cap implementació concreta pels mètodes de la seva interfície pública (`area`, `perimetre`, ...). La implementació s'ha de fer obligatòriament a les classes derivades de forma específica a cada tipus de figura geomètrica. \n",
    "\n",
    "Tampoc té sentit crear objectes genèrics de la classe `Figura`. Les figures geomètriques hauran de ser sempre d'un tipus de les subclasses `Cercle` o `Rectangle`. La classe `Figura` ens serveix només per tenir una interfície pública comuna. \n",
    "\n",
    "Per tot això, la classe `Figura` s'ha de declarar com una **classe abstracta**."
   ]
  },
  {
   "cell_type": "markdown",
   "id": "eba2d95b-d796-4b2e-a983-d1e2c2609c89",
   "metadata": {
    "tags": []
   },
   "source": [
    "#### **Classes abstractes**\n",
    "\n",
    "- Conté **mètodes abstractes**: mètodes que no es poden implementar a la classe base. \n",
    "- Només proporciona la interfície pública (nom i paràmetres) dels mètodes abstractes. \n",
    "- La implementació dels mètodes abstractes s’ha de fer obligatòriament  a les subclasses. Les subclasses han de donar una implementació per tots els mètodes abstractes. \n",
    "- La classe base abstracta només defineix una interfície comuna per totes les seves classes derivades. \n",
    "- No es poden crear objectes d’una classe base abstracta."
   ]
  },
  {
   "cell_type": "markdown",
   "id": "98804696-1184-4436-9668-996b20222bf0",
   "metadata": {
    "tags": []
   },
   "source": [
    "**Definició i implementació de classes abstractes**\n",
    "\n",
    "`from abc import ABCMeta, abstractmethod`\n",
    "\n",
    "Per definir una classe com abstracta:\n",
    "\n",
    "    class nom_classe(metaclass=ABCMeta):\n",
    "    \n",
    "Per indicar que un mètode és abstracte i s'haurà de definir obligatòriament a les classes derivdes:\n",
    "\n",
    "    @abstractmethod\n",
    "    def nom_metode(...):\n",
    "        ..."
   ]
  },
  {
   "cell_type": "code",
   "execution_count": 6,
   "id": "0cf94b97-0b56-4bac-86bb-702ef955fadd",
   "metadata": {},
   "outputs": [],
   "source": [
    "from abc import ABCMeta, abstractmethod\n",
    "from dataclasses import dataclass\n",
    "\n",
    "@dataclass\n",
    "class Figura(metaclass=ABCMeta):\n",
    "    @abstractmethod\n",
    "    def area(self):\n",
    "      raise NotImplementedError()\n",
    "    \n",
    "    @abstractmethod\n",
    "    def perimetre(self):\n",
    "      raise NotImplementedError()\n",
    "    \n",
    "    @abstractmethod\n",
    "    def llegeix(self):\n",
    "      raise NotImplementedError()\n",
    "\n",
    "    @abstractmethod\n",
    "    def __str__(self):\n",
    "      raise NotImplementedError()"
   ]
  },
  {
   "cell_type": "code",
   "execution_count": 7,
   "id": "4486f88d-e0e7-4d82-a61f-4f6c9c733b51",
   "metadata": {},
   "outputs": [
    {
     "ename": "TypeError",
     "evalue": "Can't instantiate abstract class Figura with abstract methods __str__, area, llegeix, perimetre",
     "output_type": "error",
     "traceback": [
      "\u001b[0;31m---------------------------------------------------------------------------\u001b[0m",
      "\u001b[0;31mTypeError\u001b[0m                                 Traceback (most recent call last)",
      "\u001b[0;32m/var/folders/hr/4b_tm1190gj2tt33yn77h5fh0000gn/T/ipykernel_8970/30469402.py\u001b[0m in \u001b[0;36m<module>\u001b[0;34m\u001b[0m\n\u001b[0;32m----> 1\u001b[0;31m \u001b[0mf\u001b[0m \u001b[0;34m=\u001b[0m \u001b[0mFigura\u001b[0m\u001b[0;34m(\u001b[0m\u001b[0;34m)\u001b[0m\u001b[0;34m\u001b[0m\u001b[0;34m\u001b[0m\u001b[0m\n\u001b[0m",
      "\u001b[0;31mTypeError\u001b[0m: Can't instantiate abstract class Figura with abstract methods __str__, area, llegeix, perimetre"
     ]
    }
   ],
   "source": [
    "f = Figura()"
   ]
  },
  {
   "cell_type": "code",
   "execution_count": 9,
   "id": "befecb6a-2613-4335-9cf2-51b5a0b3de24",
   "metadata": {},
   "outputs": [],
   "source": [
    "from dataclasses import dataclass\n",
    "\n",
    "@dataclass\n",
    "class Rectangle(Figura):\n",
    "    _topLeft: Point = Point(0.0,0.0)\n",
    "    _base: float = 0.0\n",
    "    _altura: float = 0.0\n",
    "\n",
    "    def area(self):\n",
    "        return self._base * self._altura\n",
    "\n",
    "    def perimetre(self):\n",
    "        return 2 * self._base + 2 * self._altura\n",
    "        \n",
    "    def llegeix(self):\n",
    "        print (\"Coordenades de la cantonada superior esquerra: \")\n",
    "        x = float(input(\"x: \"))\n",
    "        y = float(input(\"y: \"))\n",
    "        self._topLeft = Point(x,y)\n",
    "        self._base = float(input(\"Base: \"))\n",
    "        self._altura = float(input(\"Altura: \"))\n",
    "    \n",
    "    def __str__(self):\n",
    "        resultat = \"Origen: \" + str(self._topLeft) + \"\\n\" \n",
    "        resultat += \"Base: \" + str(self._base) + \"\\n\" \n",
    "        resultat += \"Altura: \" + str(self._altura) + \"\\n\" \n",
    "        return resultat"
   ]
  },
  {
   "cell_type": "code",
   "execution_count": 10,
   "id": "cd3dcbfb-40b8-49bb-93e1-142cede9ab46",
   "metadata": {},
   "outputs": [],
   "source": [
    "import numpy as np\n",
    "from dataclasses import dataclass\n",
    "\n",
    "@dataclass\n",
    "class Cercle(Figura):\n",
    "    _centre: Point = Point(0,0)\n",
    "    _radi: float = 0.0\n",
    "\n",
    "    def area(self):\n",
    "        return np.pi*self._radi**2\n",
    "\n",
    "    def perimetre(self):\n",
    "        return 2*np.pi*self._radi\n",
    "        \n",
    "    def llegeix(self):\n",
    "        print (\"Coordenades del centre: \")\n",
    "        x = float(input(\"x: \"))\n",
    "        y = float(input(\"y: \"))\n",
    "        self._centre = Point(x,y)\n",
    "        self._radi = float(input(\"Radi: \"))\n",
    "    \n",
    "    def __str__(self):\n",
    "        resultat = \"Centre: \" + str(self._centre) + \"\\n\"\n",
    "        resultat += \"Radi: \" + str(self._radi) + \"\\n\"\n",
    "        return resultat"
   ]
  },
  {
   "cell_type": "code",
   "execution_count": 11,
   "id": "8a2d9b91-c9f9-4709-9fc8-6f802bd9775d",
   "metadata": {},
   "outputs": [
    {
     "name": "stdout",
     "output_type": "stream",
     "text": [
      "Centre: (0, 0)\n",
      "Radi: 1\n",
      "\n",
      "3.141592653589793 6.283185307179586\n",
      "Origen: (10, 10)\n",
      "Base: 5\n",
      "Altura: 10\n",
      "\n",
      "50 30\n"
     ]
    }
   ],
   "source": [
    "llista_figures = []\n",
    "c = Cercle(Point(0,0), 1)\n",
    "llista_figures.append(c)\n",
    "r = Rectangle(Point(10,10), 5, 10)\n",
    "llista_figures.append(r)\n",
    "for figura in llista_figures:\n",
    "    print(figura)\n",
    "    print(figura.area(), figura.perimetre())"
   ]
  },
  {
   "cell_type": "markdown",
   "id": "0af940bb-bd56-4013-ac3d-95e16f17763d",
   "metadata": {},
   "source": [
    "Apart de la interfície comuna de les classes derivades, les classes abstractes poden tenir també els seus propis atributs i mètodes no abstractes que són heretats i poden ser utilitzats per les classes derivades, igual que en l'herència de classes no abstractes.\n",
    "\n",
    "Els mètodes abstractes de la classe base poden contenir part de la implementació comuna del mètode, que pot ser utilitzada pels mètodes de les classes derivades accedint amb `super()`, igual que amb l'herència de classes no abstractes. "
   ]
  },
  {
   "cell_type": "markdown",
   "id": "76a3ec3b-1c3f-485a-b862-fddcb43923d8",
   "metadata": {},
   "source": [
    "#### **Exercici**\n",
    "\n",
    "Anem a modificar la jerarquia de classes anterior de `Figura` - `Cercle`/`Rectangle` per  guardar també l'amplada i l'alçada de totes les figures i tenir mètodes comuns a la classe base que permetin recuperar el seu valor. Quan es converteix una figura en un string també s'hi ha d'afegir l'amplada i l'alçada"
   ]
  },
  {
   "cell_type": "code",
   "execution_count": 12,
   "id": "6808fed3-3ab4-46d3-98e3-c37356aeff1f",
   "metadata": {},
   "outputs": [],
   "source": [
    "from abc import ABCMeta, abstractmethod\n",
    "from dataclasses import dataclass, field\n",
    "\n",
    "@dataclass\n",
    "class Figura(metaclass=ABCMeta):\n",
    "    \n",
    "    @property\n",
    "    @abstractmethod\n",
    "    def amplada(self):\n",
    "        pass\n",
    "    \n",
    "    @property\n",
    "    @abstractmethod\n",
    "    def alcada(self):\n",
    "        pass\n",
    "    \n",
    "    @abstractmethod\n",
    "    def area(self):\n",
    "      raise NotImplementedError()\n",
    "    \n",
    "    @abstractmethod\n",
    "    def perimetre(self):\n",
    "      raise NotImplementedError()\n",
    "    \n",
    "    @abstractmethod\n",
    "    def llegeix(self):\n",
    "      raise NotImplementedError()\n",
    "\n",
    "    @abstractmethod\n",
    "    def __str__(self):\n",
    "        resultat = \"Amplada: \" + str(self.amplada) + \"\\n\"\n",
    "        resultat += \"Alcada: \" + str(self.alcada) + \"\\n\"\n",
    "        return resultat"
   ]
  },
  {
   "cell_type": "code",
   "execution_count": 13,
   "id": "af9e3b8a-6add-4cdc-b006-fc9280c93db7",
   "metadata": {},
   "outputs": [],
   "source": [
    "from dataclasses import dataclass\n",
    "\n",
    "@dataclass\n",
    "class Rectangle(Figura):\n",
    "    _topLeft: Point = Point(0.0,0.0)\n",
    "    _base: float = 0.0\n",
    "    _altura: float = 0.0\n",
    "\n",
    "    @property\n",
    "    def amplada(self):\n",
    "        return self._base\n",
    "    \n",
    "    @property\n",
    "    def alcada(self):\n",
    "        return self._altura\n",
    "    \n",
    "    def area(self):\n",
    "        return self._base * self._altura\n",
    "\n",
    "    def perimetre(self):\n",
    "        return 2 * self._base + 2 * self._altura\n",
    "        \n",
    "    def llegeix(self):\n",
    "        print (\"Coordenades de la cantonada superior esquerra: \")\n",
    "        x = float(input(\"x: \"))\n",
    "        y = float(input(\"y: \"))\n",
    "        self._topLeft = Point(x,y)\n",
    "        self._base = float(input(\"Base: \"))\n",
    "        self._altura = float(input(\"Altura: \"))\n",
    "    \n",
    "    def __str__(self):\n",
    "        resultat = \"Origen: \" + str(self._topLeft) + \"\\n\" \n",
    "        resultat += \"Base: \" + str(self._base) + \"\\n\" \n",
    "        resultat += \"Altura: \" + str(self._altura) + \"\\n\" \n",
    "        resultat += super().__str__()\n",
    "        return resultat"
   ]
  },
  {
   "cell_type": "code",
   "execution_count": 14,
   "id": "3f28e4e4-b6e5-4302-860e-7a38373aceb5",
   "metadata": {},
   "outputs": [],
   "source": [
    "import numpy as np\n",
    "from dataclasses import dataclass\n",
    "\n",
    "@dataclass\n",
    "class Cercle(Figura):\n",
    "    _centre: Point = Point(0,0)\n",
    "    _radi: float = 0.0\n",
    "\n",
    "    def __post_init__(self):\n",
    "        self._amplada = self._radi*2\n",
    "        self._alcada = self._radi*2\n",
    "\n",
    "    @property\n",
    "    def amplada(self):\n",
    "        return self._radi*2\n",
    "    \n",
    "    @property\n",
    "    def alcada(self):\n",
    "        return self._radi*2\n",
    "    \n",
    "    def area(self):\n",
    "        return np.pi*self._radi**2\n",
    "\n",
    "    def perimetre(self):\n",
    "        return 2*np.pi*self._radi\n",
    "        \n",
    "    def llegeix(self):\n",
    "        print (\"Coordenades del centre: \")\n",
    "        x = float(input(\"x: \"))\n",
    "        y = float(input(\"y: \"))\n",
    "        self._centre = Point(x,y)\n",
    "        self._radi = float(input(\"Radi: \"))\n",
    "    \n",
    "    def __str__(self):\n",
    "        resultat = \"Centre: \" + str(self._centre) + \"\\n\"\n",
    "        resultat += \"Radi: \" + str(self._radi) + \"\\n\"\n",
    "        resultat += super().__str__()\n",
    "        return resultat"
   ]
  },
  {
   "cell_type": "code",
   "execution_count": 15,
   "id": "fb61cc8d-f8bb-44ed-b4cd-edc54049d9d1",
   "metadata": {},
   "outputs": [
    {
     "name": "stdout",
     "output_type": "stream",
     "text": [
      "Centre: (0, 0)\n",
      "Radi: 1\n",
      "Amplada: 2\n",
      "Alcada: 2\n",
      "\n",
      "3.141592653589793 6.283185307179586\n",
      "Origen: (10, 10)\n",
      "Base: 5\n",
      "Altura: 10\n",
      "Amplada: 5\n",
      "Alcada: 10\n",
      "\n",
      "50 30\n"
     ]
    }
   ],
   "source": [
    "llista_figures = []\n",
    "c = Cercle(Point(0,0), 1)\n",
    "llista_figures.append(c)\n",
    "r = Rectangle(Point(10,10), 5, 10)\n",
    "llista_figures.append(r)\n",
    "for figura in llista_figures:\n",
    "    print(figura)\n",
    "    print(figura.area(), figura.perimetre())"
   ]
  },
  {
   "cell_type": "code",
   "execution_count": 16,
   "id": "11ae0a19-701c-4b5c-b3dd-66603d8691bb",
   "metadata": {},
   "outputs": [],
   "source": [
    "from abc import ABCMeta, abstractmethod\n",
    "from dataclasses import dataclass, field\n",
    "\n",
    "@dataclass\n",
    "class Figura(metaclass=ABCMeta):\n",
    "    \n",
    "    @property\n",
    "    @abstractmethod\n",
    "    def amplada(self):\n",
    "        pass\n",
    "    \n",
    "    @property\n",
    "    @abstractmethod\n",
    "    def alcada(self):\n",
    "        pass\n",
    "    \n",
    "    @abstractmethod\n",
    "    def area(self):\n",
    "      raise NotImplementedError()\n",
    "    \n",
    "    @abstractmethod\n",
    "    def perimetre(self):\n",
    "      raise NotImplementedError()\n",
    "    \n",
    "    @abstractmethod\n",
    "    def llegeix(self):\n",
    "      raise NotImplementedError()\n",
    "\n",
    "    @abstractmethod\n",
    "    def __str__(self):\n",
    "        resultat = \"Amplada: \" + str(self.amplada) + \"\\n\"\n",
    "        resultat += \"Alcada: \" + str(self.alcada) + \"\\n\"\n",
    "        return resultat"
   ]
  },
  {
   "cell_type": "code",
   "execution_count": 17,
   "id": "945e97c2-e9bc-4845-afc1-c3fda38a2d39",
   "metadata": {},
   "outputs": [],
   "source": [
    "from dataclasses import dataclass\n",
    "\n",
    "@dataclass\n",
    "class Rectangle(Figura):\n",
    "    _topLeft: Point = Point(0.0,0.0)\n",
    "    _base: float = 0.0\n",
    "    _altura: float = 0.0\n",
    "    \n",
    "    @property\n",
    "    def amplada(self):\n",
    "        return self._base\n",
    "    \n",
    "    @property\n",
    "    def alcada(self):\n",
    "        return self._altura    \n",
    "    \n",
    "    def area(self):\n",
    "        return self._base * self._altura\n",
    "\n",
    "    def perimetre(self):\n",
    "        return 2 * self._base + 2 * self._altura\n",
    "        \n",
    "    def llegeix(self):\n",
    "        print (\"Coordenades de la cantonada superior esquerra: \")\n",
    "        x = float(input(\"x: \"))\n",
    "        y = float(input(\"y: \"))\n",
    "        self._topLeft = Point(x,y)\n",
    "        self._base = float(input(\"Base: \"))\n",
    "        self._altura = float(input(\"Altura: \"))\n",
    "    \n",
    "    def __str__(self):\n",
    "        resultat = \"Origen: \" + str(self._topLeft) + \"\\n\" \n",
    "        resultat += \"Base: \" + str(self._base) + \"\\n\" \n",
    "        resultat += \"Altura: \" + str(self._altura) + \"\\n\" \n",
    "        resultat += super().__str__()\n",
    "        return resultat"
   ]
  },
  {
   "cell_type": "code",
   "execution_count": 18,
   "id": "d1a56399-47a5-4955-86a6-75598a8f7828",
   "metadata": {},
   "outputs": [],
   "source": [
    "import numpy as np\n",
    "from dataclasses import dataclass\n",
    "\n",
    "@dataclass\n",
    "class Cercle(Figura):\n",
    "    _centre: Point = Point(0,0)\n",
    "    _radi: float = 0.0\n",
    "\n",
    "    @property\n",
    "    def amplada(self):\n",
    "        return self._radi*2\n",
    "    \n",
    "    @property\n",
    "    def alcada(self):\n",
    "        return self._radi*2    \n",
    "        \n",
    "    def area(self):\n",
    "        return np.pi*self._radi**2\n",
    "\n",
    "    def perimetre(self):\n",
    "        return 2*np.pi*self._radi\n",
    "        \n",
    "    def llegeix(self):\n",
    "        print (\"Coordenades del centre: \")\n",
    "        x = float(input(\"x: \"))\n",
    "        y = float(input(\"y: \"))\n",
    "        self._centre = Point(x,y)\n",
    "        self._radi = float(input(\"Radi: \"))\n",
    "    \n",
    "    def __str__(self):\n",
    "        resultat = \"Centre: \" + str(self._centre) + \"\\n\"\n",
    "        resultat += \"Radi: \" + str(self._radi) + \"\\n\"\n",
    "        resultat += super().__str__()\n",
    "        return resultat"
   ]
  },
  {
   "cell_type": "code",
   "execution_count": 19,
   "id": "f4aa3bd5-8ad1-477a-a466-82a47e3d4525",
   "metadata": {},
   "outputs": [
    {
     "name": "stdout",
     "output_type": "stream",
     "text": [
      "Centre: (0, 0)\n",
      "Radi: 1\n",
      "Amplada: 2\n",
      "Alcada: 2\n",
      "\n",
      "3.141592653589793 6.283185307179586\n",
      "Origen: (10, 10)\n",
      "Base: 5\n",
      "Altura: 10\n",
      "Amplada: 5\n",
      "Alcada: 10\n",
      "\n",
      "50 30\n"
     ]
    }
   ],
   "source": [
    "llista_figures = []\n",
    "c = Cercle(Point(0,0), 1)\n",
    "llista_figures.append(c)\n",
    "r = Rectangle(Point(10,10), 5, 10)\n",
    "llista_figures.append(r)\n",
    "for figura in llista_figures:\n",
    "    print(figura)\n",
    "    print(figura.area(), figura.perimetre())"
   ]
  },
  {
   "cell_type": "code",
   "execution_count": null,
   "id": "63f0963a-a4dc-43ae-915d-4969c8cba932",
   "metadata": {},
   "outputs": [],
   "source": []
  }
 ],
 "metadata": {
  "kernelspec": {
   "display_name": "Python 3 (ipykernel)",
   "language": "python",
   "name": "python3"
  },
  "language_info": {
   "codemirror_mode": {
    "name": "ipython",
    "version": 3
   },
   "file_extension": ".py",
   "mimetype": "text/x-python",
   "name": "python",
   "nbconvert_exporter": "python",
   "pygments_lexer": "ipython3",
   "version": "3.8.8"
  }
 },
 "nbformat": 4,
 "nbformat_minor": 5
}
