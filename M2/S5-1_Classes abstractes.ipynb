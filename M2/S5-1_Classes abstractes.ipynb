{
 "cells": [
  {
   "cell_type": "markdown",
   "id": "300abbb9-dc8d-4ae5-bbff-2f44ef1ab635",
   "metadata": {
    "tags": []
   },
   "source": [
    "<div style=\"width: 100%; clear: both;\">\n",
    "<div style=\"float: left; width: 50%;\">\n",
    "<img src=\"data:image/jpeg;base64,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\", align=\"left\">\n",
    "</div>\n",
    "</div>\n",
    "<div style=\"float: right; width: 50%;\">\n",
    "    <p style=\"margin: 0; padding-top: 22px; text-align:right;\"><b>104338 - Programació Avançada</b></p>\n",
    "    <p style=\"margin: 0; text-align:right;\">Grau en Enginyeria de Dades</p>\n",
    "    <p style=\"margin: 0; text-align:right;\">Universitat Autònoma de Barcelona (UAB)</p>\n",
    "</div>\n",
    "<div style=\"width: 100%; clear: both;\"></div>\n",
    "<div style=\"width:100%;\">&nbsp;</div>"
   ]
  },
  {
   "cell_type": "markdown",
   "id": "503b7a2f-817c-4e6f-bf7c-9345639ff36f",
   "metadata": {
    "tags": []
   },
   "source": [
    "# Classes Abstractes"
   ]
  },
  {
   "cell_type": "markdown",
   "id": "d4d93922-3909-4cda-889c-96972da3a5cc",
   "metadata": {
    "tags": []
   },
   "source": [
    "Suposem que volem definir un conjunt de classes per poder guardar i manipular diferents figures geomètriques: \n",
    "- cercles, \n",
    "- rectangles, \n",
    "- triangles, \n",
    "- etc. \n",
    "\n",
    "Utilitzant una classe `Point` per guardar punts, podem crear classes per gestionar cada tipus de figura, per exemple la classe `Cercle` i la classe `Rectangle`."
   ]
  },
  {
   "cell_type": "code",
   "execution_count": 10,
   "id": "e284f69f-7b1b-4917-b5c8-30bb783ae644",
   "metadata": {},
   "outputs": [],
   "source": [
    "import math\n",
    "    \n",
    "class Point:\n",
    "    _x: float\n",
    "    _y: float\n",
    "    \n",
    "    def __init__(self, x = 0, y = 0):\n",
    "        self._x = x\n",
    "        self._y = y\n",
    "\n",
    "    @property\n",
    "    def x(self):\n",
    "        return self._x\n",
    "    @x.setter\n",
    "    def x(self, valor):\n",
    "        self._x = valor\n",
    "\n",
    "    @property\n",
    "    def y(self):\n",
    "        return self._y\n",
    "    @y.setter\n",
    "    def y(self, valor):\n",
    "        self._y = valor\n",
    "    \n",
    "    def __sub__(self,p2):\n",
    "        return math.sqrt((self.x - p2.x)**2 + (self.y - p2.y)**2)\n",
    "       \n",
    "    def __str__(self):  \n",
    "        return \"(\"+ str(self.x) + \", \" + str(self.y) + \")\""
   ]
  },
  {
   "cell_type": "code",
   "execution_count": 11,
   "id": "81119429-d4e4-4ac0-b215-9eeb99bca6d0",
   "metadata": {},
   "outputs": [],
   "source": [
    "import numpy as np\n",
    "\n",
    "class Cercle:\n",
    "    _centre: Point = Point(0.0,0.0)\n",
    "    _radi: float = 0.0\n",
    "    \n",
    "    def __init__(self, centre: Point=Point(0,0), radi: float=0.0) -> None:\n",
    "        self._centre = centre\n",
    "        self._radi = radi\n",
    "\n",
    "    def area(self):\n",
    "        return np.pi*self._radi**2\n",
    "\n",
    "    def perimetre(self):\n",
    "        return 2*np.pi*self._radi\n",
    "        \n",
    "    def llegeix(self):\n",
    "        print (\"Coordenades del centre: \")\n",
    "        x = float(input(\"x: \"))\n",
    "        y = float(input(\"y: \"))\n",
    "        self._centre = Point(x,y)\n",
    "        self._radi = float(input(\"Radi: \"))\n",
    "    \n",
    "    def __str__(self):\n",
    "        resultat = \"Centre: \" + str(self._centre) + \"\\n\"\n",
    "        resultat += \"Radi: \" + str(self._radi) + \"\\n\"\n",
    "        return resultat"
   ]
  },
  {
   "cell_type": "code",
   "execution_count": 12,
   "id": "56e9632a-ff65-455e-a375-f1aec12f86f9",
   "metadata": {},
   "outputs": [],
   "source": [
    "class Rectangle:\n",
    "    _topLeft: Point = Point(0.0,0.0)\n",
    "    _base: float = 0.0\n",
    "    _altura: float = 0.0\n",
    "    \n",
    "    def __init__(self, topLeft: Point=Point(0,0), base: float=0.0, altura: float=0.0) -> None:\n",
    "        self._topLeft = topLeft\n",
    "        self._base = base\n",
    "        self._altura = altura\n",
    "\n",
    "    def area(self):\n",
    "        return self._base * self._altura\n",
    "\n",
    "    def perimetre(self):\n",
    "        return 2 * self._base + 2 * self._altura\n",
    "        \n",
    "    def llegeix(self):\n",
    "        print (\"Coordenades de la cantonada superior esquerra: \")\n",
    "        x = float(input(\"x: \"))\n",
    "        y = float(input(\"y: \"))\n",
    "        self._topLeft = Point(x,y)\n",
    "        self._base = float(input(\"Base: \"))\n",
    "        self._altura = float(input(\"Altura: \"))\n",
    "    \n",
    "    def __str__(self):\n",
    "        resultat = \"Origen: \" + str(self._topLeft) + \"\\n\" \n",
    "        resultat += \"Base: \" + str(self._base) + \"\\n\" \n",
    "        resultat += \"Altura: \" + str(self._altura) + \"\\n\" \n",
    "        return resultat"
   ]
  },
  {
   "cell_type": "code",
   "execution_count": 13,
   "id": "a8733b36-5b99-4d38-90a9-85e4d911ffca",
   "metadata": {},
   "outputs": [
    {
     "name": "stdout",
     "output_type": "stream",
     "text": [
      "Centre: (0, 0)\n",
      "Radi: 1\n",
      "\n",
      "3.141592653589793 6.283185307179586\n",
      "Origen: (10, 10)\n",
      "Base: 5\n",
      "Altura: 10\n",
      "\n",
      "50 30\n"
     ]
    }
   ],
   "source": [
    "llista_figures = []\n",
    "\n",
    "c = Cercle(Point(0,0), 1)\n",
    "llista_figures.append(c)\n",
    "\n",
    "r = Rectangle(Point(10,10), 5, 10)\n",
    "llista_figures.append(r)\n",
    "\n",
    "for figura in llista_figures:\n",
    "    print(figura)\n",
    "    print(figura.area(), figura.perimetre())"
   ]
  },
  {
   "cell_type": "markdown",
   "id": "db4d8d2e-0180-4ad3-8d36-ab887f896144",
   "metadata": {},
   "source": [
    "A l'exemple anterior volem guardar en una única llista objectes de la classe `Cercle` i de la classe `Rectangle` i poder-hi accedir de la mateixa forma independentment de la classe, utilitzant polimorfisme:\n",
    "\n",
    "1. Per poder-ho fer, necessitem una classe base que agrupi la interfície comuna de les classes `Cercle` i `Rectangle`. \n",
    "2. Podem crear una classe base `Figura` que agrupi el que és comú a les dues classes. \n",
    "3. Fixem-nos que l'únic que comparteixen les dues classes és la interfície pública, la implementació dels mètodes és completament diferent i no comparteixen cap atribut. "
   ]
  },
  {
   "cell_type": "code",
   "execution_count": 14,
   "id": "b3321ecc-bdea-4003-b847-7ae0ae29a876",
   "metadata": {},
   "outputs": [],
   "source": [
    "class Figura:\n",
    "    def area(self):\n",
    "      raise NotImplementedError()\n",
    "    \n",
    "    def perimetre(self):\n",
    "      raise NotImplementedError()\n",
    "    \n",
    "    def llegeix(self):\n",
    "      raise NotImplementedError()\n",
    "\n",
    "    def __str__(self):\n",
    "      raise NotImplementedError()\n",
    "    \n",
    "class Rectangle(Figura):\n",
    "    pass\n",
    "\n",
    "class Cercle(Figura):\n",
    "    pass"
   ]
  },
  {
   "cell_type": "markdown",
   "id": "3010b741-79eb-47fe-a0be-140756bf8bfe",
   "metadata": {},
   "source": [
    "Fixem-nos que la classe `Figura` no pot donar cap implementació concreta pels mètodes de la seva interfície pública (`area`, `perimetre`, ...). \n",
    "\n",
    "La implementació s'ha de fer **obligatòriament a les classes derivades** de forma específica a cada tipus de figura geomètrica. \n",
    "\n",
    "Tampoc té sentit crear objectes genèrics de la classe `Figura`. Les figures geomètriques hauran de ser sempre d'un tipus de les subclasses `Cercle` o `Rectangle`. \n",
    "\n",
    "La classe `Figura` ens serveix només per tenir una **interfície pública comuna**. \n",
    "\n",
    "Per tot això, la classe `Figura` s'ha de declarar com una **classe abstracta**."
   ]
  },
  {
   "cell_type": "markdown",
   "id": "eba2d95b-d796-4b2e-a983-d1e2c2609c89",
   "metadata": {
    "tags": []
   },
   "source": [
    "## Classes abstractes\n",
    "\n",
    "Característiques de la classes abastractes:\n",
    "\n",
    "- Conté **mètodes abstractes**: mètodes que no es poden implementar a la classe base. \n",
    "- Només proporciona la interfície pública (nom i paràmetres) dels mètodes abstractes. \n",
    "- La implementació dels mètodes abstractes s’ha de fer obligatòriament  a les subclasses. Les subclasses han de donar una implementació per tots els mètodes abstractes. \n",
    "- La classe base abstracta només defineix una interfície comuna per totes les seves classes derivades. \n",
    "- No es poden crear objectes d’una classe base abstracta."
   ]
  },
  {
   "cell_type": "markdown",
   "id": "98804696-1184-4436-9668-996b20222bf0",
   "metadata": {
    "tags": []
   },
   "source": [
    "### Definició i implementació de classes abstractes\n",
    "\n",
    "`from abc import ABCMeta, abstractmethod`\n",
    "\n",
    "Per definir una classe com abstracta:\n",
    "\n",
    "    class nom_classe(metaclass=ABCMeta):\n",
    "    \n",
    "Per indicar que un mètode és abstracte i s'haurà de definir obligatòriament a les classes derivdes:\n",
    "\n",
    "    @abstractmethod\n",
    "    def nom_metode(...):\n",
    "        ..."
   ]
  },
  {
   "cell_type": "code",
   "execution_count": 15,
   "id": "0cf94b97-0b56-4bac-86bb-702ef955fadd",
   "metadata": {},
   "outputs": [],
   "source": [
    "from abc import ABCMeta, abstractmethod\n",
    "from dataclasses import dataclass\n",
    "\n",
    "@dataclass\n",
    "class Figura(metaclass=ABCMeta):\n",
    "    @abstractmethod\n",
    "    def area(self):\n",
    "      raise NotImplementedError()\n",
    "    \n",
    "    @abstractmethod\n",
    "    def perimetre(self):\n",
    "      raise NotImplementedError()\n",
    "    \n",
    "    @abstractmethod\n",
    "    def llegeix(self):\n",
    "      raise NotImplementedError()\n",
    "\n",
    "    @abstractmethod\n",
    "    def __str__(self):\n",
    "      raise NotImplementedError()"
   ]
  },
  {
   "cell_type": "code",
   "execution_count": 16,
   "id": "4486f88d-e0e7-4d82-a61f-4f6c9c733b51",
   "metadata": {},
   "outputs": [
    {
     "ename": "TypeError",
     "evalue": "Can't instantiate abstract class Figura with abstract methods __str__, area, llegeix, perimetre",
     "output_type": "error",
     "traceback": [
      "\u001b[0;31m---------------------------------------------------------------------------\u001b[0m",
      "\u001b[0;31mTypeError\u001b[0m                                 Traceback (most recent call last)",
      "\u001b[0;32m/var/folders/hr/4b_tm1190gj2tt33yn77h5fh0000gn/T/ipykernel_63082/30469402.py\u001b[0m in \u001b[0;36m<module>\u001b[0;34m\u001b[0m\n\u001b[0;32m----> 1\u001b[0;31m \u001b[0mf\u001b[0m \u001b[0;34m=\u001b[0m \u001b[0mFigura\u001b[0m\u001b[0;34m(\u001b[0m\u001b[0;34m)\u001b[0m\u001b[0;34m\u001b[0m\u001b[0;34m\u001b[0m\u001b[0m\n\u001b[0m",
      "\u001b[0;31mTypeError\u001b[0m: Can't instantiate abstract class Figura with abstract methods __str__, area, llegeix, perimetre"
     ]
    }
   ],
   "source": [
    "f = Figura()"
   ]
  },
  {
   "cell_type": "code",
   "execution_count": 17,
   "id": "befecb6a-2613-4335-9cf2-51b5a0b3de24",
   "metadata": {},
   "outputs": [],
   "source": [
    "class Rectangle(Figura):\n",
    "    _topLeft: Point = Point(0.0,0.0)\n",
    "    _base: float = 0.0\n",
    "    _altura: float = 0.0\n",
    "    \n",
    "    def __init__(self, topLeft: Point=Point(0,0), base: float=0.0, altura: float=0.0) -> None:\n",
    "        self._topLeft = topLeft\n",
    "        self._base = base\n",
    "        self._altura = altura\n",
    "\n",
    "    def area(self):\n",
    "        return self._base * self._altura\n",
    "\n",
    "    def perimetre(self):\n",
    "        return 2 * self._base + 2 * self._altura\n",
    "        \n",
    "    def llegeix(self):\n",
    "        print (\"Coordenades de la cantonada superior esquerra: \")\n",
    "        x = float(input(\"x: \"))\n",
    "        y = float(input(\"y: \"))\n",
    "        self._topLeft = Point(x,y)\n",
    "        self._base = float(input(\"Base: \"))\n",
    "        self._altura = float(input(\"Altura: \"))\n",
    "    \n",
    "    def __str__(self):\n",
    "        resultat = \"Origen: \" + str(self._topLeft) + \"\\n\" \n",
    "        resultat += \"Base: \" + str(self._base) + \"\\n\" \n",
    "        resultat += \"Altura: \" + str(self._altura) + \"\\n\" \n",
    "        return resultat"
   ]
  },
  {
   "cell_type": "code",
   "execution_count": 18,
   "id": "cd3dcbfb-40b8-49bb-93e1-142cede9ab46",
   "metadata": {},
   "outputs": [],
   "source": [
    "import numpy as np\n",
    "\n",
    "class Cercle(Figura):\n",
    "    _centre: Point = Point(0,0)\n",
    "    _radi: float = 0.0\n",
    "    \n",
    "    def __init__(self, centre: Point=Point(0,0), radi: float=0.0) -> None:\n",
    "        self._centre = centre\n",
    "        self._radi = radi\n",
    "\n",
    "    def area(self):\n",
    "        return np.pi*self._radi**2\n",
    "\n",
    "    def perimetre(self):\n",
    "        return 2*np.pi*self._radi\n",
    "        \n",
    "    def llegeix(self):\n",
    "        print (\"Coordenades del centre: \")\n",
    "        x = float(input(\"x: \"))\n",
    "        y = float(input(\"y: \"))\n",
    "        self._centre = Point(x,y)\n",
    "        self._radi = float(input(\"Radi: \"))\n",
    "    \n",
    "    def __str__(self):\n",
    "        resultat = \"Centre: \" + str(self._centre) + \"\\n\"\n",
    "        resultat += \"Radi: \" + str(self._radi) + \"\\n\"\n",
    "        return resultat"
   ]
  },
  {
   "cell_type": "code",
   "execution_count": 19,
   "id": "8a2d9b91-c9f9-4709-9fc8-6f802bd9775d",
   "metadata": {},
   "outputs": [
    {
     "name": "stdout",
     "output_type": "stream",
     "text": [
      "Centre: (0, 0)\n",
      "Radi: 1\n",
      "\n",
      "3.141592653589793 6.283185307179586\n",
      "Origen: (10, 10)\n",
      "Base: 5\n",
      "Altura: 10\n",
      "\n",
      "50 30\n"
     ]
    }
   ],
   "source": [
    "llista_figures = []\n",
    "\n",
    "c = Cercle(Point(0,0), 1)\n",
    "llista_figures.append(c)\n",
    "\n",
    "r = Rectangle(Point(10,10), 5, 10)\n",
    "llista_figures.append(r)\n",
    "\n",
    "for figura in llista_figures:\n",
    "    print(figura)\n",
    "    print(figura.area(), figura.perimetre())"
   ]
  },
  {
   "cell_type": "markdown",
   "id": "0af940bb-bd56-4013-ac3d-95e16f17763d",
   "metadata": {},
   "source": [
    "Apart de la interfície comuna de les classes derivades, les **classes abstractes** poden tenir també els seus **propis atributs i mètodes no abstractes** que són heretats i poden ser utilitzats per les classes derivades, igual que en l'herència de classes no abstractes.\n",
    "\n",
    "Els mètodes abstractes de la classe base poden contenir part de la implementació comuna del mètode, que pot ser utilitzada pels mètodes de les classes derivades accedint amb `super()`, igual que amb l'herència de classes no abstractes. "
   ]
  },
  {
   "cell_type": "markdown",
   "id": "76a3ec3b-1c3f-485a-b862-fddcb43923d8",
   "metadata": {},
   "source": [
    "### Afegir atributs comuns\n",
    "\n",
    "Anem a modificar la jerarquia de classes anterior de `Figura` - `Cercle`/`Rectangle` per  guardar també l'amplada i l'alçada de totes les figures i tenir mètodes comuns a la classe base que permetin recuperar el seu valor. \n",
    "\n",
    "Quan es converteix una figura en un _string_ també s'hi ha d'afegir l'amplada i l'alçada."
   ]
  },
  {
   "cell_type": "code",
   "execution_count": 20,
   "id": "6808fed3-3ab4-46d3-98e3-c37356aeff1f",
   "metadata": {},
   "outputs": [],
   "source": [
    "from abc import ABCMeta, abstractmethod\n",
    "\n",
    "class Figura(metaclass=ABCMeta):\n",
    "    \n",
    "    @property\n",
    "    @abstractmethod\n",
    "    def amplada(self):\n",
    "        pass\n",
    "    \n",
    "    @property\n",
    "    @abstractmethod\n",
    "    def alcada(self):\n",
    "        pass\n",
    "    \n",
    "    @abstractmethod\n",
    "    def area(self):\n",
    "      raise NotImplementedError()\n",
    "    \n",
    "    @abstractmethod\n",
    "    def perimetre(self):\n",
    "      raise NotImplementedError()\n",
    "    \n",
    "    @abstractmethod\n",
    "    def llegeix(self):\n",
    "      raise NotImplementedError()\n",
    "\n",
    "    @abstractmethod\n",
    "    def __str__(self):\n",
    "        resultat = \"Amplada: \" + str(self.amplada) + \"\\n\"\n",
    "        resultat += \"Alcada: \" + str(self.alcada) + \"\\n\"\n",
    "        return resultat"
   ]
  },
  {
   "cell_type": "code",
   "execution_count": 21,
   "id": "af9e3b8a-6add-4cdc-b006-fc9280c93db7",
   "metadata": {},
   "outputs": [],
   "source": [
    "class Rectangle(Figura):\n",
    "    _topLeft: Point = Point(0.0,0.0)\n",
    "    _base: float = 0.0\n",
    "    _altura: float = 0.0\n",
    "    \n",
    "    def __init__(self, topLeft: Point=Point(0,0), base: float=0.0, altura: float=0.0) -> None:\n",
    "        self._topLeft = topLeft\n",
    "        self._base = base\n",
    "        self._altura = altura\n",
    "\n",
    "    @property\n",
    "    def amplada(self):\n",
    "        return self._base\n",
    "    \n",
    "    @property\n",
    "    def alcada(self):\n",
    "        return self._altura\n",
    "    \n",
    "    def area(self):\n",
    "        return self._base * self._altura\n",
    "\n",
    "    def perimetre(self):\n",
    "        return 2 * self._base + 2 * self._altura\n",
    "        \n",
    "    def llegeix(self):\n",
    "        print (\"Coordenades de la cantonada superior esquerra: \")\n",
    "        x = float(input(\"x: \"))\n",
    "        y = float(input(\"y: \"))\n",
    "        self._topLeft = Point(x,y)\n",
    "        self._base = float(input(\"Base: \"))\n",
    "        self._altura = float(input(\"Altura: \"))\n",
    "    \n",
    "    def __str__(self):\n",
    "        resultat = \"Origen: \" + str(self._topLeft) + \"\\n\" \n",
    "        resultat += \"Base: \" + str(self._base) + \"\\n\" \n",
    "        resultat += \"Altura: \" + str(self._altura) + \"\\n\" \n",
    "        resultat += super().__str__()\n",
    "        return resultat"
   ]
  },
  {
   "cell_type": "code",
   "execution_count": 22,
   "id": "3f28e4e4-b6e5-4302-860e-7a38373aceb5",
   "metadata": {},
   "outputs": [],
   "source": [
    "import numpy as np\n",
    "\n",
    "class Cercle(Figura):\n",
    "    _centre: Point = Point(0,0)\n",
    "    _radi: float = 0.0\n",
    "    \n",
    "    def __init__(self, centre: Point=Point(0,0), radi: float=0.0) -> None:\n",
    "        self._centre = centre\n",
    "        self._radi = radi\n",
    "\n",
    "    def __post_init__(self):\n",
    "        self._amplada = self._radi*2\n",
    "        self._alcada = self._radi*2\n",
    "\n",
    "    @property\n",
    "    def amplada(self):\n",
    "        return self._radi*2\n",
    "    \n",
    "    @property\n",
    "    def alcada(self):\n",
    "        return self._radi*2\n",
    "    \n",
    "    def area(self):\n",
    "        return np.pi*self._radi**2\n",
    "\n",
    "    def perimetre(self):\n",
    "        return 2*np.pi*self._radi\n",
    "        \n",
    "    def llegeix(self):\n",
    "        print (\"Coordenades del centre: \")\n",
    "        x = float(input(\"x: \"))\n",
    "        y = float(input(\"y: \"))\n",
    "        self._centre = Point(x,y)\n",
    "        self._radi = float(input(\"Radi: \"))\n",
    "    \n",
    "    def __str__(self):\n",
    "        resultat = \"Centre: \" + str(self._centre) + \"\\n\"\n",
    "        resultat += \"Radi: \" + str(self._radi) + \"\\n\"\n",
    "        resultat += super().__str__()\n",
    "        return resultat"
   ]
  },
  {
   "cell_type": "code",
   "execution_count": 23,
   "id": "fb61cc8d-f8bb-44ed-b4cd-edc54049d9d1",
   "metadata": {},
   "outputs": [
    {
     "name": "stdout",
     "output_type": "stream",
     "text": [
      "Centre: (0, 0)\n",
      "Radi: 1\n",
      "Amplada: 2\n",
      "Alcada: 2\n",
      "\n",
      "3.141592653589793 6.283185307179586\n",
      "Origen: (10, 10)\n",
      "Base: 5\n",
      "Altura: 10\n",
      "Amplada: 5\n",
      "Alcada: 10\n",
      "\n",
      "50 30\n"
     ]
    }
   ],
   "source": [
    "llista_figures = []\n",
    "\n",
    "c = Cercle(Point(0,0), 1)\n",
    "llista_figures.append(c)\n",
    "\n",
    "r = Rectangle(Point(10,10), 5, 10)\n",
    "llista_figures.append(r)\n",
    "\n",
    "for figura in llista_figures:\n",
    "    print(figura)\n",
    "    print(figura.area(), figura.perimetre())"
   ]
  }
 ],
 "metadata": {
  "kernelspec": {
   "display_name": "Python 3 (ipykernel)",
   "language": "python",
   "name": "python3"
  },
  "language_info": {
   "codemirror_mode": {
    "name": "ipython",
    "version": 3
   },
   "file_extension": ".py",
   "mimetype": "text/x-python",
   "name": "python",
   "nbconvert_exporter": "python",
   "pygments_lexer": "ipython3",
   "version": "3.8.8"
  },
  "toc-autonumbering": true,
  "toc-showmarkdowntxt": false
 },
 "nbformat": 4,
 "nbformat_minor": 5
}
