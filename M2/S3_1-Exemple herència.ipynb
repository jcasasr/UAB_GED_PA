{
 "cells": [
  {
   "cell_type": "markdown",
   "id": "46322ba6-6591-4701-81d6-87466717be67",
   "metadata": {
    "tags": []
   },
   "source": [
    "# **Herència**"
   ]
  },
  {
   "cell_type": "markdown",
   "id": "751a84c8-02ad-4bd4-bd2a-a2b455eb3425",
   "metadata": {
    "tags": []
   },
   "source": [
    "**Exemple**\n",
    "\n",
    "Suposem que tenim una classe `CompteCorrent` per gestionar els comptes corrents dels clients d’una entitat bancària. Aquesta classe guarda la informació del titular del compte, el saldo actual i una llista amb tots els moviments que s’han fet al compte. Per guardar els moviments s’utilitza una classe `Moviment` que guarda una descripció del moviment, l’import del moviment (positiu o negatiu) i la data en què s’ha fet. \n",
    "A nivell d’interfície pública, la classe `Moviment` només té els getters i setters dels atributs. La classe `CompteCorrent` té com a interfície pública getters per recuperar el titular i el saldo actual i un mètode per registrar les dades d’un moviment. \n"
   ]
  },
  {
   "cell_type": "code",
   "execution_count": 1,
   "id": "945a6a55-c2ee-4e1d-a18e-dfe0c85e7fac",
   "metadata": {},
   "outputs": [],
   "source": [
    "from dataclasses import dataclass, field, InitVar\n",
    "from typing import List\n",
    "from datetime import date, datetime\n",
    "\n",
    "@dataclass\n",
    "class Moviment:\n",
    "    _descripcio: str\n",
    "    _valor: float\n",
    "    _data: date\n",
    "\n",
    "    def __init__(self, descripcio: str = \"\", valor: float = 0.0, data: str = '') -> None:\n",
    "        self._descripcio = descripcio\n",
    "        self._valor = valor\n",
    "        if data == '':\n",
    "            self._data = date.today()\n",
    "        else:\n",
    "            self._data = datetime.strptime(data, '%d/%m/%Y')\n",
    "        \n",
    "    @property\n",
    "    def descripcio(self) -> str:\n",
    "        return self._descripcio\n",
    "    \n",
    "    @descripcio.setter\n",
    "    def descripcio(self, valor: str) -> None:\n",
    "        self._descripcio = valor\n",
    "        \n",
    "    @property\n",
    "    def valor(self) -> float:\n",
    "        return self._valor\n",
    "    \n",
    "    @valor.setter\n",
    "    def valor(self, valor: float) -> None:\n",
    "        self._valor = valor\n",
    "        \n",
    "    @property\n",
    "    def data(self) -> str:\n",
    "        return datetime.strftime(self._data, '%d/%m/%Y')\n",
    "    \n",
    "    @data.setter\n",
    "    def data(self, valor: str) -> None:\n",
    "        self._data = datetime.strptime(valor, '%d/%m/%Y')\n"
   ]
  },
  {
   "cell_type": "code",
   "execution_count": 2,
   "id": "76d76dad-9b33-409f-a068-bd3ba23a0dee",
   "metadata": {},
   "outputs": [],
   "source": [
    "@dataclass\n",
    "class CompteCorrent:\n",
    "    _titular: str\n",
    "    _saldo: float = 0.0\n",
    "    _moviments: List[Moviment] = field(init=False, default_factory=list)\n",
    "    \n",
    "    @property\n",
    "    def titular(self) -> str:\n",
    "        return self._titular\n",
    "    \n",
    "    @property\n",
    "    def saldo(self) -> float:\n",
    "        return self._saldo\n",
    "    \n",
    "    def afegeix_moviment(self, descripcio: str, valor: float, data: str) -> None:\n",
    "        moviment = Moviment(descripcio, valor, data)\n",
    "        self._moviments.append(moviment)\n",
    "        self._saldo += valor"
   ]
  },
  {
   "cell_type": "code",
   "execution_count": 34,
   "id": "e401adb1-8456-44a7-b5da-f7b112ff47ca",
   "metadata": {},
   "outputs": [
    {
     "name": "stdout",
     "output_type": "stream",
     "text": [
      "ernest 1000\n"
     ]
    }
   ],
   "source": [
    "c = CompteCorrent(\"ernest\", 1000)\n",
    "print(c.titular, c.saldo)"
   ]
  },
  {
   "cell_type": "code",
   "execution_count": 38,
   "id": "4bf74a14-a933-447c-9f78-5ec71ecfc035",
   "metadata": {},
   "outputs": [
    {
     "name": "stdout",
     "output_type": "stream",
     "text": [
      "1100\n"
     ]
    }
   ],
   "source": [
    "c.afegeix_moviment(\"desc1\", 200, \"1/1/2022\")\n",
    "c.afegeix_moviment(\"desc2\", -100, \"1/1/2022\")\n",
    "print(c.saldo)"
   ]
  },
  {
   "cell_type": "markdown",
   "id": "46a4d6ac-115d-495f-994c-23aba4c8c938",
   "metadata": {
    "tags": []
   },
   "source": [
    "**Exemple**\n",
    "\n",
    "Imaginem ara que l’entitat bancària vol oferir un nou tipus de compte, el Compte Jove, que té una operativa molt similar al compte corrent bàsic, amb la diferència que el Compte Jove permet acumular punts que després es poden bescanviar per regals. Els punts s’acumulen cada cop que el client fa un ingrés en el compte: per cada 100 euros ingressats s’acumula 1 punt. \n"
   ]
  },
  {
   "cell_type": "markdown",
   "id": "4b7f9f55-2db7-4404-a693-04af22f219d7",
   "metadata": {
    "tags": []
   },
   "source": [
    "#### **Herència**\n",
    "- És la utilització d’una classe genèrica ja existent (classe base `CompteCorrent`) per crear altres  classes més específiques (classe derivada `CompteJove`) que especialitzen la classe genèrica i extenen/modifiquen la seva funcionalitat.\n",
    "- Les classes derivades (o també subclasses) hereten els atributs (dades)  i els mètodes (comportament) de la classe base (o també superclasse). \n"
   ]
  },
  {
   "cell_type": "code",
   "execution_count": 3,
   "id": "cf525ccb-82b4-49ca-bbdf-aaa324f902da",
   "metadata": {},
   "outputs": [],
   "source": [
    "@dataclass\n",
    "class CompteJove(CompteCorrent):\n",
    "    pass\n",
    "    "
   ]
  },
  {
   "cell_type": "code",
   "execution_count": 4,
   "id": "d6272548-b44c-4ac8-8cfc-5988af89ea35",
   "metadata": {},
   "outputs": [
    {
     "name": "stdout",
     "output_type": "stream",
     "text": [
      "ernest 0.0\n",
      "100.0\n"
     ]
    }
   ],
   "source": [
    "cj = CompteJove('ernest')\n",
    "print(cj.titular, cj.saldo)\n",
    "cj.afegeix_moviment(\"desc1\", 200, \"1/1/2022\")\n",
    "cj.afegeix_moviment(\"desc2\", -100, \"1/1/2022\")\n",
    "print(cj.saldo)"
   ]
  },
  {
   "cell_type": "markdown",
   "id": "c55a94a0-8e23-4bd5-95dc-8aaa331a6fcd",
   "metadata": {
    "tags": []
   },
   "source": [
    "- Les classes derivades poden afegir atributs i mètodes específics propis només de la subclasse.\n",
    "- Les subclasses també poden modificar el comportament dels mètodes de la classe base per adaptar-lo a la seva especifitat"
   ]
  },
  {
   "cell_type": "markdown",
   "id": "08860c28-dffc-4e0f-958c-b8dafc49edfb",
   "metadata": {
    "tags": []
   },
   "source": [
    "**Exemple**\n",
    "\n",
    "Podem crear una nova classe `CompteJove` com a classe derivada de `CompteCorrent`:\n",
    "- Afegim un atribut per guardar els punts acumulats i una propietat per poder recuperar el valor d'aquest atribut. \n",
    "- Modifiquem el comportament del mètode `afegeix_moviment` perquè a més a més d'afegir el moviment a la llista i actualitzar el saldo, també s'actualitzi el valor dels punts acumulats. "
   ]
  },
  {
   "cell_type": "code",
   "execution_count": 36,
   "id": "e1a6ea82-d2b6-4129-9304-de119fe9f732",
   "metadata": {},
   "outputs": [],
   "source": [
    "@dataclass\n",
    "class CompteJove(CompteCorrent):\n",
    "    _punts: int = 0\n",
    "    \n",
    "    @property\n",
    "    def punts(self) -> int:\n",
    "        return self._punts\n",
    "       \n",
    "    def afegeix_moviment(self, descripcio: str, valor: float, data: str) -> None:\n",
    "        moviment = Moviment(descripcio, valor, data)\n",
    "        self._moviments.append(moviment)\n",
    "        self._saldo += valor        \n",
    "        if valor > 0:\n",
    "            self._punts += int(valor/100)\n"
   ]
  },
  {
   "cell_type": "code",
   "execution_count": 37,
   "id": "2287b61c-6cfc-409b-81eb-4ced8e5c5502",
   "metadata": {},
   "outputs": [
    {
     "name": "stdout",
     "output_type": "stream",
     "text": [
      "ernest 1000 100\n",
      "1100 102\n"
     ]
    }
   ],
   "source": [
    "cj = CompteJove('ernest', 1000, 100)\n",
    "print(cj.titular, cj.saldo, cj.punts)\n",
    "cj.afegeix_moviment(\"desc1\", 200, \"1/1/2022\")\n",
    "cj.afegeix_moviment(\"desc2\", -100, \"1/1/2022\")\n",
    "print(cj.saldo, cj.punts)"
   ]
  },
  {
   "cell_type": "markdown",
   "id": "bea1fdb0-7cc6-43c2-b29b-d7890e62dd6b",
   "metadata": {
    "tags": []
   },
   "source": [
    "### ***Overriding***\n",
    "\n",
    "És la redefinició d'un mètode de la classe base a la classe derivada per modificar el comportament del mètode a la classe derivada.\n",
    "\n",
    "Des de la classe derivada podem cridar a la versió del mètode de la classe base i així ens evitem duplicar el codi que sigui comú a la classe base i a la classe derivada. La crida a la versió de la classe base es fa: `super().nom_metode(parametres)`"
   ]
  },
  {
   "cell_type": "code",
   "execution_count": 24,
   "id": "ad54a7b1-0c59-4a97-b273-7b7aa757a7ca",
   "metadata": {},
   "outputs": [],
   "source": [
    "@dataclass\n",
    "class CompteJove(CompteCorrent):\n",
    "    _punts: int = field(init=False,default=0)\n",
    "    \n",
    "    @property\n",
    "    def punts(self) -> int:\n",
    "        return self._punts\n",
    "       \n",
    "    def afegeix_moviment(self, descripcio: str, valor: float, data: str) -> None:\n",
    "        super().afegeix_moviment(descripcio, valor, data)\n",
    "        if valor > 0:\n",
    "            self._punts += int(valor/100)\n"
   ]
  },
  {
   "cell_type": "code",
   "execution_count": 25,
   "id": "ace836a5-0319-4587-80ac-5d39b7d94ff9",
   "metadata": {},
   "outputs": [
    {
     "name": "stdout",
     "output_type": "stream",
     "text": [
      "ernest 1000.0 100\n",
      "1100.0 102\n"
     ]
    }
   ],
   "source": [
    "cj = CompteJove('ernest')\n",
    "print(cj.titular, cj.saldo, cj.punts)\n",
    "cj.afegeix_moviment(\"desc1\", 200, \"1/1/2022\")\n",
    "cj.afegeix_moviment(\"desc2\", -100, \"1/1/2022\")\n",
    "print(cj.saldo, cj.punts)"
   ]
  },
  {
   "cell_type": "markdown",
   "id": "c16c8110-e4da-4be2-8674-2d5cd855f413",
   "metadata": {
    "tags": []
   },
   "source": [
    "***Overriding i el mètode __init__***\n",
    "\n",
    "Quan cridem a un mètode redefinit de la classe derivada, només s'executa el mètode de la classe derivada. No es fa la crida al mètode de la classe base si no fem la crida explícitament des de la classe derivada amb `super().nom_metode(parametres)`\n",
    "\n",
    "Això és especialment rellevant quan inicialitzem els atributs de les classes amb els mètode `__init__` o `__post_init__`. Veiem-ho amb l'exemple següent:"
   ]
  },
  {
   "cell_type": "markdown",
   "id": "71e4297e-b2f9-4b07-9c9d-fc533e75459f",
   "metadata": {
    "tags": []
   },
   "source": [
    "**Exemple**\n",
    "\n",
    "Volem crear una classe derivada de la classe `Moviment` per poder gestionar els rebuts com un tipus particular de moviments. En els rebuts, apart de guardar la informació genèrica de qualsevol moviment hi volem guardar el nom de l'entitat que emet el rebut. \n",
    "\n",
    "Provem el següent codi per implementar una classe `Rebut` com a classe derivada de `Moviment`"
   ]
  },
  {
   "cell_type": "code",
   "execution_count": 8,
   "id": "4bd944e5-31d2-42f4-8594-773dfa170258",
   "metadata": {},
   "outputs": [],
   "source": [
    "@dataclass\n",
    "class Rebut(Moviment):\n",
    "    _entitat: str = ''\n",
    "    \n",
    "    def __init__(self, entitat=''):\n",
    "        self._entitat = entitat\n",
    "       \n",
    "    @property\n",
    "    def entitat(self) -> str:\n",
    "        return self._entitat\n",
    "    \n",
    "    @entitat.setter\n",
    "    def entitat(self, valor: str) -> None:\n",
    "        self._entitat = valor"
   ]
  },
  {
   "cell_type": "code",
   "execution_count": 9,
   "id": "a53b78ee-7261-4ed0-b0b7-2a214addc140",
   "metadata": {},
   "outputs": [
    {
     "name": "stdout",
     "output_type": "stream",
     "text": [
      " 0.0 04/03/2022 \n"
     ]
    }
   ],
   "source": [
    "r = Rebut()\n",
    "print(r.descripcio, r.valor, r.data, r.entitat)"
   ]
  },
  {
   "cell_type": "markdown",
   "id": "def6034b-8a2f-43ac-bc8d-84d42cb21365",
   "metadata": {
    "tags": []
   },
   "source": [
    "Si volem que els atributs de la classe base `Moviment` quedin correctament definits i inicialitzats hem de cridar explícitament al mètode `__init__` de la classe des de la classe derivada `Rebut`. "
   ]
  },
  {
   "cell_type": "code",
   "execution_count": 11,
   "id": "51c586f8-fe2d-40f8-823d-054ebcfb5c7d",
   "metadata": {},
   "outputs": [],
   "source": [
    "@dataclass\n",
    "class Rebut(Moviment):\n",
    "    _entitat: str = ''\n",
    "    \n",
    "    def __init__(self, descripcio: str = \"\", valor: float = 0.0, data: str = '', entitat=''):\n",
    "        super().__init__(descripcio, valor, data)\n",
    "        self._entitat = entitat\n",
    "       \n",
    "    @property\n",
    "    def entitat(self) -> str:\n",
    "        return self._entitat\n",
    "    \n",
    "    @entitat.setter\n",
    "    def entitat(self, valor: str) -> None:\n",
    "        self._entitat = valor"
   ]
  },
  {
   "cell_type": "code",
   "execution_count": 12,
   "id": "555bb478-233f-4063-a87b-30d8e33d0df0",
   "metadata": {},
   "outputs": [
    {
     "name": "stdout",
     "output_type": "stream",
     "text": [
      "desc 100 10/03/2022 ent\n"
     ]
    }
   ],
   "source": [
    "r = Rebut('desc', 100, '10/03/2022', 'ent')\n",
    "print(r.descripcio, r.valor, r.data, r.entitat)"
   ]
  },
  {
   "cell_type": "code",
   "execution_count": null,
   "id": "45692ab8-7637-4753-add7-f6cf04cf1639",
   "metadata": {},
   "outputs": [],
   "source": []
  }
 ],
 "metadata": {
  "kernelspec": {
   "display_name": "Python 3 (ipykernel)",
   "language": "python",
   "name": "python3"
  },
  "language_info": {
   "codemirror_mode": {
    "name": "ipython",
    "version": 3
   },
   "file_extension": ".py",
   "mimetype": "text/x-python",
   "name": "python",
   "nbconvert_exporter": "python",
   "pygments_lexer": "ipython3",
   "version": "3.8.12"
  }
 },
 "nbformat": 4,
 "nbformat_minor": 5
}
