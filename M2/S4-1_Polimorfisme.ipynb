{
 "cells": [
  {
   "cell_type": "markdown",
   "id": "6a25eda0-5e28-400f-8f3a-06d9362a24e1",
   "metadata": {
    "tags": []
   },
   "source": [
    "<div style=\"width: 100%; clear: both;\">\n",
    "<div style=\"float: left; width: 50%;\">\n",
    "<img src=\"data:image/jpeg;base64,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\", align=\"left\">\n",
    "</div>\n",
    "</div>\n",
    "<div style=\"float: right; width: 50%;\">\n",
    "    <p style=\"margin: 0; padding-top: 22px; text-align:right;\"><b>104338 - Programació Avançada</b></p>\n",
    "    <p style=\"margin: 0; text-align:right;\">Grau en Enginyeria de Dades</p>\n",
    "    <p style=\"margin: 0; text-align:right;\">Universitat Autònoma de Barcelona (UAB)</p>\n",
    "</div>\n",
    "<div style=\"width: 100%; clear: both;\"></div>\n",
    "<div style=\"width:100%;\">&nbsp;</div>"
   ]
  },
  {
   "cell_type": "markdown",
   "id": "6fba2f96-6dc8-48fa-bc61-1eeaabbca087",
   "metadata": {},
   "source": [
    "# Polimorfisme\n",
    "\n",
    "El polimorfisme ens permet:\n",
    "\n",
    "- Capacitat d’accedir a objectes de diferents classes utilitzant la mateixa interfície pública.\n",
    "- Cada classe implementa la seva pròpia versió del mètode, però totes les classes comparteixen la declaració (número i tipus dels paràmetres i valor de retorn)."
   ]
  },
  {
   "cell_type": "code",
   "execution_count": 1,
   "id": "7ab8935f-4390-4f6d-974a-28b3c4a87c7b",
   "metadata": {},
   "outputs": [],
   "source": [
    "from typing import List\n",
    "from datetime import date, datetime\n",
    "\n",
    "\n",
    "class Moviment:\n",
    "    _descripcio: str\n",
    "    _valor: float\n",
    "    _data: date\n",
    "\n",
    "    def __init__(self, descripcio: str=\"\", valor: float=0.0, data: str='') -> None:\n",
    "        self._descripcio = descripcio\n",
    "        self._valor = valor\n",
    "        if data == '':\n",
    "            self._data = date.today()\n",
    "        else:\n",
    "            self._data = datetime.strptime(data, '%d/%m/%Y')\n",
    "        \n",
    "    @property\n",
    "    def descripcio(self) -> str:\n",
    "        return self._descripcio\n",
    "    \n",
    "    @descripcio.setter\n",
    "    def descripcio(self, valor: str) -> None:\n",
    "        self._descripcio = valor\n",
    "        \n",
    "    @property\n",
    "    def valor(self) -> float:\n",
    "        return self._valor\n",
    "    \n",
    "    @valor.setter\n",
    "    def valor(self, valor: float) -> None:\n",
    "        self._valor = valor\n",
    "        \n",
    "    @property\n",
    "    def data(self) -> str:\n",
    "        return datetime.strftime(self._data, '%d/%m/%Y')\n",
    "    \n",
    "    @data.setter\n",
    "    def data(self, valor: str) -> None:\n",
    "        self._data = datetime.strptime(valor, '%d/%m/%Y')"
   ]
  },
  {
   "cell_type": "code",
   "execution_count": 3,
   "id": "18b51f47-e0c8-46f8-8a0a-15382cdd2544",
   "metadata": {},
   "outputs": [],
   "source": [
    "class CompteCorrent:\n",
    "    _titular: str\n",
    "    _saldo: float = 0.0\n",
    "    _moviments: List[Moviment]\n",
    "    \n",
    "    def __init__(self, titular: str='', saldo: float=0.0) -> None:\n",
    "        self._titular = titular\n",
    "        self._saldo = saldo\n",
    "        self._moviments = []\n",
    "    \n",
    "    @property\n",
    "    def titular(self) -> str:\n",
    "        return self._titular\n",
    "    \n",
    "    @property\n",
    "    def saldo(self) -> float:\n",
    "        return self._saldo\n",
    "    \n",
    "    def afegeix_moviment(self, descripcio: str, valor: float, data: str) -> None:\n",
    "        moviment = Moviment(descripcio, valor, data)\n",
    "        self._moviments.append(moviment)\n",
    "        self._saldo += valor"
   ]
  },
  {
   "cell_type": "code",
   "execution_count": 6,
   "id": "be66f5fa-543f-4fe0-97aa-ce892e80bf8f",
   "metadata": {},
   "outputs": [],
   "source": [
    "class CompteJove(CompteCorrent):\n",
    "    _punts: int\n",
    "    \n",
    "    def __init__(self, titular: str='', saldo: float=0.0, punts: int=0) -> None:\n",
    "        super().__init__(titular, saldo)\n",
    "        self._punts = punts\n",
    "    \n",
    "    @property\n",
    "    def punts(self) -> int:\n",
    "        return self._punts\n",
    "       \n",
    "    def afegeix_moviment(self, descripcio: str, valor: float, data: str) -> None:\n",
    "        super().afegeix_moviment(descripcio, valor, data)\n",
    "        if valor > 0:\n",
    "            self._punts += int(valor/100)"
   ]
  },
  {
   "cell_type": "markdown",
   "id": "e4d55a73-d5f8-4c20-9bc1-e09d65faa518",
   "metadata": {},
   "source": [
    "En temps d’execució, dinàmicament es determina de **quina classe és l’objecte** i es crida al mètode corresponent a la classe de l’objecte."
   ]
  },
  {
   "cell_type": "code",
   "execution_count": 7,
   "id": "327a5d0d-764e-442e-bfce-4051baa5c601",
   "metadata": {},
   "outputs": [
    {
     "name": "stdout",
     "output_type": "stream",
     "text": [
      "100.0\n",
      "100.0 1\n"
     ]
    }
   ],
   "source": [
    "c = CompteCorrent('ernest')\n",
    "c.afegeix_moviment('desc_1', 100, '01/01/2022')\n",
    "print(c.saldo)\n",
    "\n",
    "cj = CompteJove('ernest')\n",
    "cj.afegeix_moviment('desc_1', 100, '01/01/2022')\n",
    "print(cj.saldo, cj.punts)"
   ]
  },
  {
   "cell_type": "markdown",
   "id": "b02e510f-bf34-479a-b1e1-b40fb1af3f2e",
   "metadata": {},
   "source": [
    "El polimorfisme permet utilitzar objectes de les classes derivades a qualsevol lloc on es pot utilitzar un objecte de la classe base. \n",
    "\n",
    "Es poden activar els mètodes de la classe base amb objectes de les classes derivades sense necessitar saber explícitament quina subclasse és.\n",
    "\n",
    "A l'exemple següent:\n",
    "- `llista_comptes` és una única llista per guardar conjuntament objectes de tipus `CompteCorrent` i `CompteJove`.\n",
    "- L’objecte `c` pot ser de la classe `CompteCorrent` o `CompteJove`.\n",
    "- Utilitzant `c`, podem cridar a qualsevol mètode heretat de la classe base (`afegeix_moviment`) i es cridarà automàticament a la versió del mètode que correspongui al tipus de l’objecte: `CompteCorrent` o `CompteJove`."
   ]
  },
  {
   "cell_type": "code",
   "execution_count": 8,
   "id": "f0887ea8-8a2f-40f2-b6ad-8bd73e929ed5",
   "metadata": {},
   "outputs": [
    {
     "name": "stdout",
     "output_type": "stream",
     "text": [
      "100.0\n",
      "100.0\n"
     ]
    }
   ],
   "source": [
    "llista_comptes = []\n",
    "llista_comptes.append(CompteCorrent('ernest'))\n",
    "llista_comptes.append(CompteJove('ernest'))\n",
    "\n",
    "for c in llista_comptes:\n",
    "    c.afegeix_moviment('desc1', 100, '01/01/2022')\n",
    "    print(c.saldo)"
   ]
  },
  {
   "cell_type": "markdown",
   "id": "04cbbb42-1074-4a1b-ae11-90b650d57be4",
   "metadata": {},
   "source": [
    "De vegades podem necessitar comprovar el tipus d’un objecte per poder fer les accions definides només a les classes derivades.\n",
    "\n",
    "En aquests casos, i només quan sigui imprescindible, podem fer ús de:\n",
    "\n",
    "- `isinstance(objecte, nom_classe)`: retorna `True` si l’objecte pertany a la classe indicada (o a alguna de les seves subclasses)."
   ]
  },
  {
   "cell_type": "code",
   "execution_count": 9,
   "id": "75a37ee5-04d6-44c9-b7c9-8ce8f3d48ec6",
   "metadata": {},
   "outputs": [
    {
     "name": "stdout",
     "output_type": "stream",
     "text": [
      "Titular:  ernest\n",
      "Saldo:  100.0\n",
      "Titular:  ernest\n",
      "Saldo:  100.0\n",
      "Punts:  1\n"
     ]
    }
   ],
   "source": [
    "for c in llista_comptes:\n",
    "    print(\"Titular: \", c.titular)\n",
    "    print(\"Saldo: \", c.saldo)\n",
    "    \n",
    "    if (isinstance(c, CompteJove)):\n",
    "        print(\"Punts: \", c.punts)"
   ]
  },
  {
   "cell_type": "markdown",
   "id": "66c08c5b-4233-4ad8-ad84-a3959726eb2c",
   "metadata": {},
   "source": [
    "Com a norma general, hauríem de **reduir al mínim la comprovació del tipus dels objectes**, i substituir-ho sempre que puguem per crides a mètodes de les classes utilitzant polimorfisme, com podem veure a l'exemple següent:"
   ]
  },
  {
   "cell_type": "code",
   "execution_count": 10,
   "id": "9f111d79-1db6-4b84-9fe4-1f9db4007a39",
   "metadata": {},
   "outputs": [],
   "source": [
    "class CompteCorrent:\n",
    "    _titular: str\n",
    "    _saldo: float\n",
    "    _moviments: List[Moviment]\n",
    "    \n",
    "    def __init__(self, titular: str='', saldo: float=0.0) -> None:\n",
    "        self._titular = titular\n",
    "        self._saldo = saldo\n",
    "        self._moviments = []\n",
    "    \n",
    "    @property\n",
    "    def titular(self) -> str:\n",
    "        return self._titular\n",
    "    \n",
    "    @property\n",
    "    def saldo(self) -> float:\n",
    "        return self._saldo\n",
    "    \n",
    "    def afegeix_moviment(self, descripcio: str, valor: float, data: str) -> None:\n",
    "        moviment = Moviment(descripcio, valor, data)\n",
    "        self._moviments.append(moviment)\n",
    "        self._saldo += valor\n",
    "        \n",
    "    def visualitza(self):\n",
    "        print(\"Titular: \", c.titular)\n",
    "        print(\"Saldo: \", c.saldo)"
   ]
  },
  {
   "cell_type": "code",
   "execution_count": 11,
   "id": "01dbbd5f-c40e-4ea7-8407-503d9b8a5f6c",
   "metadata": {},
   "outputs": [],
   "source": [
    "class CompteJove(CompteCorrent):\n",
    "    _punts: int\n",
    "    \n",
    "    def __init__(self, titular: str='', saldo: float=0.0, punts: int=0) -> None:\n",
    "        super().__init__(titular, saldo)\n",
    "        self._punts = punts\n",
    "    \n",
    "    @property\n",
    "    def punts(self) -> int:\n",
    "        return self._punts\n",
    "       \n",
    "    def afegeix_moviment(self, descripcio: str, valor: float, data: str) -> None:\n",
    "        super().afegeix_moviment(descripcio, valor, data)\n",
    "        if valor > 0:\n",
    "            self._punts += int(valor/100)\n",
    "\n",
    "    def visualitza(self):\n",
    "        super().visualitza()\n",
    "        print(\"Punts: \", c.punts)"
   ]
  },
  {
   "cell_type": "code",
   "execution_count": 12,
   "id": "8e8bd875-b211-4e5a-8bd0-b6a45f6dccd9",
   "metadata": {},
   "outputs": [
    {
     "name": "stdout",
     "output_type": "stream",
     "text": [
      "100.0\n",
      "100.0\n"
     ]
    }
   ],
   "source": [
    "llista_comptes = []\n",
    "llista_comptes.append(CompteCorrent('ernest'))\n",
    "llista_comptes.append(CompteJove('ernest'))\n",
    "\n",
    "for c in llista_comptes:\n",
    "    c.afegeix_moviment('desc1', 100, '01/01/2022')\n",
    "    print(c.saldo)"
   ]
  },
  {
   "cell_type": "code",
   "execution_count": 13,
   "id": "3d0162b3-31dd-43a4-b551-59001fbfe0be",
   "metadata": {},
   "outputs": [
    {
     "name": "stdout",
     "output_type": "stream",
     "text": [
      "Titular:  ernest\n",
      "Saldo:  100.0\n",
      "Titular:  ernest\n",
      "Saldo:  100.0\n",
      "Punts:  1\n"
     ]
    }
   ],
   "source": [
    "for c in llista_comptes:\n",
    "    c.visualitza()"
   ]
  },
  {
   "cell_type": "code",
   "execution_count": null,
   "id": "af889bcd-3667-4a5a-b7ae-385d85312cf1",
   "metadata": {},
   "outputs": [],
   "source": []
  }
 ],
 "metadata": {
  "kernelspec": {
   "display_name": "Python 3 (ipykernel)",
   "language": "python",
   "name": "python3"
  },
  "language_info": {
   "codemirror_mode": {
    "name": "ipython",
    "version": 3
   },
   "file_extension": ".py",
   "mimetype": "text/x-python",
   "name": "python",
   "nbconvert_exporter": "python",
   "pygments_lexer": "ipython3",
   "version": "3.8.8"
  }
 },
 "nbformat": 4,
 "nbformat_minor": 5
}
