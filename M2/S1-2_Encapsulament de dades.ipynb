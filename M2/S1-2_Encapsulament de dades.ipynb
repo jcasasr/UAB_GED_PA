{
 "cells": [
  {
   "cell_type": "markdown",
   "id": "b478e5e4-13b8-4d70-bac3-6c08fd9884ca",
   "metadata": {},
   "source": [
    "<div style=\"width: 100%; clear: both;\">\n",
    "<div style=\"float: left; width: 50%;\">\n",
    "<img src=\"data:image/jpeg;base64,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\", align=\"left\">\n",
    "</div>\n",
    "</div>\n",
    "<div style=\"float: right; width: 50%;\">\n",
    "    <p style=\"margin: 0; padding-top: 22px; text-align:right;\"><b>104338 - Programació Avançada</b></p>\n",
    "    <p style=\"margin: 0; text-align:right;\">Grau en Enginyeria de Dades</p>\n",
    "    <p style=\"margin: 0; text-align:right;\">Universitat Autònoma de Barcelona (UAB)</p>\n",
    "</div>\n",
    "<div style=\"width: 100%; clear: both;\"></div>\n",
    "<div style=\"width:100%;\">&nbsp;</div>"
   ]
  },
  {
   "cell_type": "markdown",
   "id": "364344b3-72c4-4698-a8da-efcb2f6010a0",
   "metadata": {
    "tags": []
   },
   "source": [
    "# Encapsulament i abstracció de dades\n",
    "\n",
    "## 1. Abstracció de dades\n",
    "\n",
    "Els **clients** (programes que utilitzen la classe) no han de conèixer ni tenir accés directe a la **representació interna** de la classe, ja que qualsevol canvi o consulta a l'estat intern de la classe s'ha de fer utilitzant els mètodes de la **interfície pública** de la classe.\n",
    "\n",
    "La interfície pública amaga (**abstreu**) la representació interna de la classe als programes/classes (clients) que la utilitzen per evitar que qualsevol canvi en els detalls de la implementació, impliqui modificacions en tots els clients.\n",
    "\n",
    "Això s'aconsegueix amb l'**encapsulament de dades**: distingir entre part privada i pública de la classe.\n",
    "\n",
    "Vegem, a través d'un exemple, la problemàtica associada en el cas de **no utilitzar correctament l'encapsulament i abastracció de dades**.\n",
    "\n",
    "En primer lloc, volem definir una classe `Punt` que ens permeti guardar les coordenades d'un punt a l'espai 2D i realitzar algunes operacions bàsiques amb ell."
   ]
  },
  {
   "cell_type": "code",
   "execution_count": 1,
   "id": "2b6851e2-47d8-4ff1-ae70-b6f2c5a74da5",
   "metadata": {},
   "outputs": [],
   "source": [
    "class Punt:\n",
    "    x: float\n",
    "    y: float\n",
    "    \n",
    "    def __init__(self, x=0, y=0):\n",
    "        self.x = x\n",
    "        self.y = y\n",
    "\n",
    "    def distancia_origen(self):\n",
    "        return math.sqrt(self.x**2 + self.y**2)\n",
    "\n",
    "    def punt_mig(self, p):\n",
    "        return Punt((self.x + p.x)/2, (self.y + p.y)/2)\n",
    "\n",
    "    def __sub__(self, p):\n",
    "        return math.sqrt((self.x - p.x)**2 + (self.y - p.y)**2)\n",
    "\n",
    "    def __eq__(self, p):\n",
    "        return self.x == p.x and self.y == p.y\n",
    "\n",
    "    def __str__(self):\n",
    "        return \"(\" + str(self.x) + \", \" + str(self.y) + \")\""
   ]
  },
  {
   "cell_type": "markdown",
   "id": "0706cbab-46d5-4340-a065-57a70006c982",
   "metadata": {},
   "source": [
    "A continuació, creem unes funcions que ens permeten generar un conjunt de punts (a partir de l'_input_ del teclat) per crear un polígon i la seva _bounding box_."
   ]
  },
  {
   "cell_type": "code",
   "execution_count": 2,
   "id": "0232f1b0-2930-4d74-a492-7975db130735",
   "metadata": {},
   "outputs": [
    {
     "name": "stdin",
     "output_type": "stream",
     "text": [
      "Número de vèrtexs del polígon:  3\n",
      "x:  0\n",
      "y:  0\n",
      "x:  1\n",
      "y:  1\n",
      "x:  2\n",
      "y:  2\n"
     ]
    },
    {
     "name": "stdout",
     "output_type": "stream",
     "text": [
      "Bounding box: (0.0, 0.0) (2.0, 2.0)\n",
      "Area bounding box 4.0\n"
     ]
    }
   ],
   "source": [
    "def llegeix_poligon():\n",
    "    n_vertexs = int(input(\"Número de vèrtexs del polígon: \"))\n",
    "    poligon = []\n",
    "    for i in range(n_vertexs):\n",
    "        x = float(input(\"x: \"))\n",
    "        y = float(input(\"y: \"))\n",
    "        poligon.append(Punt(x, y))\n",
    "    return poligon\n",
    "\n",
    "\n",
    "def bounding_box(poligon):\n",
    "    x = [p.x for p in poligon]\n",
    "    y = [p.y for p in poligon]\n",
    "    top_left = Punt(min(x), min(y))\n",
    "    bottom_right = Punt(max(x), max(y))\n",
    "    return top_left, bottom_right\n",
    "\n",
    "\n",
    "def area_bounding_box(bb):\n",
    "    dx = bb[1].x - bb[0].x\n",
    "    dy = bb[1].y - bb[0].y\n",
    "    return dx * dy\n",
    "\n",
    "\n",
    "poligon = llegeix_poligon()\n",
    "bb = bounding_box(poligon)\n",
    "area = area_bounding_box(bb)\n",
    "print(\"Bounding box:\", bb[0], bb[1])\n",
    "print(\"Area bounding box\", area)"
   ]
  },
  {
   "cell_type": "markdown",
   "id": "15320a0f-69df-4a0a-ad24-2a2fb157ca9c",
   "metadata": {},
   "source": [
    "Ara, imaginem que volem canviar la representació interna de la classe `Punt`, per exemple, per permetre que representem punts en un espai vectorial de 3 o més dimensions. Per tant, ens cal poder emmagatzemar més de 2 coordenades.\n",
    "\n",
    "- Què passa si canviem la representació interna de la classe `Punt` i guardem les coordenades `x` i `y` en una llista?"
   ]
  },
  {
   "cell_type": "code",
   "execution_count": 3,
   "id": "c67741a3-16da-4033-9e43-e9d3297dd4c0",
   "metadata": {},
   "outputs": [],
   "source": [
    "from typing import List\n",
    "\n",
    "class Punt:\n",
    "    coordenades: List[float]\n",
    "\n",
    "    def __init__(self, x=0.0, y=0.0):\n",
    "        self.coordenades = [x, y]\n",
    "\n",
    "    def distancia_origen(self):\n",
    "        return math.sqrt(self.coordenades[0]**2 + self.coordenades[1]**2)\n",
    "\n",
    "    def punt_mig(self, p):\n",
    "        return Punt((self.coordenades[0] + p.coordenades[0])/2, (self.coordenades[1] + p.coordenades[1])/2)\n",
    "\n",
    "    def __sub__(self, p):\n",
    "        return math.sqrt((self.coordenades[0] - p.coordenades[0])**2 + (self.coordenades[1] - p.coordenades[1])**2)\n",
    "\n",
    "    def __eq__(self, p):\n",
    "        return self.coordenades[0] == p.coordenades[0] and self.coordenades[1] == p.coordenades[1]\n",
    "\n",
    "    def __str__(self):\n",
    "        return \"(\" + str(self.coordenades[0]) + \", \" + str(self.coordenades[1]) + \")\""
   ]
  },
  {
   "cell_type": "code",
   "execution_count": 4,
   "id": "03d1e1bb-8384-4675-bbf0-8c076ed20eb8",
   "metadata": {},
   "outputs": [
    {
     "name": "stdin",
     "output_type": "stream",
     "text": [
      "Número de vèrtexs del polígon:  3\n",
      "x:  0\n",
      "y:  0\n",
      "x:  1\n",
      "y:  1\n",
      "x:  2\n",
      "y:  2\n"
     ]
    },
    {
     "ename": "AttributeError",
     "evalue": "'Punt' object has no attribute 'x'",
     "output_type": "error",
     "traceback": [
      "\u001b[0;31m---------------------------------------------------------------------------\u001b[0m",
      "\u001b[0;31mAttributeError\u001b[0m                            Traceback (most recent call last)",
      "\u001b[0;32m/var/folders/hr/4b_tm1190gj2tt33yn77h5fh0000gn/T/ipykernel_39158/1615850482.py\u001b[0m in \u001b[0;36m<module>\u001b[0;34m\u001b[0m\n\u001b[1;32m     25\u001b[0m \u001b[0mpoligon\u001b[0m \u001b[0;34m=\u001b[0m \u001b[0mllegeix_poligon\u001b[0m\u001b[0;34m(\u001b[0m\u001b[0;34m)\u001b[0m\u001b[0;34m\u001b[0m\u001b[0;34m\u001b[0m\u001b[0m\n\u001b[1;32m     26\u001b[0m \u001b[0mbb\u001b[0m \u001b[0;34m=\u001b[0m \u001b[0mbounding_box\u001b[0m\u001b[0;34m(\u001b[0m\u001b[0mpoligon\u001b[0m\u001b[0;34m)\u001b[0m\u001b[0;34m\u001b[0m\u001b[0;34m\u001b[0m\u001b[0m\n\u001b[0;32m---> 27\u001b[0;31m \u001b[0marea\u001b[0m \u001b[0;34m=\u001b[0m \u001b[0marea_bounding_box\u001b[0m\u001b[0;34m(\u001b[0m\u001b[0mbb\u001b[0m\u001b[0;34m)\u001b[0m\u001b[0;34m\u001b[0m\u001b[0;34m\u001b[0m\u001b[0m\n\u001b[0m\u001b[1;32m     28\u001b[0m \u001b[0mprint\u001b[0m\u001b[0;34m(\u001b[0m\u001b[0;34m\"Bounding box:\"\u001b[0m\u001b[0;34m,\u001b[0m \u001b[0mbb\u001b[0m\u001b[0;34m[\u001b[0m\u001b[0;36m0\u001b[0m\u001b[0;34m]\u001b[0m\u001b[0;34m,\u001b[0m \u001b[0mbb\u001b[0m\u001b[0;34m[\u001b[0m\u001b[0;36m1\u001b[0m\u001b[0;34m]\u001b[0m\u001b[0;34m)\u001b[0m\u001b[0;34m\u001b[0m\u001b[0;34m\u001b[0m\u001b[0m\n\u001b[1;32m     29\u001b[0m \u001b[0mprint\u001b[0m\u001b[0;34m(\u001b[0m\u001b[0;34m\"Area bounding box\"\u001b[0m\u001b[0;34m,\u001b[0m \u001b[0marea\u001b[0m\u001b[0;34m)\u001b[0m\u001b[0;34m\u001b[0m\u001b[0;34m\u001b[0m\u001b[0m\n",
      "\u001b[0;32m/var/folders/hr/4b_tm1190gj2tt33yn77h5fh0000gn/T/ipykernel_39158/1615850482.py\u001b[0m in \u001b[0;36marea_bounding_box\u001b[0;34m(bb)\u001b[0m\n\u001b[1;32m     18\u001b[0m \u001b[0;34m\u001b[0m\u001b[0m\n\u001b[1;32m     19\u001b[0m \u001b[0;32mdef\u001b[0m \u001b[0marea_bounding_box\u001b[0m\u001b[0;34m(\u001b[0m\u001b[0mbb\u001b[0m\u001b[0;34m)\u001b[0m\u001b[0;34m:\u001b[0m\u001b[0;34m\u001b[0m\u001b[0;34m\u001b[0m\u001b[0m\n\u001b[0;32m---> 20\u001b[0;31m     \u001b[0mdx\u001b[0m \u001b[0;34m=\u001b[0m \u001b[0mbb\u001b[0m\u001b[0;34m[\u001b[0m\u001b[0;36m1\u001b[0m\u001b[0;34m]\u001b[0m\u001b[0;34m.\u001b[0m\u001b[0mx\u001b[0m \u001b[0;34m-\u001b[0m \u001b[0mbb\u001b[0m\u001b[0;34m[\u001b[0m\u001b[0;36m0\u001b[0m\u001b[0;34m]\u001b[0m\u001b[0;34m.\u001b[0m\u001b[0mx\u001b[0m\u001b[0;34m\u001b[0m\u001b[0;34m\u001b[0m\u001b[0m\n\u001b[0m\u001b[1;32m     21\u001b[0m     \u001b[0mdy\u001b[0m \u001b[0;34m=\u001b[0m \u001b[0mbb\u001b[0m\u001b[0;34m[\u001b[0m\u001b[0;36m1\u001b[0m\u001b[0;34m]\u001b[0m\u001b[0;34m.\u001b[0m\u001b[0my\u001b[0m \u001b[0;34m-\u001b[0m \u001b[0mbb\u001b[0m\u001b[0;34m[\u001b[0m\u001b[0;36m0\u001b[0m\u001b[0;34m]\u001b[0m\u001b[0;34m.\u001b[0m\u001b[0my\u001b[0m\u001b[0;34m\u001b[0m\u001b[0;34m\u001b[0m\u001b[0m\n\u001b[1;32m     22\u001b[0m     \u001b[0;32mreturn\u001b[0m \u001b[0mdx\u001b[0m \u001b[0;34m*\u001b[0m \u001b[0mdy\u001b[0m\u001b[0;34m\u001b[0m\u001b[0;34m\u001b[0m\u001b[0m\n",
      "\u001b[0;31mAttributeError\u001b[0m: 'Punt' object has no attribute 'x'"
     ]
    }
   ],
   "source": [
    "def llegeix_poligon():\n",
    "    n_vertexs = int(input(\"Número de vèrtexs del polígon: \"))\n",
    "    poligon = []\n",
    "    for i in range(n_vertexs):\n",
    "        x = float(input(\"x: \"))\n",
    "        y = float(input(\"y: \"))\n",
    "        poligon.append(Punt(x, y))\n",
    "    return poligon\n",
    "\n",
    "\n",
    "def bounding_box(poligon):\n",
    "    x = [p.coordenades[0] for p in poligon]\n",
    "    y = [p.coordenades[1] for p in poligon]\n",
    "    top_left = Punt(min(x), min(y))\n",
    "    bottom_right = Punt(max(x), max(y))\n",
    "    return top_left, bottom_right\n",
    "\n",
    "\n",
    "def area_bounding_box(bb):\n",
    "    dx = bb[1].x - bb[0].x\n",
    "    dy = bb[1].y - bb[0].y\n",
    "    return dx * dy\n",
    "\n",
    "\n",
    "poligon = llegeix_poligon()\n",
    "bb = bounding_box(poligon)\n",
    "area = area_bounding_box(bb)\n",
    "print(\"Bounding box:\", bb[0], bb[1])\n",
    "print(\"Area bounding box\", area)"
   ]
  },
  {
   "cell_type": "markdown",
   "id": "65321456-5e41-4824-822e-d4ab23e89261",
   "metadata": {
    "tags": []
   },
   "source": [
    "## 2. Encapsulament de dades: part privada i pública\n",
    "\n",
    "- La **part pública** d'una classe defineix la **interfície pública** de la classe i és accessible des de qualsevol classe o programa extern que hagi d'utilitzar la classe.\n",
    "- La **part privada** d'una classe defineix la **representació interna**  de la classe i només és accessible des del codi de la pròpia classe. No s'hi pot accedir des de classes o programes externs que utilitzin la classe. \n",
    "- En Python, els atributs o mètodes privats de la classe s'indiquen posen un **caràcter de subratllat `_`** davant del nom de l'atribut o mètode.\n",
    "- És una convenció implícita. No és una obligació, **és només una recomanació**: els programes externs poden seguir accedint als atributs privats, però un bon programador en Python mai ho farà.\n"
   ]
  },
  {
   "cell_type": "markdown",
   "id": "1d96a363-f1ea-4daf-b699-0551228d92f7",
   "metadata": {},
   "source": [
    "Tornem al exemple anterior, però aquesta vegada aplicant els conceptes d'abstracció i encapsulament de dades."
   ]
  },
  {
   "cell_type": "code",
   "execution_count": 5,
   "id": "9a55259c-93c7-4181-b180-a67bb1081926",
   "metadata": {},
   "outputs": [],
   "source": [
    "import math\n",
    "\n",
    "class Punt:\n",
    "    _x: float = 0.0\n",
    "    _y: float = 0.0\n",
    "    \n",
    "    def __init__(self, x=0.0, y=0.0):\n",
    "        self._x = x\n",
    "        self._y = y\n",
    "  \n",
    "    def distancia_origen(self):\n",
    "        return math.sqrt(self._x**2 + self._y**2)\n",
    "\n",
    "    def punt_mig(self, p):\n",
    "        return Punt((self._x + p._x)/2, (self._y + p._y)/2)\n",
    "\n",
    "    def __sub__(self, p):\n",
    "        return math.sqrt((self._x - p._x)**2 + (self._y - p._y)**2)\n",
    "\n",
    "    def __eq__(self, p):\n",
    "        return self._x == p._x and self._y == p._y\n",
    "\n",
    "    def __str__(self):\n",
    "        return \"(\" + str(self._x) + \", \" + str(self._y) + \")\""
   ]
  },
  {
   "cell_type": "code",
   "execution_count": 7,
   "id": "171fd0aa-ba4f-44af-9417-e077d2b2ad48",
   "metadata": {},
   "outputs": [
    {
     "name": "stdin",
     "output_type": "stream",
     "text": [
      " 2\n",
      " 3\n"
     ]
    },
    {
     "name": "stdout",
     "output_type": "stream",
     "text": [
      "(2.0, 3.0)\n",
      "2.0 3.0\n"
     ]
    }
   ],
   "source": [
    "p = Punt()\n",
    "p._x = float(input())\n",
    "p._y = float(input())\n",
    "d = p.distancia_origen()\n",
    "print(p)\n",
    "print(p._x, p._y)"
   ]
  },
  {
   "cell_type": "markdown",
   "id": "dafd23c8-95ae-4ea0-a531-b6a4a6f6973a",
   "metadata": {},
   "source": [
    "## 3. Accés al valor dels atributs privats: `getters` i `setters`\n",
    "\n",
    "- **getters**: Mètodes per recuperar el valor d'un atribut privat.\n",
    "- **setters**: Mètodes per modificar el valor d'una atribut privat."
   ]
  },
  {
   "cell_type": "markdown",
   "id": "9bd9423e-fbff-4f94-bebf-57dec0550928",
   "metadata": {},
   "source": [
    "Continuem amb l'exemple dels punts i els polígons."
   ]
  },
  {
   "cell_type": "code",
   "execution_count": 8,
   "id": "b27b8ddb-8569-42ac-b821-53925838e0af",
   "metadata": {},
   "outputs": [],
   "source": [
    "import math\n",
    "\n",
    "class Punt:\n",
    "    _x: float = 0.0\n",
    "    _y: float = 0.0\n",
    "\n",
    "    def __init__(self, x=0.0, y=0.0):\n",
    "        self._x = x\n",
    "        self._y = y\n",
    "    \n",
    "    def get_x(self):\n",
    "        return self._x\n",
    "\n",
    "    def set_x(self, valor):\n",
    "        self._x = valor\n",
    "\n",
    "    def get_y(self):\n",
    "        return self._y\n",
    "\n",
    "    def set_y(self, valor):\n",
    "        self._y = valor\n",
    "    \n",
    "    def distancia_origen(self):\n",
    "        return math.sqrt(self._x**2 + self._y**2)\n",
    "\n",
    "    def punt_mig(self, p):\n",
    "        return Punt((self._x + p._x)/2, (self._y + p._y)/2)\n",
    "\n",
    "    def __sub__(self, p):\n",
    "        return math.sqrt((self._x - p._x)**2 + (self._y - p._y)**2)\n",
    "\n",
    "    def __eq__(self, p):\n",
    "        return self._x == p._x and self._y == p._y\n",
    "\n",
    "    def __str__(self):\n",
    "        return \"(\" + str(self._x) + \", \" + str(self._y) + \")\""
   ]
  },
  {
   "cell_type": "code",
   "execution_count": 9,
   "id": "c908ab6f-7e12-4a9d-bcc2-15423aab4bf1",
   "metadata": {},
   "outputs": [
    {
     "name": "stdin",
     "output_type": "stream",
     "text": [
      " 2\n",
      " 3\n"
     ]
    },
    {
     "name": "stdout",
     "output_type": "stream",
     "text": [
      "(2.0, 3.0)\n",
      "2.0 3.0\n"
     ]
    }
   ],
   "source": [
    "p = Punt()\n",
    "p.set_x(float(input()))\n",
    "p.set_y(float(input()))\n",
    "d = p.distancia_origen()\n",
    "print(p)\n",
    "print(p.get_x(), p.get_y())"
   ]
  },
  {
   "cell_type": "code",
   "execution_count": 10,
   "id": "11f9d689-0562-46e7-bcdb-5303bedda038",
   "metadata": {},
   "outputs": [
    {
     "name": "stdin",
     "output_type": "stream",
     "text": [
      "Número de vèrtexs del polígon:  3\n",
      "x:  0\n",
      "y:  0\n",
      "x:  1\n",
      "y:  1\n",
      "x:  2\n",
      "y:  2\n"
     ]
    },
    {
     "name": "stdout",
     "output_type": "stream",
     "text": [
      "Bounding box: (0.0, 0.0) (2.0, 2.0)\n",
      "Area bounding box 4.0\n"
     ]
    }
   ],
   "source": [
    "def llegeix_poligon():\n",
    "    n_vertexs = int(input(\"Número de vèrtexs del polígon: \"))\n",
    "    poligon = []\n",
    "    for i in range(n_vertexs):\n",
    "        x = float(input(\"x: \"))\n",
    "        y = float(input(\"y: \"))\n",
    "        poligon.append(Punt(x, y))\n",
    "    return poligon\n",
    "\n",
    "\n",
    "def bounding_box(poligon):\n",
    "    x = [p.get_x() for p in poligon]\n",
    "    y = [p.get_y() for p in poligon]\n",
    "    top_left = Punt(min(x), min(y))\n",
    "    bottom_right = Punt(max(x), max(y))\n",
    "    return top_left, bottom_right\n",
    "\n",
    "\n",
    "def area_bounding_box(bb):\n",
    "    dx = bb[1].get_x() - bb[0].get_x()\n",
    "    dy = bb[1].get_y() - bb[0].get_y()\n",
    "    return dx * dy\n",
    "\n",
    "\n",
    "poligon = llegeix_poligon()\n",
    "bb = bounding_box(poligon)\n",
    "area = area_bounding_box(bb)\n",
    "print(\"Bounding box:\", bb[0], bb[1])\n",
    "print(\"Area bounding box\", area)"
   ]
  },
  {
   "cell_type": "markdown",
   "id": "751578dd-907f-475b-a2b9-5ebc79e5c8ae",
   "metadata": {},
   "source": [
    "### 3.1. Properties\n",
    "\n",
    "`@property` és un **decorador** que converteix un mètode que fa de `getter/setter` en una propietat.\n",
    "\n",
    "Les **propietats** permeten posar les crides als `getters`/`setters` com si fossin consultes/modificacions directes dels valors dels atributs. "
   ]
  },
  {
   "cell_type": "code",
   "execution_count": 11,
   "id": "27ea1e3b-e34c-4fc8-bf93-e1cd6b472b0f",
   "metadata": {},
   "outputs": [],
   "source": [
    "import math\n",
    "\n",
    "class Punt:\n",
    "    _x: float\n",
    "    _y: float\n",
    "    \n",
    "    def __init__(self, x=0.0, y=0.0):\n",
    "        self._x = x\n",
    "        self._y = y\n",
    "\n",
    "    @property\n",
    "    def x(self):\n",
    "        return self._x\n",
    "\n",
    "    @x.setter\n",
    "    def x(self, valor):\n",
    "        self._x = valor\n",
    "\n",
    "    @property\n",
    "    def y(self):\n",
    "        return self._y\n",
    "\n",
    "    @y.setter\n",
    "    def y(self, valor):\n",
    "        self._y = valor\n",
    "\n",
    "    def distancia_origen(self):\n",
    "        return math.sqrt(self._x**2 + self._y**2)\n",
    "\n",
    "    def punt_mig(self, p):\n",
    "        return Punt((self._x + p._x)/2, (self._y + p._y)/2)\n",
    "\n",
    "    def __sub__(self, p):\n",
    "        return math.sqrt((self._x - p._x)**2 + (self._y - p._y)**2)\n",
    "\n",
    "    def __eq__(self, p):\n",
    "        return self._x == p._x and self._y == p._y\n",
    "\n",
    "    def __str__(self):\n",
    "        return \"(\" + str(self._x) + \", \" + str(self._y) + \")\""
   ]
  },
  {
   "cell_type": "code",
   "execution_count": 12,
   "id": "2954fc16-2a53-4880-856c-513eb5002caf",
   "metadata": {},
   "outputs": [
    {
     "name": "stdin",
     "output_type": "stream",
     "text": [
      " 2\n",
      " 3\n"
     ]
    },
    {
     "name": "stdout",
     "output_type": "stream",
     "text": [
      "(2.0, 3.0)\n",
      "2.0 3.0\n"
     ]
    }
   ],
   "source": [
    "p = Punt()\n",
    "p.x = float(input())\n",
    "p.y = float(input())\n",
    "d = p.distancia_origen()\n",
    "print(p)\n",
    "print(p.x, p.y)"
   ]
  },
  {
   "cell_type": "markdown",
   "id": "eb8119ba-f0e2-4ad4-a6bd-d71ac17f0074",
   "metadata": {},
   "source": [
    "I també es pot aplicar de la següent manera:"
   ]
  },
  {
   "cell_type": "code",
   "execution_count": 13,
   "id": "f1af6f50-0afa-47d8-ba98-b8e864482ac3",
   "metadata": {},
   "outputs": [],
   "source": [
    "import math\n",
    "\n",
    "class Punt:\n",
    "    _x: float\n",
    "    _y: float\n",
    "    \n",
    "    def __init__(self, x=0.0, y=0.0):\n",
    "        self._x = x\n",
    "        self._y = y\n",
    "\n",
    "    def get_x(self):\n",
    "        return self._x\n",
    "\n",
    "    def set_x(self, valor):\n",
    "        self._x = valor\n",
    "\n",
    "    def get_y(self):\n",
    "        return self._y\n",
    "\n",
    "    def set_y(self, valor):\n",
    "        self._y = valor\n",
    "\n",
    "    def distancia_origen(self):\n",
    "        return math.sqrt(self._x**2 + self._y**2)\n",
    "\n",
    "    def punt_mig(self, p):\n",
    "        return Punt((self._x + p._x)/2, (self._y + p._y)/2)\n",
    "\n",
    "    def __sub__(self, p):\n",
    "        return math.sqrt((self._x - p._x)**2 + (self._y - p._y)**2)\n",
    "\n",
    "    def __eq__(self, p):\n",
    "        return self._x == p._x and self._y == p._y\n",
    "\n",
    "    def __str__(self):\n",
    "        return \"(\" + str(self._x) + \", \" + str(self._y) + \")\"\n",
    "    \n",
    "    x = property(get_x, set_x)\n",
    "    y = property(get_y, set_y)"
   ]
  },
  {
   "cell_type": "code",
   "execution_count": 14,
   "id": "9fe80820-113a-4185-9cbe-c01193fa3d99",
   "metadata": {},
   "outputs": [
    {
     "name": "stdin",
     "output_type": "stream",
     "text": [
      " 2\n",
      " 3\n"
     ]
    },
    {
     "name": "stdout",
     "output_type": "stream",
     "text": [
      "(2.0, 3.0)\n",
      "2.0 3.0\n"
     ]
    }
   ],
   "source": [
    "p = Punt()\n",
    "p.x = float(input())\n",
    "p.y = float(input())\n",
    "d = p.distancia_origen()\n",
    "print(p)\n",
    "print(p.x, p.y)"
   ]
  },
  {
   "cell_type": "code",
   "execution_count": null,
   "id": "47af042c-ca6b-452f-ad6f-6db20c2e0ff9",
   "metadata": {},
   "outputs": [],
   "source": []
  }
 ],
 "metadata": {
  "kernelspec": {
   "display_name": "Python 3 (ipykernel)",
   "language": "python",
   "name": "python3"
  },
  "language_info": {
   "codemirror_mode": {
    "name": "ipython",
    "version": 3
   },
   "file_extension": ".py",
   "mimetype": "text/x-python",
   "name": "python",
   "nbconvert_exporter": "python",
   "pygments_lexer": "ipython3",
   "version": "3.11.5"
  },
  "toc-autonumbering": false
 },
 "nbformat": 4,
 "nbformat_minor": 5
}
