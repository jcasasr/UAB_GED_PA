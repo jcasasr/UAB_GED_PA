{
 "cells": [
  {
   "cell_type": "markdown",
   "id": "b478e5e4-13b8-4d70-bac3-6c08fd9884ca",
   "metadata": {},
   "source": [
    "# **Encapsulament de dades**"
   ]
  },
  {
   "cell_type": "markdown",
   "id": "364344b3-72c4-4698-a8da-efcb2f6010a0",
   "metadata": {
    "tags": []
   },
   "source": [
    "**Exemple**"
   ]
  },
  {
   "cell_type": "code",
   "execution_count": 1,
   "id": "2b6851e2-47d8-4ff1-ae70-b6f2c5a74da5",
   "metadata": {},
   "outputs": [],
   "source": [
    "from dataclasses import dataclass\n",
    "\n",
    "@dataclass\n",
    "class Punt:\n",
    "    x: float = 0.0\n",
    "    y: float = 0.0\n",
    "\n",
    "    def distancia_origen(self):\n",
    "        return math.sqrt(self.x**2 + self.y**2)\n",
    "\n",
    "    def punt_mig(self, p):\n",
    "        return Punt((self.x + p.x)/2, (self.y + p.y)/2)\n",
    "\n",
    "    def __sub__(self, p):\n",
    "        return math.sqrt((self.x - p.x)**2 + (self.y - p.y)**2)\n",
    "\n",
    "    def __eq__(self, p):\n",
    "        return self.x == p.x and self.y == p.y\n",
    "\n",
    "    def __str__(self):\n",
    "        return \"(\" + str(self.x) + \", \" + str(self.y) + \")\""
   ]
  },
  {
   "cell_type": "code",
   "execution_count": 3,
   "id": "0232f1b0-2930-4d74-a492-7975db130735",
   "metadata": {},
   "outputs": [
    {
     "name": "stdin",
     "output_type": "stream",
     "text": [
      "Número de vèrtexs del polígon:  3\n",
      "x:  0\n",
      "y:  0\n",
      "x:  1\n",
      "y:  1\n",
      "x:  2\n",
      "y:  2\n"
     ]
    },
    {
     "name": "stdout",
     "output_type": "stream",
     "text": [
      "Bounding box: (0.0, 0.0) (2.0, 2.0)\n",
      "Area bounding box 4.0\n"
     ]
    }
   ],
   "source": [
    "def llegeix_poligon():\n",
    "    n_vertexs = int(input(\"Número de vèrtexs del polígon: \"))\n",
    "    poligon = []\n",
    "    for i in range(n_vertexs):\n",
    "        x = float(input(\"x: \"))\n",
    "        y = float(input(\"y: \"))\n",
    "        poligon.append(Punt(x, y))\n",
    "    return poligon\n",
    "\n",
    "\n",
    "def bounding_box(poligon):\n",
    "    x = [p.x for p in poligon]\n",
    "    y = [p.y for p in poligon]\n",
    "    top_left = Punt(min(x), min(y))\n",
    "    bottom_right = Punt(max(x), max(y))\n",
    "    return top_left, bottom_right\n",
    "\n",
    "\n",
    "def area_bounding_box(bb):\n",
    "    dx = bb[1].x - bb[0].x\n",
    "    dy = bb[1].y - bb[0].y\n",
    "    return dx * dy\n",
    "\n",
    "\n",
    "poligon = llegeix_poligon()\n",
    "bb = bounding_box(poligon)\n",
    "area = area_bounding_box(bb)\n",
    "print(\"Bounding box:\", bb[0], bb[1])\n",
    "print(\"Area bounding box\", area)"
   ]
  },
  {
   "cell_type": "markdown",
   "id": "15320a0f-69df-4a0a-ad24-2a2fb157ca9c",
   "metadata": {},
   "source": [
    "Què passa si canviem la representació interna de la classe `Punt` i guardem les coordenades `x` i `y` en una llista?"
   ]
  },
  {
   "cell_type": "code",
   "execution_count": 4,
   "id": "c67741a3-16da-4033-9e43-e9d3297dd4c0",
   "metadata": {},
   "outputs": [],
   "source": [
    "from dataclasses import dataclass\n",
    "from typing import List\n",
    "\n",
    "@dataclass\n",
    "class Punt:\n",
    "    coordenades: List[float]\n",
    "\n",
    "    def __init__(self, x=0.0, y=0.0):\n",
    "        self.coordenades = [x, y]\n",
    "\n",
    "    def distancia_origen(self):\n",
    "        return math.sqrt(self.coordenades[0]**2 + self.coordenades[1]**2)\n",
    "\n",
    "    def punt_mig(self, p):\n",
    "        return Punt((self.coordenades[0] + p.coordenades[0])/2, (self.coordenades[1] + p.coordenades[1])/2)\n",
    "\n",
    "    def __sub__(self, p):\n",
    "        return math.sqrt((self.coordenades[0] - p.coordenades[0])**2 + (self.coordenades[1] - p.coordenades[1])**2)\n",
    "\n",
    "    def __eq__(self, p):\n",
    "        return self.coordenades[0] == p.coordenades[0] and self.coordenades[1] == p.coordenades[1]\n",
    "\n",
    "    def __str__(self):\n",
    "        return \"(\" + str(self.coordenades[0]) + \", \" + str(self.coordenades[1]) + \")\""
   ]
  },
  {
   "cell_type": "code",
   "execution_count": 5,
   "id": "03d1e1bb-8384-4675-bbf0-8c076ed20eb8",
   "metadata": {},
   "outputs": [
    {
     "name": "stdin",
     "output_type": "stream",
     "text": [
      "Número de vèrtexs del polígon:  3\n",
      "x:  0\n",
      "y:  0\n",
      "x:  1\n",
      "y:  1\n",
      "x:  2\n",
      "y:  2\n"
     ]
    },
    {
     "ename": "AttributeError",
     "evalue": "'Punt' object has no attribute 'x'",
     "output_type": "error",
     "traceback": [
      "\u001b[0;31m---------------------------------------------------------------------------\u001b[0m",
      "\u001b[0;31mAttributeError\u001b[0m                            Traceback (most recent call last)",
      "\u001b[0;32m<ipython-input-5-ea827c42b04f>\u001b[0m in \u001b[0;36m<module>\u001b[0;34m\u001b[0m\n\u001b[1;32m     25\u001b[0m \u001b[0mpoligon\u001b[0m \u001b[0;34m=\u001b[0m \u001b[0mllegeix_poligon\u001b[0m\u001b[0;34m(\u001b[0m\u001b[0;34m)\u001b[0m\u001b[0;34m\u001b[0m\u001b[0;34m\u001b[0m\u001b[0m\n\u001b[1;32m     26\u001b[0m \u001b[0mbb\u001b[0m \u001b[0;34m=\u001b[0m \u001b[0mbounding_box\u001b[0m\u001b[0;34m(\u001b[0m\u001b[0mpoligon\u001b[0m\u001b[0;34m)\u001b[0m\u001b[0;34m\u001b[0m\u001b[0;34m\u001b[0m\u001b[0m\n\u001b[0;32m---> 27\u001b[0;31m \u001b[0marea\u001b[0m \u001b[0;34m=\u001b[0m \u001b[0marea_bounding_box\u001b[0m\u001b[0;34m(\u001b[0m\u001b[0mbb\u001b[0m\u001b[0;34m)\u001b[0m\u001b[0;34m\u001b[0m\u001b[0;34m\u001b[0m\u001b[0m\n\u001b[0m\u001b[1;32m     28\u001b[0m \u001b[0mprint\u001b[0m\u001b[0;34m(\u001b[0m\u001b[0;34m\"Bounding box:\"\u001b[0m\u001b[0;34m,\u001b[0m \u001b[0mbb\u001b[0m\u001b[0;34m[\u001b[0m\u001b[0;36m0\u001b[0m\u001b[0;34m]\u001b[0m\u001b[0;34m,\u001b[0m \u001b[0mbb\u001b[0m\u001b[0;34m[\u001b[0m\u001b[0;36m1\u001b[0m\u001b[0;34m]\u001b[0m\u001b[0;34m)\u001b[0m\u001b[0;34m\u001b[0m\u001b[0;34m\u001b[0m\u001b[0m\n\u001b[1;32m     29\u001b[0m \u001b[0mprint\u001b[0m\u001b[0;34m(\u001b[0m\u001b[0;34m\"Area bounding box\"\u001b[0m\u001b[0;34m,\u001b[0m \u001b[0marea\u001b[0m\u001b[0;34m)\u001b[0m\u001b[0;34m\u001b[0m\u001b[0;34m\u001b[0m\u001b[0m\n",
      "\u001b[0;32m<ipython-input-5-ea827c42b04f>\u001b[0m in \u001b[0;36marea_bounding_box\u001b[0;34m(bb)\u001b[0m\n\u001b[1;32m     18\u001b[0m \u001b[0;34m\u001b[0m\u001b[0m\n\u001b[1;32m     19\u001b[0m \u001b[0;32mdef\u001b[0m \u001b[0marea_bounding_box\u001b[0m\u001b[0;34m(\u001b[0m\u001b[0mbb\u001b[0m\u001b[0;34m)\u001b[0m\u001b[0;34m:\u001b[0m\u001b[0;34m\u001b[0m\u001b[0;34m\u001b[0m\u001b[0m\n\u001b[0;32m---> 20\u001b[0;31m     \u001b[0mdx\u001b[0m \u001b[0;34m=\u001b[0m \u001b[0mbb\u001b[0m\u001b[0;34m[\u001b[0m\u001b[0;36m1\u001b[0m\u001b[0;34m]\u001b[0m\u001b[0;34m.\u001b[0m\u001b[0mx\u001b[0m \u001b[0;34m-\u001b[0m \u001b[0mbb\u001b[0m\u001b[0;34m[\u001b[0m\u001b[0;36m0\u001b[0m\u001b[0;34m]\u001b[0m\u001b[0;34m.\u001b[0m\u001b[0mx\u001b[0m\u001b[0;34m\u001b[0m\u001b[0;34m\u001b[0m\u001b[0m\n\u001b[0m\u001b[1;32m     21\u001b[0m     \u001b[0mdy\u001b[0m \u001b[0;34m=\u001b[0m \u001b[0mbb\u001b[0m\u001b[0;34m[\u001b[0m\u001b[0;36m1\u001b[0m\u001b[0;34m]\u001b[0m\u001b[0;34m.\u001b[0m\u001b[0my\u001b[0m \u001b[0;34m-\u001b[0m \u001b[0mbb\u001b[0m\u001b[0;34m[\u001b[0m\u001b[0;36m0\u001b[0m\u001b[0;34m]\u001b[0m\u001b[0;34m.\u001b[0m\u001b[0my\u001b[0m\u001b[0;34m\u001b[0m\u001b[0;34m\u001b[0m\u001b[0m\n\u001b[1;32m     22\u001b[0m     \u001b[0;32mreturn\u001b[0m \u001b[0mdx\u001b[0m \u001b[0;34m*\u001b[0m \u001b[0mdy\u001b[0m\u001b[0;34m\u001b[0m\u001b[0;34m\u001b[0m\u001b[0m\n",
      "\u001b[0;31mAttributeError\u001b[0m: 'Punt' object has no attribute 'x'"
     ]
    }
   ],
   "source": [
    "def llegeix_poligon():\n",
    "    n_vertexs = int(input(\"Número de vèrtexs del polígon: \"))\n",
    "    poligon = []\n",
    "    for i in range(n_vertexs):\n",
    "        x = float(input(\"x: \"))\n",
    "        y = float(input(\"y: \"))\n",
    "        poligon.append(Punt(x, y))\n",
    "    return poligon\n",
    "\n",
    "\n",
    "def bounding_box(poligon):\n",
    "    x = [p.coordenades[0] for p in poligon]\n",
    "    y = [p.coordenades[1] for p in poligon]\n",
    "    top_left = Punt(min(x), min(y))\n",
    "    bottom_right = Punt(max(x), max(y))\n",
    "    return top_left, bottom_right\n",
    "\n",
    "\n",
    "def area_bounding_box(bb):\n",
    "    dx = bb[1].x - bb[0].x\n",
    "    dy = bb[1].y - bb[0].y\n",
    "    return dx * dy\n",
    "\n",
    "\n",
    "poligon = llegeix_poligon()\n",
    "bb = bounding_box(poligon)\n",
    "area = area_bounding_box(bb)\n",
    "print(\"Bounding box:\", bb[0], bb[1])\n",
    "print(\"Area bounding box\", area)"
   ]
  },
  {
   "cell_type": "markdown",
   "id": "baecd239-891f-4db1-aa91-33f6c3b61f64",
   "metadata": {
    "tags": []
   },
   "source": [
    "#### **Abstracció de dades**\n",
    "- Els clients (programes que utilitzen la classe) no han de conèixer ni tenir accés directe a la representació interna de la classe\n",
    "- Qualsevol canvi o consulta a l'estat intern de la classe s'ha de fer utilitzant els mètodes de la interfície pública de la classe\n",
    "- La interfície pública amaga (abstrau) la representació interna de la classe als programes/classes (clients) que la utilitzen\n",
    "- S'aconsegueix amb l'encapsulament de dades: distingir entre part privada i pública de la classe"
   ]
  },
  {
   "cell_type": "markdown",
   "id": "65321456-5e41-4824-822e-d4ab23e89261",
   "metadata": {
    "tags": []
   },
   "source": [
    "#### **Encapsulament de dades: part privada i pública**\n",
    "- La **part pública** d'una classe defineix la **interfície pública** de la classe i és accessible des de qualsevol classe o programa extern que hagi d'utilitzar la classe.\n",
    "- La **part privada** d'una classe defineix la **representació interna**  de la classe i només és accessible des del codi de la pròpia classe. No s'hi pot accedir des de classes o programes externs que utilitzin la classe. \n",
    "- En Python, els atributs o mètodes privats de la classe s'indiquen posen un **caràcter de subratllat `_`** davant del nom de l'atribut o mètode.\n",
    "- És una convenció implícita. No és una obligació, **és només una recomanació**: els programes externs poden seguir accedint als atributs privats, però un bon programador en Python mai ho farà.\n"
   ]
  },
  {
   "cell_type": "markdown",
   "id": "1d96a363-f1ea-4daf-b699-0551228d92f7",
   "metadata": {},
   "source": [
    "**Exemple**"
   ]
  },
  {
   "cell_type": "code",
   "execution_count": 6,
   "id": "9a55259c-93c7-4181-b180-a67bb1081926",
   "metadata": {},
   "outputs": [],
   "source": [
    "from dataclasses import dataclass\n",
    "import math\n",
    "\n",
    "@dataclass\n",
    "class Punt:\n",
    "    _x: float = 0.0\n",
    "    _y: float = 0.0\n",
    "  \n",
    "    def distancia_origen(self):\n",
    "        return math.sqrt(self._x**2 + self._y**2)\n",
    "\n",
    "    def punt_mig(self, p):\n",
    "        return Punt((self._x + p._x)/2, (self._y + p._y)/2)\n",
    "\n",
    "    def __sub__(self, p):\n",
    "        return math.sqrt((self._x - p._x)**2 + (self._y - p._y)**2)\n",
    "\n",
    "    def __eq__(self, p):\n",
    "        return self._x == p._x and self._y == p._y\n",
    "\n",
    "    def __str__(self):\n",
    "        return \"(\" + str(self._x) + \", \" + str(self._y) + \")\""
   ]
  },
  {
   "cell_type": "code",
   "execution_count": 8,
   "id": "171fd0aa-ba4f-44af-9417-e077d2b2ad48",
   "metadata": {},
   "outputs": [
    {
     "name": "stdin",
     "output_type": "stream",
     "text": [
      " 1\n",
      " 1\n"
     ]
    },
    {
     "name": "stdout",
     "output_type": "stream",
     "text": [
      "(1.0, 1.0)\n",
      "1.0 1.0\n"
     ]
    }
   ],
   "source": [
    "p = Punt()\n",
    "p._x = float(input())\n",
    "p._y = float(input())\n",
    "d = p.distancia_origen()\n",
    "print(p)\n",
    "print(p._x, p._y)"
   ]
  },
  {
   "cell_type": "markdown",
   "id": "dafd23c8-95ae-4ea0-a531-b6a4a6f6973a",
   "metadata": {},
   "source": [
    "**Accés al valor dels atributs privats: `getters` i `setters`**\n",
    "- **getters**: Mètodes per recuperar el valor d'un atribut privat.\n",
    "- **setters**: Mètodes per modificar el valor d'una atribut privat."
   ]
  },
  {
   "cell_type": "markdown",
   "id": "9bd9423e-fbff-4f94-bebf-57dec0550928",
   "metadata": {},
   "source": [
    "**Exemple:**"
   ]
  },
  {
   "cell_type": "code",
   "execution_count": 9,
   "id": "b27b8ddb-8569-42ac-b821-53925838e0af",
   "metadata": {},
   "outputs": [],
   "source": [
    "from dataclasses import dataclass\n",
    "import math\n",
    "\n",
    "@dataclass\n",
    "class Punt:\n",
    "    _x: float = 0.0\n",
    "    _y: float = 0.0\n",
    "\n",
    "    def get_x(self):\n",
    "        return self._x\n",
    "\n",
    "    def set_x(self, valor):\n",
    "        self._x = valor\n",
    "\n",
    "    def get_y(self):\n",
    "        return self._y\n",
    "\n",
    "    def set_y(self, valor):\n",
    "        self._y = valor\n",
    "    \n",
    "    def distancia_origen(self):\n",
    "        return math.sqrt(self._x**2 + self._y**2)\n",
    "\n",
    "    def punt_mig(self, p):\n",
    "        return Punt((self._x + p._x)/2, (self._y + p._y)/2)\n",
    "\n",
    "    def __sub__(self, p):\n",
    "        return math.sqrt((self._x - p._x)**2 + (self._y - p._y)**2)\n",
    "\n",
    "    def __eq__(self, p):\n",
    "        return self._x == p._x and self._y == p._y\n",
    "\n",
    "    def __str__(self):\n",
    "        return \"(\" + str(self._x) + \", \" + str(self._y) + \")\""
   ]
  },
  {
   "cell_type": "code",
   "execution_count": 10,
   "id": "c908ab6f-7e12-4a9d-bcc2-15423aab4bf1",
   "metadata": {},
   "outputs": [
    {
     "name": "stdin",
     "output_type": "stream",
     "text": [
      " 1\n",
      " 1\n"
     ]
    },
    {
     "name": "stdout",
     "output_type": "stream",
     "text": [
      "(1.0, 1.0)\n",
      "1.0 1.0\n"
     ]
    }
   ],
   "source": [
    "p = Punt()\n",
    "p.set_x(float(input()))\n",
    "p.set_y(float(input()))\n",
    "d = p.distancia_origen()\n",
    "print(p)\n",
    "print(p.get_x(), p.get_y())"
   ]
  },
  {
   "cell_type": "code",
   "execution_count": 13,
   "id": "11f9d689-0562-46e7-bcdb-5303bedda038",
   "metadata": {},
   "outputs": [
    {
     "name": "stdin",
     "output_type": "stream",
     "text": [
      "Número de vèrtexs del polígon:  3\n",
      "x:  0\n",
      "y:  0\n",
      "x:  1\n",
      "y:  1\n",
      "x:  2\n",
      "y:  2\n"
     ]
    },
    {
     "name": "stdout",
     "output_type": "stream",
     "text": [
      "Bounding box: (0.0, 0.0) (2.0, 2.0)\n",
      "Area bounding box 4.0\n"
     ]
    }
   ],
   "source": [
    "def llegeix_poligon():\n",
    "    n_vertexs = int(input(\"Número de vèrtexs del polígon: \"))\n",
    "    poligon = []\n",
    "    for i in range(n_vertexs):\n",
    "        x = float(input(\"x: \"))\n",
    "        y = float(input(\"y: \"))\n",
    "        poligon.append(Punt(x, y))\n",
    "    return poligon\n",
    "\n",
    "\n",
    "def bounding_box(poligon):\n",
    "    x = [p.get_x() for p in poligon]\n",
    "    y = [p.get_y() for p in poligon]\n",
    "    top_left = Punt(min(x), min(y))\n",
    "    bottom_right = Punt(max(x), max(y))\n",
    "    return top_left, bottom_right\n",
    "\n",
    "\n",
    "def area_bounding_box(bb):\n",
    "    dx = bb[1].get_x() - bb[0].get_x()\n",
    "    dy = bb[1].get_y() - bb[0].get_y()\n",
    "    return dx * dy\n",
    "\n",
    "\n",
    "poligon = llegeix_poligon()\n",
    "bb = bounding_box(poligon)\n",
    "area = area_bounding_box(bb)\n",
    "print(\"Bounding box:\", bb[0], bb[1])\n",
    "print(\"Area bounding box\", area)"
   ]
  },
  {
   "cell_type": "markdown",
   "id": "751578dd-907f-475b-a2b9-5ebc79e5c8ae",
   "metadata": {},
   "source": [
    "**Properties**\n",
    "- **`@property`** és un decorador que converteix un mètode que fa de `getter/setter` en una propietat.\n",
    "- Les **propietats** permeten posar les crides als `getters/setters` com si fossin consultes/modificacions directes dels valors dels atributs. "
   ]
  },
  {
   "cell_type": "markdown",
   "id": "214c9189-e014-4730-a90e-3ee952868a46",
   "metadata": {},
   "source": [
    "**Exemple**"
   ]
  },
  {
   "cell_type": "code",
   "execution_count": 14,
   "id": "27ea1e3b-e34c-4fc8-bf93-e1cd6b472b0f",
   "metadata": {},
   "outputs": [],
   "source": [
    "from dataclasses import dataclass\n",
    "import math\n",
    "\n",
    "@dataclass\n",
    "class Punt:\n",
    "    _x: float = 0.0\n",
    "    _y: float = 0.0\n",
    "\n",
    "    @property\n",
    "    def x(self):\n",
    "        return self._x\n",
    "\n",
    "    @x.setter\n",
    "    def x(self, valor):\n",
    "        self._x = valor\n",
    "\n",
    "    @property\n",
    "    def y(self):\n",
    "        return self._y\n",
    "\n",
    "    @y.setter\n",
    "    def y(self, valor):\n",
    "        self._y = valor\n",
    "\n",
    "    def distancia_origen(self):\n",
    "        return math.sqrt(self._x**2 + self._y**2)\n",
    "\n",
    "    def punt_mig(self, p):\n",
    "        return Punt((self._x + p._x)/2, (self._y + p._y)/2)\n",
    "\n",
    "    def __sub__(self, p):\n",
    "        return math.sqrt((self._x - p._x)**2 + (self._y - p._y)**2)\n",
    "\n",
    "    def __eq__(self, p):\n",
    "        return self._x == p._x and self._y == p._y\n",
    "\n",
    "    def __str__(self):\n",
    "        return \"(\" + str(self._x) + \", \" + str(self._y) + \")\""
   ]
  },
  {
   "cell_type": "code",
   "execution_count": 15,
   "id": "2954fc16-2a53-4880-856c-513eb5002caf",
   "metadata": {},
   "outputs": [
    {
     "name": "stdin",
     "output_type": "stream",
     "text": [
      " 1\n",
      " 1\n"
     ]
    },
    {
     "name": "stdout",
     "output_type": "stream",
     "text": [
      "(1.0, 1.0)\n",
      "1.0 1.0\n"
     ]
    }
   ],
   "source": [
    "p = Punt()\n",
    "p.x = float(input())\n",
    "p.y = float(input())\n",
    "d = p.distancia_origen()\n",
    "print(p)\n",
    "print(p.x, p.y)"
   ]
  },
  {
   "cell_type": "markdown",
   "id": "daa1279f-43da-48af-b3a1-4f7bda46d207",
   "metadata": {},
   "source": [
    "#### **Exercici**"
   ]
  },
  {
   "cell_type": "markdown",
   "id": "6e8f3e6a-83c3-4c6d-8238-0af358edbcc9",
   "metadata": {},
   "source": [
    "Recuperem del codi de les classes `Data` i `Llibre` de l'exercici 8"
   ]
  },
  {
   "cell_type": "code",
   "execution_count": 16,
   "id": "b8357000-e1ff-41c1-8cd5-9a021384fc0f",
   "metadata": {},
   "outputs": [],
   "source": [
    "from dataclasses import dataclass, field\n",
    "from typing import ClassVar, List\n",
    "\n",
    "@dataclass\n",
    "class Data:\n",
    "    dia: int = 1\n",
    "    mes: int = 1\n",
    "    any: int = 1\n",
    "    dies_mes: ClassVar[List[int]] = [31, 28, 31, 30, 31, 30, 31, 31, 30, 31, 30, 31]\n",
    "    \n",
    "    def __post_init__(self):\n",
    "        assert self.es_valida(), 'Data no vàlida'\n",
    "\n",
    "    def es_traspas(self):\n",
    "        return (self.any % 4) == 0 and ((self.any %\n",
    "                                         100) != 0 or (self.any % 400) == 0)\n",
    "\n",
    "    def es_valida(self):        \n",
    "        dies = Data.dies_mes[self.mes - 1]\n",
    "        if self.es_traspas() and self.mes == 2:\n",
    "            dies += 1\n",
    "        return 1 <= self.mes and self.mes <= 12 and 1 <= self.any and 1 <= self.dia and self.dia <= dies\n",
    "    def __lt__(self, data):\n",
    "        menor = False\n",
    "        if self.any < data.any:\n",
    "            menor = True\n",
    "        elif self.any == data.any:\n",
    "            if self.mes < data.mes:\n",
    "                menor = True\n",
    "            elif self.mes == data.mes:\n",
    "                menor = (self.dia < data.dia)\n",
    "        return menor\n",
    "\n",
    "    def __eq__(self, data):\n",
    "        return self.any == data.any and self.mes == data.mes and\\\n",
    "            self.dia == data.dia\n",
    "\n",
    "    def __add__(self, n_dies):\n",
    "        data_resultat = Data(self.dia, self.mes, self.any)\n",
    "        while (n_dies > 0):\n",
    "            dies_mes = data_resultat.dies_mes[data_resultat.mes - 1]\n",
    "            if data_resultat.es_traspas() and data_resultat.mes == 2:\n",
    "                dies_mes += 1\n",
    "            if ((data_resultat.dia + n_dies) > dies_mes):\n",
    "                n_dies -= (dies_mes - data_resultat.dia) + 1\n",
    "                data_resultat.dia = 1\n",
    "                data_resultat.mes += 1\n",
    "                if (data_resultat.mes > 12):\n",
    "                    data_resultat.mes = 1\n",
    "                    data_resultat.any += 1\n",
    "            else:\n",
    "                data_resultat.dia += n_dies\n",
    "                n_dies = 0\n",
    "        return data_resultat\n",
    "\n",
    "    def __str__(self):\n",
    "        return '{dia:02d}/{mes:02d}/{any:04d}'.format(dia=self.dia,\n",
    "                                                      mes=self.mes,\n",
    "                                                      any=self.any)\n",
    "    \n",
    "\n",
    "@dataclass   \n",
    "class Llibre:\n",
    "    titol: str = \"\"\n",
    "    autor: str = \"\"\n",
    "    prestat: bool = field(init=False, default=False)\n",
    "    data_prestec: Data = field(init=False, default=Data())\n",
    "    \n",
    "    def presta(self, data):\n",
    "        assert data.es_valida(), 'Data de préstec no vàlida'\n",
    "        assert not self.prestat, 'Llibre ja prestat'\n",
    "        self.prestat = True\n",
    "        self.data_prestec = data\n",
    "\n",
    "    def retorna(self, dia):\n",
    "        assert self.prestat, 'Llibre no prestat'\n",
    "        data_limit = self.data_prestec + 60\n",
    "        self.prestat = False\n",
    "        self.data_prestec = Data()\n",
    "        if dia < data_limit or data_limit == dia:\n",
    "            return True\n",
    "        else:\n",
    "            return False"
   ]
  },
  {
   "cell_type": "code",
   "execution_count": 17,
   "id": "f32bda15-c2a1-4b23-8788-2e3699c6aa9d",
   "metadata": {},
   "outputs": [
    {
     "name": "stdout",
     "output_type": "stream",
     "text": [
      "Inicialització llibre:  AUTOR1 TITOL1 False\n",
      "Préstec del llibre:  AUTOR1 TITOL1 True\n",
      "Retorn del llibre:  AUTOR1 TITOL1 False\n"
     ]
    }
   ],
   "source": [
    "l = Llibre()\n",
    "l.titol = \"TITOL1\"\n",
    "l.autor = \"AUTOR1\"\n",
    "print(\"Inicialització llibre: \", l.autor, l.titol, l.prestat)\n",
    "l.presta(Data(20,2,2022))\n",
    "print(\"Préstec del llibre: \", l.autor, l.titol, l.prestat)\n",
    "l.retorna(Data(21,2,2022))\n",
    "print(\"Retorn del llibre: \", l.autor, l.titol, l.prestat)\n"
   ]
  },
  {
   "cell_type": "markdown",
   "id": "792c1088-09ab-45b3-84f5-554c8041c1d3",
   "metadata": {},
   "source": [
    "1. Convertiu tots els atributs de la classe `Data` en atributs privats. Fa falta afegir `getters` i `setters` per recuperar o consultar el valor d'aquests atributs?\n",
    "2. Convertiu tots els atributs de la classe `Llibre` en atributs privats. Afegiu les propietats que faci falta (només les imprescindibles) perquè el codi de l'exemple es pugui executar.\n",
    "3. Modifiqueu la representació interna de la classe `Llibre` eliminant l'atribut `prestat` ja que es pot saber si un llibre està prestat en funció del valor de la data de préstec (si la data de préstec és igual al valor de la data per defecte, vol dir que el llibre no està prestat. Si té un valor diferent, vol dir que està prestat). Feu totes les modificacions necessàries a la classe `Llibre` perquè el codi de l'exemple es pugui continuar executant correctament sense cap canvi."
   ]
  },
  {
   "cell_type": "code",
   "execution_count": null,
   "id": "ac37677c-1336-4a32-957c-7110a6023a81",
   "metadata": {},
   "outputs": [],
   "source": []
  }
 ],
 "metadata": {
  "kernelspec": {
   "display_name": "Python 3",
   "language": "python",
   "name": "python3"
  },
  "language_info": {
   "codemirror_mode": {
    "name": "ipython",
    "version": 3
   },
   "file_extension": ".py",
   "mimetype": "text/x-python",
   "name": "python",
   "nbconvert_exporter": "python",
   "pygments_lexer": "ipython3",
   "version": "3.8.8"
  },
  "toc-autonumbering": false
 },
 "nbformat": 4,
 "nbformat_minor": 5
}
