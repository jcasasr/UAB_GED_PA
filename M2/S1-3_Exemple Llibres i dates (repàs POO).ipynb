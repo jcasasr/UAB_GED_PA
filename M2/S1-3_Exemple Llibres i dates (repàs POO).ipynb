{
 "cells": [
  {
   "cell_type": "markdown",
   "id": "f90b795d-6ec5-4220-9e77-fd81266df833",
   "metadata": {
    "tags": []
   },
   "source": [
    "<div style=\"width: 100%; clear: both;\">\n",
    "<div style=\"float: left; width: 50%;\">\n",
    "<img src=\"data:image/jpeg;base64,/9j/4AAQSkZJRgABAgEASABIAAD/4QD6RXhpZgAATU0AKgAAAAgABwESAAMAAAABAAEAAAEaAAUAAAABAAAAYgEbAAUAAAABAAAAagEoAAMAAAABAAIAAAExAAIAAAAjAAAAcgITAAMAAAABAAEAAIdpAAQAAAABAAAAlgAAAAAAAABIAAAAAQAAAEgAAAABQWRvYmUgSWxsdXN0cmF0b3IgMjYuNCAoTWFjaW50b3NoKQAAAAeQAAAHAAAABDAyMjGRAQAHAAAABAECAwCgAAAHAAAABDAxMDCgAQADAAAAAQABAACgAgAEAAAAAQAAASygAwAEAAAAAQAAAJmkBgADAAAAAQAAAAAAAAAAAAD/wAARCABmAMgDASIAAhEBAxEB/8QAHwAAAQUBAQEBAQEAAAAAAAAAAAECAwQFBgcICQoL/8QAtRAAAgEDAwIEAwUFBAQAAAF9AQIDAAQRBRIhMUEGE1FhByJxFDKBkaEII0KxwRVS0fAkM2JyggkKFhcYGRolJicoKSo0NTY3ODk6Q0RFRkdISUpTVFVWV1hZWmNkZWZnaGlqc3R1dnd4eXqDhIWGh4iJipKTlJWWl5iZmqKjpKWmp6ipqrKztLW2t7i5usLDxMXGx8jJytLT1NXW19jZ2uHi4+Tl5ufo6erx8vP09fb3+Pn6/8QAHwEAAwEBAQEBAQEBAQAAAAAAAAECAwQFBgcICQoL/8QAtREAAgECBAQDBAcFBAQAAQJ3AAECAxEEBSExBhJBUQdhcRMiMoEIFEKRobHBCSMzUvAVYnLRChYkNOEl8RcYGRomJygpKjU2Nzg5OkNERUZHSElKU1RVVldYWVpjZGVmZ2hpanN0dXZ3eHl6goOEhYaHiImKkpOUlZaXmJmaoqOkpaanqKmqsrO0tba3uLm6wsPExcbHyMnK0tPU1dbX2Nna4uPk5ebn6Onq8vP09fb3+Pn6/9sAQwABAQEBAQECAQECAwICAgMEAwMDAwQFBAQEBAQFBgUFBQUFBQYGBgYGBgYGBwcHBwcHCAgICAgJCQkJCQkJCQkJ/9sAQwEBAQECAgIEAgIECQYFBgkJCQkJCQkJCQkJCQkJCQkJCQkJCQkJCQkJCQkJCQkJCQkJCQkJCQkJCQkJCQkJCQkJ/90ABAAN/9oADAMBAAIRAxEAPwD8p6KKK/Bz/B8KKKKACiiigAooooAKKKKACiiigAooooAKKKKGwCiiigAooooAKKKKACiiigAooooA/9D8p6KKK/Bz/B8KKKKACiiigAr6a/ZQ/ZN+LX7ZXxSb4RfBlLF9YTT7jUiNQujaReRavDHJ+8WKY7t06YXZyMnIxz8y1+6X/Bvb/wAn8Tf9idrP/pVplVTpe0qQpXtzSS031dj9E8KOHMNm2f4bL8Ym4Tkk7H5x/tefsXfGn9ibxrpngH42x6dHqGrWJ1CAaddteJ5KyGI7naGHa27+HB45z2ryr4B/BDxv+0h8X9C+CPw3W2bXPEU729mLyY28JeOCW4bfKElKjZC3Ow5OB3yP3F/4OPeP2p/BA/6lWT/0tNfn7/wSF/5SQ/Cb/sLXP/prv61xWE9niHQi3ZStfS+9u1r/ACPt+JuAMuwvHkchpJ+xdSEbX1s7X1OI/bF/4J3/ALRP7Dmm6Bqnxyi0qOLxHLcQ2f8AZt814S1sivJvDW8G0YYYILZPp3+NfCHhTXvHXirTPBfhe3N1qWsXlvYWkK9ZJ7qVYYkH1dwCewyTwK/qs/4OWAB4M+EH/YQ1f/0mir8/f+CCX7M5+Mf7XrfGDW7cy6N8NrQ6gGYHY2p3gkt7NfQmOMXEpHY+W1dWLyt08Z9SotvVJX31Sb2XRXfTY97jDwdwq46hw3lqapycb3d2k0nJ/mzP/wCIf7/goGePsvhcf9xuT/5Ar8bfHXgrxJ8OfGereAPF9sbPVdEvbjT7yFusc9rK0Ui9Bkblyp/iUhhwRX94l5/wUV0WD/gqhbfsM+bD/ZD6A0Ulxkbh4hYC9jtc4/58VLEZ+8wGM1/Pp/wX7/Zn/wCFTftYWvxu0K3MekfEi0+0ysoOxdVsVSC5BPQGaAwSAcZKSNzya6MxyqhSputhZuSjLlle2j8rJdbL/hj7Lxl8GMiwmS1Mz4eu3QnyVLu/l26Nr7z85P2PP2GPjp+3Dr2ueHPgdHpsl14etbe7uxqV41mvlXMkkUZRlgn3HdE2RhcDHJzivvP/AIh//wDgoF2tfC//AIPJP/kCvqX/AINrufi/8VO//Eh0f/0tva7H/grF+31+3l+z9+2fq/w0+APifUNN8N2+laXcRW1vpVtdxrLOkpmIlktJny21cgvgdgMmufDYHD/Uo4zESneUpRtG1lZyS3T6L7zThPwx4VpcHYfiHN6NScptp8jXdpafLufn541/4IT/APBQzwf4en1+18PaRrZt1Lm10rV0mumA6+XHPBbK59F8wE9smvyA1bSdT0HU7nRdatpbO8s5XgngnjaKWKWJikkckbgMjowKsrAEEEEV/b3/AMEWf2p/2xv2nPBPjW9/alS4vrLSbm0TSNWutPGnyTvKspuYAEihSZYgsTB0jGDIUJYjj+cD/gs9qPgDU/8Agov8Qbj4ftE0aNYQ37Q42NqUdpGt104LAeUrkfxqwPINXj8vo0sPTxNCUmpu1pWv110S7Hzni54VZDheHaHEeS89NTduSpu99fw87rVH5Z0UUV5Z/KjQUUUUCCiiigAooooA/9H8p6KKK/Bz/B8KKKKACiiigAr9zv8Ag3wliT9vp1dgC/hDWlUHuftOmnj8Bmvwxr6n/Yx/ae8QfsfftHeGvj3oFub0aPM6XdnvCfarK4QxXMG48KzKQ6E8CRE3ELmtKFRQqwqPaMov5Jps/RvCXP8AD5XxDhcdinaEZK77K+5+xP8AwcgWdzF+034DvZEIim8LTqj44JjvhvGfbev5ivz9/wCCPVjd3/8AwUk+FS2UbSeTqN5M+0Z2xppd9uY+gG4c+4r+o/xf48/4JVf8FY/h5pMHjfxFp15daWWmtoJ75tF1zTZJgFljKl4plV9oDD5opNqsNwCtVT4Q/BL/AIJMf8EzdRvPjDpXijStL1WW2a1XUNY1w6jdrC5DPDaRNI7BpSq7hDHvk2gHIAFfR4jKHWxbxUKkfZOSlfm1Vmm123Xdbn9nZ34SrMOLocW0cZS+rc0Z35u1tO2rXc+F/wDg5Wnt/wDhE/hBbSyKjG+1iQ7jjCLbwhnPsuRk192f8EofgtF+xv8A8E67T4geINLnk1/xTDJ4qv7SGJmupGuY1FhZqn3jKLdYIgmOZCeMmvwS/ap/a3+GX/BUH/goJ4I0fxRqFv4R+E2gXP2EXmuSpZq+nLILvUbm481lWJr0QR20UTHeqlS2HZkT9kf+CkP/AAWJ+FvwF+EWmeGv2NfEfh/xZ4q1p2hiurGeHULTSLWALmZ44X2NMxKx28bELndIQyxlWvDZhhpY6vj5S0jpHu7pK6X4J+b1Wp62T8U5H/b2acX1q8fZwSpwd1d2STcYt3eqsujvva58NeBf+CMX/BQXx98Vov2uvHnjTw94N8dXmtjxQbWQXWpS214bgXKxSy27wx7UAEDIhdfKGwOw5r9g/wDgr9+zLe/tK/sMa/DYWi3PibweF8R6asS7meWzRvtUEWcH9/bNNEvTlhx2r+O/Wf8Agpf+3zr13Jfal8XfE5kkYsRFdRQID6KkEMSKPYKK/oE/4I7/APBUTwl4g+FHir4Z/tq/EazttV0y/W507UPE1/FDJeWV6mJIBLMyiRoJkf5QMrHInGK5coxeA5Z4RwlD2i1lKSd2uu7SfW9lr5ng+HniHwXmP1jIMLGcPrKlzSqSVpOz13snrfRLp2R86f8ABtgUPxg+KjRsHRtA0ZlYdCrXl6VI9iMEV9+ft+/8FodW/Yn/AGj7/wCAtt8OrbxJHZWFjei+l1RrRmN4sjFPKW0mA2eXjO/nPQY5+O/+CYvjn9kv9jr9uv4+aNcfEbwxZeBry201/DWpvqlqtnc2s11d3SwQzbxGzWqzCFkUkqEUnrX2n+0b4A/4Ih/tWfFO5+M3xl+Jnhy9167tre0kltvGBs4zFahhEPKt7pEyN7c4yc80ZXia0cqjSw9aMainO92lpzS7p76NO2qPpeFJ4vC8G0csynG0qWIhOSvKUbWU5dHffRp21R6b+wf/AMFEPB//AAVN8LeNvhNrXh3VPAupaVZwSXDaXqsqmS1vWlhV7W+thb3EMqPEwYbVIypVm5x/Jb/wUX/ZOb9jP9qvX/gzbajNq2nCODVNOu7lt1zJZ3/mMn2ggANMsscqO/8Ay02hz8zMK/qz+BXxe/4Ixf8ABPTwtrmq/BPx94cgk1cRvevbaxJrup3S24byoo1ElxcMql2KRRgLuZjjLE1/KN/wUQ/a1j/bS/ao1/43abZvp+kyx2+naXbzAecljZBxEZtpYCSR5ZZGUEhQ4TJKkkzisp4al7acZ1k3dxd/dd+3/bva5+c+P+Ows+FMNSzbEwrY5S3g01bW+1la1ui126nw9RRRXz5/CgUUUUAFFFFABRRRQB//0vynooor8HR/g+egfDv4V/Eb4tarc6H8M9DvdevLO0lv54bGIzPHawbRLMyjpGhZdzdsj1pug/C34i+KPAWsfFHw5ol7feHdAMK6jqUERe2tTcbfK86QcJ5m5dueuR61+r//AAQ723n7Vnifw7A6m+1j4f8AiGys4iwDT3DPZMsaZIyxVSQPRSexr3r9kT4JfEL4E/8ABNj4p+GP2kvC994aTxT4x8D6RBZa1bPbtfN9u063uIkikAaRDl0ZgCpAYglQTRToym01t7130XKk100vfr8j+huCvBvD5rl9DGOclzqrzNfDFwinG+ml29b79D+e+a2uLeN5Z0ZFjDM5YEbQoyxPsB19K9B+IPwf+KXwpk0+H4k+HtQ0J9Vs11CzW+gaEz2rkBZo8/ejJIG73r+mz4g/CL9k7xp+0Z+0p+xhpPwX8I6Bo/g/wVNrmn61p9ns1eHUVsYZfNilI2QRL56iOKJQoKMzb/NZRD4g+Bv7P3xZ+K/gf9mHxZ4X006n8SvgXBdaBqksQe6sNftUeVZLWSXcY3mjdmbaRnyACCK3eArJ7rey13d7W29LdNdfL3qf0c06VRLEpyvyxeqXOpuDi01d3aSTulrc/lXFtcMFKox3/d4PPrj6U4WtxuEYQkkZGATkeo9RX9TXwc/Yy/ZO8K+PNE/Z0+JXg/RtQ+IXww+Fg8W67DJpr6n/AGpr+qOd6XNnblbjUo9MVP3dmDyLiPaNwjK978Iv2Vf2Pfi18aPhH4w8VfD6xkn8R6B4lOr2Z8HXnhPSdU+yLC8F9FoeqM89tc25OzeeW8zdkjy8dFPKMTK1rb23fe3bo/1tfS7wP0YcdVhFvEwTuk1ro/dTT0umm7W629L/AMk8tlJcxi3vLdZkTkLNGHVd3s4IGf1rvdC+EPxH1LwHq/xU8M+GrpvD2hzx2mpanaWgW3tpptnlxTSoo2s/mJgHrvX1Ffv7+zBffss/HP4aeOfjdp/wU8P+BTaavpHh/Sr1/Ctz460i3tgEZ4bjTLN4bqK9uVm/0i98sR7WiZpZNhUdr8d/gV8Of2ZfgF+0zqd/4D8OS2/h/wAaeErm20aCa5k0j7Jdxaa0sJjzFJBDLvdpLclhHuwrGPYB5v8AZzlBYpcrWuq3slLuk1t1RWX+BD+p/XJYzmo8s3ePMkrKVnZq/wBna2vQ/mfvNF1vSJYFv7Se3eeNJofNidC8cgyjoHUbkZeVdcqw5UkVALXULqaOBY3keQhEVVJLMSFAUDOSSQMDJyQOtf18ftP/AAWh+NX/AAUn8HfDq/8Agn4a1Pwhp3h1dVg1q9gubWHUI7Oy8v7HLLBHMt9BZNNG8VgiAMzBiyiM7vP9K+F/wE0Pxp+yv8dLr4beG49X8Z+N7rQryVvCV54OtzCkU93YXq6Fd3DzwXdtJaRLbS3fzsGaQRrvj290srq88opq0Zct3ddUtFb+8uvz2Our9Gmr7apTp4v93GajrFq+sU3bZ25laz/S/wDKPqOl6lo95Lp2rW8trcQMUkinRopEZTgqyOFZSCMEMAQeCAa9a8Kfs/8Ax28X/DfVfi/4P8J6vqPhfRhMb/Vba1eSzthboHlMso4Xy1ILddo64r67/wCCqF1rTftieKovEfw6svAbQX2oSRrYWUlpJrVu95OyapMH5mnuirDzRw5HHNf0U/s9aB4X/ZN8J/A79kXxt8QfBfh+0u9Cvv8AhOfDOr6oLfV9T1PxSF8j7LbMPnC3DSRIGILg7VwVwYwuDdWpKlOVlHS+m97Lfvq31sj53gzwVw+MznG4LEV3GnQfKpL3XzSaUfitpu33Sdj+L4m7jzOQy87S2O/pWpYab4k1W5az0y2ubmZY3lMcMLyOI413O5VFYhVUbmYjao5JA5r90fiL/wAE7r3w/wDsCeM/AHw48BHxJ8UvB/xWm8Om+06yF1q/9klV+xb5EBdYJIJreZixCIH3uQoLD9PfB/wu+D/wS/bW+Mfwc+FHwn8MNeWnwftNUs7W3sSZbqe68+G6sRDEwR4Lpoo/OEaCSRsbnI2gZUsHWlJRnHlul3esubTbVrlaa81309TKfo84+VeMMViHCLUXe0nrLnvFbXacLP1R/JL4P+Evxj+Ivh/V/EfgPw5rGt6foZiXUZtOs57tLfz93l+csCuyhtrHJUgAEsQOa8yS2uJQTHGxCnBwD1r+n/4X6J4i+BnwE+G3xk/Z8+Aema54v+KHi6807xvYW+nX0q+HFiujbf2Xbw27htNjhQMN8uI0ZWZwd4xi/Hb4M/sgfsefBf8AaR+K3g74aeGfHk/gL4iaXY6HBr0DXUFgL/TdLmmsXkB8yW2t57mVhBvC7iEb7vFVcJOFN1bq1ru9+zl2u9FqrXT/AAWP+j7/ALPGq8VblTlNyUrW5XNcumvur3lq09D+ZkW85fywh3dcY7ev096UWtyXEYjYsRkAA9PX6V/WH46/ZG/Zp0z4m+Pfjp8O/hRoviDxJZfCfRfF+h+AVtGn0ufVb2W8W5nj06LBn2iGFREq/eJKgSSZq78FP2SP2cPif8Tfgl8Sfjf8I9C8IeJvG3hfxVPr3ghNP+yWMy6dJCLTU10yfLWku1lIyA6+eAxLICOlZXXdT2el/V9+Xt36b26ak0/oy4yVVUViY3b0dpW5ebkve1r3d+V62P5MPsl1n/Vt+XpTRbzlmTYcp94Y6fX0r+imy8f/ALNcv7CPg39stP2e/h+niGLx03g6Cw+xSnTf7OknB8y4iLZurtYVKJNNu2ys0wUbjGfoT4h/sZfBr4LfHX9oDx54A+HHh640fw+2gJpP2/QNQ8YLpd1qdvE80On+FNNWN7hZHkVvN+0RLDuOMRI+OfD4SpVSdNp3SfXaSbX2eyZzYb6OVbEcksNioyjJRltLSMoyknt/da8tD+U+SOSJzHIpVh1B4plfqp/wWE+B/wAMPgR+1ynhz4UaDb+GtP1Twzo2sTafaQi2toru7N3HOYbdWdIFbyEJiRiituIJJJP5V1i4yjKUJ7ptP1Tsfh/GfDFTJszrZbVkpODtdbMKKKKD5c//0/ynooor8HP8HzX0LX9b8L6vb+IPDd5cadf2jiWC5tJpLeeJxnDxyxMskbjJAZWBwTzgkV6f8Rv2iPjx8XbjT7z4n+NNd8Qy6VIstk2o6jc3H2eVOVkhV32xyDtIoD/7VeM0VDpq9z1MNneMo0JYalVkoPVpNpP1Wx6a3xn+LreJNV8Y/wDCV62dW1u3a01G+/tG7+1XcDKqGK5n83zJoyqhSkjMpAAxgDEEnxe+Ksuv6R4pl8Uay+p6BClvpl4dRuvtFlEgKpHazeb5kCKrEKsTKoBIAwTXnNFDgiv7dxnSrLvu997/AH6no8Pxd+Klv8QR8WovE+rx+J0cSnWf7QuRfhlQR7mvDJ53EahDucgoAp+UYr6Svbn9tbxl8N2/bqvPFWu3+l2mof8ACMDxF/bszXqTXAXNrEUnEywPldwj2xMcbgSM19H/APBHD4d/DX4iftTalbeNNIsPEWsaX4X1TUvDWk6mqPa3msW5i8kMj/K7RqxZFPqzjlAV/Zzw14Q1/wCJf7GPgrRP+Cg/gbSPh83iP4saSNasLS0j0mG8TbttmureKaVYzPOkdszFwZYgpIG7NdeGyyVaLlF20lbe10la72W/ru7n9KeGHhris1yueMq4uaU1NxSbUVNWXNOWyd3tu1dp6a/ymfCz43/Fr4M6hd6t8G/Fup+HLi5VYrp9G1CS3MirnasywuFbaSdu8Erk7cZOfpj4R/s/ft9/tU+B/EWu/CXSfFPjHQNW1JRrckWoiSC81CFI3VrxLu9j+0TInllZJFkKgKFYYAH7ff8ABQ34afD5/wBlv4tz+NPAt1p03hHU7ePwtqX/AAjGneHbfTpPtIjS0tLpLsy6laXURVCY45M5JO1sLH5H/wAE+vBEvj7/AIJTePfDVr4D1/4jl/iHbyDRvDesNoeoSCO3sj5y3qPGVSIfPIgcCRRtOc4L/sl/Wfq85dG7ryvpZ83bonpb0PWyrwhnQztZFjcZOdH2U5pRbTvezVvetd32Tvp10Px3+Lx/be/Zk8YaB4V+Mmo+MfCWraBD9s0aG/1S7X7HCR5RlsmW6lhjjwPLfyX24+R1CkKfB/E3xs+K/j1Irjxh4x1fW44786nHJeatc3SJe4Cm5RpJmVJwAB5i4cAAAgAAf1ieOfgrq3j/APay+COm63o2lxR+GvhNf39p4O8Wqde1PQJ7WSxRmlWO5dtXvSzKsZeVVDRSNvdmUjb074HfC3xd+0T+y58Q/H3gqFNd8SR+KbPXI9X0aw0y5u47axkmtft+m2jTW8UsfDRo7GWJWw+1yyjaORVOZxi9E0tfPl1000b2tr5PQ9fNPAnG1qtanhsdONNTikpXej5E3dNarmVtE7LVJ6L+Qzxj8S/H/jrW4vFnj/xHqOs6hZpHEt7qmoTXc0KRMXjQT3MrugRiWVd3BJIwSai8SfELxz4v8RN448W69f6pqjeVK2pX17Nc3B8jHlObqaR3/dlRsO/5CBtIxX9FnwK8Z6b8bfBvxu+MX7O/wg8IT/Ff4dS2Hhvwl4atNOjukttAivXSa/jsppIhPdsGmWWRSpbyUQZ+63ufwn+BngXWv2kNR8X/AB7+GvhXwt8X4vhjDrtp4b0JYtXaTUTI8c2ovoEq21vFfooRUt1uJwcn98SNx46ODlPl5GrS2bTS3a3tvptp011PlMN4H4rFOm6OPb9pK/Nyy5XZyXxbc/uv3Xbda62PwN/Zx1T9t79oTx9r/hD4BeL9f1DWvEOmXGoasy6/PAb6zsEjile4uJJ/3zIjpGCWMmw7FOwYHzevxv8Ai6/jO0+Io8Y6yniI2sdvbakdWu01H7MB8kUVx54uPLAOBGrbByNtf13/AAq8G+AtO/ap8AeOrfwxe6B4z1r4c+MV1O5vNIs/D8mrW8MmneRc3Gl21xJJbzxFhHmSOPeGPAwqr4J+zj8JLrSPA37NXgb9m/4VeHfHPwg8d+Hbe4+IPiDUNLt72eS6ljVbs3d1LKr27xAHahjYAjygFCha2q5PUuoJp6vu/wCS2n/bzu76b3fX6yv4I4mdKnRhj5uUZSu7uXWHI1FbWc25u9lvqfzW+EP2mf2gPh3PrN94L+IGv6JJrkjT6pJa6xdW7XUsmA01ywmBeVuB5zfvTwN/SvPZviD41HhXUfB91rt6uh6rdi/vrOS+lWyuro4IuLiJpPKmmOARLIGkJAO7vX9HvjDxP8Ev2SP2WvAnjf8AZ58I+F/FSX3xm8QeHNO1fXNOTUXj0wX98pSCQlGciOL7NDMzPiL5lDZyforUv2ZPDvwu/aR/aO+I3wR8F6Y/9mX2gwWMGm6FFr+s28uoWNtcXEOl6bcS29jbQTySeZJcyvtDNIXCpECM4ZZOTcYtP72ldOV/O9tla+l3rp4UfBHMK8oYZ5i5NW5krtRU4SleOut+V9uj8j+WO0+O/wAa9P8AFmm+PrPxjrqa1pNstpYaimp3Rure2XlYYJ/NLpB0/dK3lEdVIqxqX7Qfx11jx4/xS1Lxpr83iSSBrZtVbU7sX3kP96EXCyiRYj3iUiM/3ck1+gX/AAWb+GPw/wDhf+2fNY/DrR7XRLTVfDmjatcW9lHFFC15d/aluJVjg/cqZDEpby/lLAsM5JP5OZrCpQ5Zyg+ja+adr/1qfhPGizPJcxrZVPEyl7OXRuza6+p1yePvHCeE4vAUetagNDgu/t0enC7mFmlz/wA91tt/lCb/AKaBQ/vXfab+0l+0Jo/iDVfFmlePPEltqmuW6WmoXser3y3N1BECscc0/neZIqBiE3MSgJCFQTnxKip9lG1mj5OhxDjqTTpVpJrazfT5+b+86jxT408YeN7u3v8Axlqt9q89tbRWcMl/czXTx28OfKhR5ndliTcdiAhVycAZNcvRRWiR5mIxE6s3UqO7fVhRRRQYn//U/Keiiivwc/wfCiiigAooooA0NL1bU9Ev4dV0e4ltLq2cSQzwSPDLG69HjkjKujDsykEZ4NbuuePPG3ieG5h8TazqOppeSrPcLe3tzdLNKqhFeUTyyCRwoChnDMFAAOBiuSorN0YN8zR30c0xFOm6NObUX0vodj4j+IXjvxhY2ul+Ldd1PVrayObaK/vrq7jg42/uUuJZFi+UkfIBxx04qPQfHvjjwxZtp3hvWtR06B38xo7O9urZC2ANxSCWNS2ABkjOOM4FclRSVCCXKkbf25jPbfWPavn2vd3sdPD418X23iRfGdtq19HrCHK36Xdwl4p27Mi6WQTg7flz5n3eOnFW0+Ifj2K5hvY9c1MTQSyzxuL66DpLcZ86RX83cry5PmOpDPk7y2a42il9Xhe9hxz3GpNKrLV33e/f8Df0LxX4n8L6wPEPhnUrzTdQXdi7s7ma1uBv5fE8DpKN38WG+bvmpx4z8WjxN/wmg1S9Gs+Z5v8AaH2qf7Z5m3bv+1eZ5+/bxv8AM3Y4zjiuZopvDwu3ymcM4xUYqEajsndK737nZ3fxG+IF74gk8W3mvapNq0sXkPfS393JdvF/zza4aUzMn+wXK+3NM0j4g+O/D2iXPhnQNb1Kw0283faLS1vrm3tptww3mwRSpFIWHBLo2ehyK4+ik8NTslyo1Wf41Sc/ayu763fXf7zZbxDrraTb6Eb65+xWkpmgtvPl8iKQ9Xjh3eXG/JyyKG963YPiV8Q7W/vtUttf1WK61OIQXkyahdrLcRKCBHPIsoeVACQEkZlAJGMGuJopyoQe6M6Wc4uDvCo18+ysvwNPVNa1fXJY59Zu57t4YkgjM8rylIoxhI1MjMVRBwqDCqOFArMoorSMUlZHDWrzqSc6ju2FFFFMyCiiigAooooA/9X8p6KKK/Bz/B8KKKKACiiigAooooAKKKKACiiigAooooAKKKKACiiigAooooAKKKKACiiigAooooA//9k=\", align=\"left\">\n",
    "</div>\n",
    "</div>\n",
    "<div style=\"float: right; width: 50%;\">\n",
    "    <p style=\"margin: 0; padding-top: 22px; text-align:right;\"><b>104338 - Programació Avançada</b></p>\n",
    "    <p style=\"margin: 0; text-align:right;\">Grau en Enginyeria de Dades</p>\n",
    "    <p style=\"margin: 0; text-align:right;\">Universitat Autònoma de Barcelona (UAB)</p>\n",
    "</div>\n",
    "<div style=\"width: 100%; clear: both;\"></div>\n",
    "<div style=\"width:100%;\">&nbsp;</div>"
   ]
  },
  {
   "cell_type": "markdown",
   "id": "db173d70-3b60-4cdd-8b25-44064ee1a105",
   "metadata": {
    "tags": []
   },
   "source": [
    "# Exercici de programació orientada a l'objecte (POO)\n",
    "\n",
    "Volem definir una classe `Data` amb atributs per guardar el **dia**, el **mes** i l'**any** d'una data concreta. \n",
    "\n",
    "## Constructor\n",
    "\n",
    "Definim la classe amb el mètode `__init__` per especificar els atributs i inicialitzar-los amb els valors que es passin com a paràmetres:"
   ]
  },
  {
   "cell_type": "code",
   "execution_count": 2,
   "id": "b5ef16a2-9b41-473f-a43d-4ddb9f678d3b",
   "metadata": {},
   "outputs": [],
   "source": [
    "class Data:\n",
    "    def __init__(self, dia: int=0, mes: int=0, any: int=0):\n",
    "        self.dia = dia\n",
    "        self.mes = mes\n",
    "        self.any = any"
   ]
  },
  {
   "cell_type": "markdown",
   "id": "c3c6f39c-d3c2-44eb-9cf7-ecc618ba09bd",
   "metadata": {
    "tags": []
   },
   "source": [
    "A continuació, es demana:\n",
    "\n",
    "1. Crear dos objectes de la classe `Data`, un per guardar la data *'01/01/2022'* i l'altra inicialitzada amb els valors per defecte dels atributs definits al constructor.\n",
    "2. Mostrar per pantalla el dia, el mes i l'any de cadascuna de les dues dates.\n",
    "3. Seguir amb el *debugger* l'execució del codi."
   ]
  },
  {
   "cell_type": "code",
   "execution_count": 6,
   "id": "a2ea3e71-ab67-4166-8d7b-1b5ff0964b43",
   "metadata": {
    "tags": []
   },
   "outputs": [
    {
     "name": "stdout",
     "output_type": "stream",
     "text": [
      "0 0 0\n",
      "1 1 2022\n"
     ]
    }
   ],
   "source": [
    "d1 = Data()\n",
    "d2 = Data(1, 1, 2022)\n",
    "print(d1.dia, d1.mes, d1.any)\n",
    "print(d2.dia, d2.mes, d2.any)"
   ]
  },
  {
   "cell_type": "markdown",
   "id": "1dfe8f35-846e-48e3-b509-d404225ec324",
   "metadata": {
    "tags": []
   },
   "source": [
    "## Validació de la informació\n",
    "\n",
    "Afegir a la classe `Data` un mètode `es_valida` que verifiqui si la data és correcta:\n",
    "- any > 0,\n",
    "- mes entre 1 i 12, \n",
    "- i dia entre 1 i el número de dies del mes corresponent. \n",
    "\n",
    "<u>Nota</u>: El mes de febrer heu de tenir en compte si és un any de traspàs o no. Recordeu que els anys de traspàs són tots els divisibles per 4, a excepció dels que siguin divisibles per 100, però no els que siguin divisibles per 400. "
   ]
  },
  {
   "cell_type": "markdown",
   "id": "8ae480bf-4fa7-46b4-be51-dd46c707cbde",
   "metadata": {},
   "source": [
    "### Atributs estàtics\n",
    "\n",
    "- `dies_mes` és un atribut estàtic. \n",
    "- Els **atributs estàtics** són atributs definits a nivell global de la classe, no dins del mètode `__init__`.\n",
    "- Els atributs estàtics són compartits per tots els objectes de la classe (una única instància de l'atribut per tots els objectes). \n",
    "- Tots els objectes de la classe tenen el mateix valor. \n",
    "- Per accedir al valor d'un atribut estàtic s'ha de posar `nom_classe.nom_atribut`.\n",
    "\n",
    "En aquest exemple podem utilitzar l'atribut estàtic `dies_mes` per guardar el número de dies de cadascun dels mesos. \n",
    "\n",
    "Aquesta és una informació que necessita el mètode `es_valida` i que és comuna a tots els objectes de la classe `Data`. "
   ]
  },
  {
   "cell_type": "code",
   "execution_count": 19,
   "id": "b3faaa8b-10cd-4d50-a5ae-f406d591cffd",
   "metadata": {},
   "outputs": [],
   "source": [
    "class Data:\n",
    "    dies_mes = [31, 28, 31, 30, 31, 30, 31, 31, 30, 31, 30, 31]\n",
    "    \n",
    "    def __init__(self, dia=0, mes=0, any=0):\n",
    "        self.dia = dia\n",
    "        self.mes = mes\n",
    "        self.any = any\n",
    "\n",
    "    def es_traspas(self):\n",
    "        return (self.any % 4) == 0 and ((self.any % 100) != 0 or (self.any % 400) == 0)\n",
    "\n",
    "    def es_valida(self):\n",
    "        dies = Data.dies_mes[self.mes - 1]\n",
    "        if self.es_traspas() and self.mes == 2:\n",
    "            dies += 1\n",
    "        return 1 <= self.mes and self.mes <= 12 and 1 <= self.any and 1 <= self.dia and self.dia <= dies"
   ]
  },
  {
   "cell_type": "markdown",
   "id": "84eba412-47a8-4a18-982a-8c0ce97140af",
   "metadata": {},
   "source": [
    "Comproveu que en el següent exemple, el mètode `es_valida` retorna `True` per les dues primeres dates i `False` per les dues últimes."
   ]
  },
  {
   "cell_type": "code",
   "execution_count": 20,
   "id": "d9a46a3a-7270-4004-8693-e8695339454e",
   "metadata": {},
   "outputs": [
    {
     "name": "stdout",
     "output_type": "stream",
     "text": [
      "True\n",
      "True\n",
      "False\n",
      "False\n",
      "[31, 28, 31, 30, 31, 30, 31, 31, 30, 31, 30, 31]\n"
     ]
    }
   ],
   "source": [
    "d1 = Data(1, 1, 2022)\n",
    "print(d1.es_valida())\n",
    "d2 = Data(29, 2, 2020)\n",
    "print(d2.es_valida())\n",
    "d3 = Data(29, 2, 2021)\n",
    "print(d3.es_valida())\n",
    "d4 = Data(31, 4, 2022)\n",
    "print(d4.es_valida())"
   ]
  },
  {
   "cell_type": "markdown",
   "id": "fb74f8f5-0589-44e3-9585-1b6fb0588bd3",
   "metadata": {
    "tags": []
   },
   "source": [
    "### Control d'errors: Excepcions\n",
    "\n",
    "Python genera automàticament una excepció quan es troba amb una condició inesperada. \n",
    "\n",
    "Les excepcions són de tipus diferents segons el tipus d'error que la genera: \n",
    "- `SyntaxError`, \n",
    "- `ValueError`, \n",
    "- `IOError`, \n",
    "- ...\n",
    "\n",
    "En el nostre codi també podem generar excepcions si trobem condicions inesperades utilitzant la instrucció: `raise <tipus_excepció>`\n",
    "\n",
    "Utilitzant l'estructura `try/except` podem detectar i tractar les excepcions que es produeixen en un bloc del programa (dins del bloc `try`) per identificar i rastrejar els errors, i poder prendre accions correctives de l’error (dins del bloc `except`)."
   ]
  },
  {
   "cell_type": "markdown",
   "id": "30bbb866-47a8-4d3c-aa6f-6a8f94522f23",
   "metadata": {
    "tags": []
   },
   "source": [
    "Seguidament, modificarem el constructor de la classe `Data` perquè comprovi si els valors de la data corresponen a una data vàlida. Si la data no és vàlida, ha de generar una excepció de tipus `ValueError`.\n",
    "\n",
    "El programa següent llegeix per teclat el dia, mes i any i inicialitzi un objecte de tipus `Data` amb els valors llegits per teclat. Ha de mostrar un missatge per pantalla indicant si la data s'ha pogut inicialitzar correctament o no (utilitzem `try/except` per capturar l'excepció que es genera si la data no és vàlida)."
   ]
  },
  {
   "cell_type": "code",
   "execution_count": 21,
   "id": "e546c7de-aa6f-4782-a50c-e6e4a3227242",
   "metadata": {},
   "outputs": [],
   "source": [
    "class Data:\n",
    "    dies_mes = [31, 28, 31, 30, 31, 30, 31, 31, 30, 31, 30, 31]\n",
    "    \n",
    "    def __init__(self, dia=1, mes=1, any=0):\n",
    "        self.dia = dia\n",
    "        self.mes = mes\n",
    "        self.any = any\n",
    "        if not self.es_valida():\n",
    "            raise ValueError\n",
    "\n",
    "    def es_traspas(self):\n",
    "        return (self.any % 4) == 0 and ((self.any % 100) != 0 or (self.any % 400) == 0)\n",
    "\n",
    "    def es_valida(self):\n",
    "        dies_mes = Data.dies_mes[self.mes - 1]\n",
    "        if self.es_traspas() and self.mes == 2:\n",
    "            dies_mes += 1\n",
    "        return 1 <= self.mes and self.mes <= 12 and 1 <= self.any and 1 <= self.dia and self.dia <= dies_mes"
   ]
  },
  {
   "cell_type": "code",
   "execution_count": 22,
   "id": "3fb0dfd4-495d-4082-ba94-9830d2221bb6",
   "metadata": {},
   "outputs": [
    {
     "name": "stdin",
     "output_type": "stream",
     "text": [
      "Dia:  1\n",
      "Mes:  1\n",
      "Any:  2000\n"
     ]
    },
    {
     "name": "stdout",
     "output_type": "stream",
     "text": [
      "Data correcta\n"
     ]
    }
   ],
   "source": [
    "dia = int(input('Dia: '))\n",
    "mes = int(input('Mes: '))\n",
    "any = int(input('Any: '))\n",
    "\n",
    "try:\n",
    "    d = Data(dia, mes, any)\n",
    "    print(\"Data correcta\")\n",
    "except:\n",
    "    print(\"Data no vàlida\")"
   ]
  },
  {
   "cell_type": "markdown",
   "id": "33729841-d346-4e8d-9d64-dbea11184512",
   "metadata": {
    "tags": []
   },
   "source": [
    "### Control d'errors: Assercions\n",
    "\n",
    "Les **assercions** són una alternativa per la generació d'excepcions quan volem comprovar fàcilment les condicions que han de complir alguns valors per una execució correcta del programa. \n",
    "\n",
    "La sintaxi d'una asserció és:\n",
    "    \n",
    "    assert <condició>, <missatge>\n",
    "    \n",
    "- La condició permet posar qualsevol comparació vàlida que comprovi si el valor és correcte o no. \n",
    "- Si la condició és **falsa** genera una excepció de tipus `AssertionError` que es pot capturar amb `try/except` com qualsevol altra excepció. \n",
    "- El missatge permet donar informació addicional sobre l’error que s’ha produït de la forma següent:\n",
    "\n",
    "    ```\n",
    "    try\n",
    "        ...\n",
    "    except AssertionError as e:\n",
    "        print(e)\n",
    "    ```\n",
    "        "
   ]
  },
  {
   "cell_type": "markdown",
   "id": "1612febf-d20e-453a-ac9c-7805e10a5d08",
   "metadata": {
    "tags": []
   },
   "source": [
    "A continuació, repetirem l'exercici anterior, però en aquest cas substituirem l'excepció de tipus `ValueError` per una asserció."
   ]
  },
  {
   "cell_type": "code",
   "execution_count": 6,
   "id": "9092a83f-7314-4a6c-ad9b-bf4d3af4cef8",
   "metadata": {},
   "outputs": [],
   "source": [
    "class Data:\n",
    "    dies_mes = [31, 28, 31, 30, 31, 30, 31, 31, 30, 31, 30, 31]\n",
    "    \n",
    "    def __init__(self, dia=1, mes=1, any=0):\n",
    "        self.dia = dia\n",
    "        self.mes = mes\n",
    "        self.any = any\n",
    "        assert self.es_valida(), 'Data no vàlida'\n",
    "\n",
    "    def es_traspas(self):\n",
    "        return (self.any % 4) == 0 and ((self.any % 100) != 0 or (self.any % 400) == 0)\n",
    "\n",
    "    def es_valida(self):\n",
    "        dies_mes = Data.dies_mes[self.mes - 1]\n",
    "        if self.es_traspas() and self.mes == 2:\n",
    "            dies_mes += 1\n",
    "        return 1 <= self.mes and self.mes <= 12 and 1 <= self.any and 1 <= self.dia and self.dia <= dies_mes"
   ]
  },
  {
   "cell_type": "code",
   "execution_count": 8,
   "id": "7a507655-fb16-4b88-b481-dcc6641bcf87",
   "metadata": {},
   "outputs": [
    {
     "name": "stdin",
     "output_type": "stream",
     "text": [
      "Dia:  30\n",
      "Mes:  2\n",
      "Any:  2020\n"
     ]
    },
    {
     "name": "stdout",
     "output_type": "stream",
     "text": [
      "Data no vàlida\n"
     ]
    }
   ],
   "source": [
    "dia = int(input('Dia: '))\n",
    "mes = int(input('Mes: '))\n",
    "any = int(input('Any: '))\n",
    "\n",
    "try:\n",
    "    d = Data(dia, mes, any)\n",
    "    print(\"Data correcta\")\n",
    "except AssertionError as e:\n",
    "    print(e)"
   ]
  },
  {
   "cell_type": "markdown",
   "id": "fbab3b6a-5ff8-424b-9297-032e348dac37",
   "metadata": {
    "tags": []
   },
   "source": [
    "### Sobrecàrrega d'operadors i mètodes\n",
    "\n",
    "Redefinim (sobrecarreguem) el mètode *`__str__`* de la classe `Data` per poder mostrar per pantalla la data en format *DD/MM/YYYY*. \n",
    "\n",
    "Utilitzem `str.format` per mostrar la data en el format desitjat:\n",
    "- [exemples str.format](https://www.geeksforgeeks.org/python-string-format-method/)\n",
    "- [especificacions str.format](https://www.w3schools.com/python/ref_string_format.asp)"
   ]
  },
  {
   "cell_type": "code",
   "execution_count": 23,
   "id": "469bbdfd-7ca6-4ae4-9ca6-45af85d635f9",
   "metadata": {},
   "outputs": [],
   "source": [
    "class Data:\n",
    "    dies_mes = [31, 28, 31, 30, 31, 30, 31, 31, 30, 31, 30, 31]\n",
    "    \n",
    "    def __init__(self, dia=1, mes=1, any=0):\n",
    "        self.dia = dia\n",
    "        self.mes = mes\n",
    "        self.any = any\n",
    "        assert self.es_valida(), 'Data no vàlida'\n",
    "\n",
    "    def es_traspas(self):\n",
    "        return (self.any % 4) == 0 and ((self.any % 100) != 0 or (self.any % 400) == 0)\n",
    "\n",
    "    def es_valida(self):\n",
    "        dies_mes = Data.dies_mes[self.mes - 1]\n",
    "        if self.es_traspas() and self.mes == 2:\n",
    "            dies_mes += 1\n",
    "        return 1 <= self.mes and self.mes <= 12 and 1 <= self.any and 1 <= self.dia and self.dia <= dies_mes\n",
    "    \n",
    "    def __str__(self):\n",
    "        return '{:02d}/{:02d}/{:04d}'.format(self.dia, self.mes, self.any)"
   ]
  },
  {
   "cell_type": "code",
   "execution_count": 24,
   "id": "f30b3f69-1f28-4b72-8012-0b71aed7d919",
   "metadata": {},
   "outputs": [
    {
     "name": "stdout",
     "output_type": "stream",
     "text": [
      "01/02/2022\n"
     ]
    }
   ],
   "source": [
    "d = Data(1, 2, 2022)\n",
    "print(d)"
   ]
  },
  {
   "cell_type": "markdown",
   "id": "f657a4d3-0a29-409c-aff2-bde393fbf534",
   "metadata": {
    "tags": []
   },
   "source": [
    "Finalment, sobrecarreguem els operadors `<` i `==` per poder comparar dues dates.\n",
    "\n",
    "Us recomanem seguir l'execució amb el *debugger*."
   ]
  },
  {
   "cell_type": "code",
   "execution_count": 4,
   "id": "daf9b547-c81b-4370-b7fb-f486d0954ca2",
   "metadata": {},
   "outputs": [],
   "source": [
    "class Data:\n",
    "    dies_mes = [31, 28, 31, 30, 31, 30, 31, 31, 30, 31, 30, 31]\n",
    "    \n",
    "    def __init__(self, dia=1, mes=1, any=0):\n",
    "        self.dia = dia\n",
    "        self.mes = mes\n",
    "        self.any = any\n",
    "        assert self.es_valida(), 'Data no vàlida'\n",
    "\n",
    "    def es_traspas(self):\n",
    "        return (self.any % 4) == 0 and ((self.any % 100) != 0 or (self.any % 400) == 0)\n",
    "\n",
    "    def es_valida(self):\n",
    "        dies_mes = Data.dies_mes[self.mes - 1]\n",
    "        if self.es_traspas() and self.mes == 2:\n",
    "            dies_mes += 1\n",
    "        return 1 <= self.mes and self.mes <= 12 and 1 <= self.any and 1 <= self.dia and self.dia <= dies_mes\n",
    "    \n",
    "    def __str__(self):\n",
    "        return '{dia:02d}/{mes:02d}/{any:04d}'.format(dia = self.dia, mes=self.mes, any=self.any)\n",
    "    \n",
    "    def __lt__(self, data):\n",
    "        menor = False\n",
    "        if self.any < data.any:\n",
    "            menor = True\n",
    "        elif self.any == data.any:\n",
    "            if self.mes < data.mes:\n",
    "                menor = True\n",
    "            elif self.mes == data.mes:\n",
    "                menor = (self.dia < data.dia)\n",
    "        return menor\n",
    "    \n",
    "    def __eq__(self, data):\n",
    "        return self.any == data.any and self.mes == data.mes and self.dia == data.dia"
   ]
  },
  {
   "cell_type": "markdown",
   "id": "ee9d96ef-c24c-460b-bf17-fa84afda9e89",
   "metadata": {
    "tags": []
   },
   "source": [
    "### Composició de classes\n",
    "\n",
    "És la **utilització de classes ja existents com a atributs** dins d’una altra classe. "
   ]
  },
  {
   "cell_type": "markdown",
   "id": "c5aa632e-21ae-4804-8894-2d0468005529",
   "metadata": {
    "tags": []
   },
   "source": [
    "Crearem una classe `Llibre` per guardar les dades dels llibres que es guarden en una biblioteca. \n",
    "\n",
    "Per cada llibre hem de saber:\n",
    "- el títol, \n",
    "- l'autor \n",
    "- i si està prestat o no. \n",
    "\n",
    "Si ho està hem de poder saber la data en què es va fer el préstec. \n",
    "\n",
    "Crear la classe només amb el constructor que inicialitzi el llibre amb el títol i l'autor i com a no prestat. "
   ]
  },
  {
   "cell_type": "code",
   "execution_count": 9,
   "id": "10cdce25-8ed4-4505-b026-89aa94899fc2",
   "metadata": {},
   "outputs": [],
   "source": [
    "class Llibre:\n",
    "    def __init__(self, titol = \"\", autor = \"\"):\n",
    "        self.titol = titol\n",
    "        self.autor = autor\n",
    "        self.prestat = False\n",
    "        self.data_prestec = Data()"
   ]
  },
  {
   "cell_type": "markdown",
   "id": "e08a224c-ba08-4b1a-8c8b-e7ca414d8f16",
   "metadata": {
    "tags": []
   },
   "source": [
    "Per concloure aquest exercici de composició de classes, afegirem a la classe `Llibre` un mètode `presta` que marqui el llibre com a prestat amb la data que se li passa com a paràmetre per assegurar la funcionalitat següent:\n",
    "\n",
    "- S'ha de comprovar que la data que es passa sigui una data vàlida i que el llibre no estigui ja prestat. \n",
    "- Si no es compleix alguna d'aquestes dues condicions s'ha de generar una asserció. "
   ]
  },
  {
   "cell_type": "code",
   "execution_count": 9,
   "id": "c945bdb9-25f0-425b-a75f-356d950663fb",
   "metadata": {},
   "outputs": [],
   "source": [
    "class Llibre:\n",
    "    def __init__(self, titol = \"\", autor = \"\"):\n",
    "        self.titol = titol\n",
    "        self.autor = autor\n",
    "        self.prestat = False\n",
    "        self.data_prestec = Data()\n",
    "    \n",
    "    def presta(self, data):\n",
    "        assert data.es_valida(), 'Data de préstec no vàlida'\n",
    "        assert not self.prestat, 'Llibre ja prestat'\n",
    "        self.prestat = True\n",
    "        self.data_prestec = data"
   ]
  }
 ],
 "metadata": {
  "kernelspec": {
   "display_name": "Python 3 (ipykernel)",
   "language": "python",
   "name": "python3"
  },
  "language_info": {
   "codemirror_mode": {
    "name": "ipython",
    "version": 3
   },
   "file_extension": ".py",
   "mimetype": "text/x-python",
   "name": "python",
   "nbconvert_exporter": "python",
   "pygments_lexer": "ipython3",
   "version": "3.11.5"
  },
  "toc-autonumbering": false,
  "toc-showcode": false,
  "toc-showmarkdowntxt": false,
  "toc-showtags": false
 },
 "nbformat": 4,
 "nbformat_minor": 5
}
