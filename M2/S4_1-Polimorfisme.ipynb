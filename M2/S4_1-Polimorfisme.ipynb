{
 "cells": [
  {
   "cell_type": "markdown",
   "id": "6a25eda0-5e28-400f-8f3a-06d9362a24e1",
   "metadata": {
    "tags": []
   },
   "source": [
    "# **Polimorfisme**"
   ]
  },
  {
   "cell_type": "markdown",
   "id": "6fba2f96-6dc8-48fa-bc61-1eeaabbca087",
   "metadata": {},
   "source": [
    "- Capacitat d’accedir a objectes de diferents classes utilitzant la mateixa interfície pública.\n",
    "- Cada classe implementa la seva pròpia versió del mètode, però totes les classes comparteixen la declaració (número i tipus dels paràmetres i valor de retorn)."
   ]
  },
  {
   "cell_type": "code",
   "execution_count": 1,
   "id": "7ab8935f-4390-4f6d-974a-28b3c4a87c7b",
   "metadata": {},
   "outputs": [],
   "source": [
    "from dataclasses import dataclass, field, InitVar\n",
    "from typing import List\n",
    "from datetime import date, datetime\n",
    "\n",
    "@dataclass\n",
    "class Moviment:\n",
    "    _descripcio: str\n",
    "    _valor: float\n",
    "    _data: date\n",
    "\n",
    "    def __init__(self, descripcio: str = \"\", valor: float = 0.0, data: str = '') -> None:\n",
    "        self._descripcio = descripcio\n",
    "        self._valor = valor\n",
    "        if data == '':\n",
    "            self._data = date.today()\n",
    "        else:\n",
    "            self._data = datetime.strptime(data, '%d/%m/%Y')\n",
    "        \n",
    "    @property\n",
    "    def descripcio(self) -> str:\n",
    "        return self._descripcio\n",
    "    \n",
    "    @descripcio.setter\n",
    "    def descripcio(self, valor: str) -> None:\n",
    "        self._descripcio = valor\n",
    "        \n",
    "    @property\n",
    "    def valor(self) -> float:\n",
    "        return self._valor\n",
    "    \n",
    "    @valor.setter\n",
    "    def valor(self, valor: float) -> None:\n",
    "        self._valor = valor\n",
    "        \n",
    "    @property\n",
    "    def data(self) -> str:\n",
    "        return datetime.strftime(self._data, '%d/%m/%Y')\n",
    "    \n",
    "    @data.setter\n",
    "    def data(self, valor: str) -> None:\n",
    "        self._data = datetime.strptime(valor, '%d/%m/%Y')\n"
   ]
  },
  {
   "cell_type": "code",
   "execution_count": 2,
   "id": "18b51f47-e0c8-46f8-8a0a-15382cdd2544",
   "metadata": {},
   "outputs": [],
   "source": [
    "@dataclass\n",
    "class CompteCorrent:\n",
    "    _titular: str\n",
    "    _saldo: float = 0.0\n",
    "    _moviments: List[Moviment] = field(init=False, default_factory=list)\n",
    "    \n",
    "    @property\n",
    "    def titular(self) -> str:\n",
    "        return self._titular\n",
    "    \n",
    "    @property\n",
    "    def saldo(self) -> float:\n",
    "        return self._saldo\n",
    "    \n",
    "    def afegeix_moviment(self, descripcio: str, valor: float, data: str) -> None:\n",
    "        moviment = Moviment(descripcio, valor, data)\n",
    "        self._moviments.append(moviment)\n",
    "        self._saldo += valor"
   ]
  },
  {
   "cell_type": "code",
   "execution_count": 3,
   "id": "be66f5fa-543f-4fe0-97aa-ce892e80bf8f",
   "metadata": {},
   "outputs": [],
   "source": [
    "@dataclass\n",
    "class CompteJove(CompteCorrent):\n",
    "    _punts: int = field(init=False,default=0)\n",
    "    \n",
    "    @property\n",
    "    def punts(self) -> int:\n",
    "        return self._punts\n",
    "       \n",
    "    def afegeix_moviment(self, descripcio: str, valor: float, data: str) -> None:\n",
    "        super().afegeix_moviment(descripcio, valor, data)\n",
    "        if valor > 0:\n",
    "            self._punts += int(valor/100)\n"
   ]
  },
  {
   "cell_type": "markdown",
   "id": "e4d55a73-d5f8-4c20-9bc1-e09d65faa518",
   "metadata": {},
   "source": [
    "En temps d’execució, dinàmicament es determina de quina classe és l’objecte i es crida al mètode corresponent a la classe de l’objecte."
   ]
  },
  {
   "cell_type": "code",
   "execution_count": 4,
   "id": "327a5d0d-764e-442e-bfce-4051baa5c601",
   "metadata": {},
   "outputs": [
    {
     "name": "stdout",
     "output_type": "stream",
     "text": [
      "100.0\n",
      "100.0 1\n"
     ]
    }
   ],
   "source": [
    "c = CompteCorrent('ernest')\n",
    "c.afegeix_moviment('desc_1', 100, '01/01/2022')\n",
    "print(c.saldo)\n",
    "cj = CompteJove('ernest')\n",
    "cj.afegeix_moviment('desc_1', 100, '01/01/2022')\n",
    "print(cj.saldo, cj.punts)"
   ]
  },
  {
   "cell_type": "markdown",
   "id": "b02e510f-bf34-479a-b1e1-b40fb1af3f2e",
   "metadata": {},
   "source": [
    "El polimorfisme permet utilitzar objectes de les classes derivades a qualsevol lloc on es pot utilitzar un objecte de la classe base. \n",
    "\n",
    "Es poden activar els mètodes de la classe base amb objectes de les classes derivades sense necessitar saber explícitament quina subclasse és.\n",
    "\n",
    "A l'exemple següent:\n",
    "- `llista_comptes` és una única llista per guardar conjuntament objectes de tipus `CompteCorrent` i `CompteJove`.\n",
    "- L’objecte `c` pot ser de la classe `CompteCorrent` o `CompteJove`.\n",
    "- Utilitzant `c`, podem cridar a qualsevol mètode heretat de la classe base (`afegeix_moviment`) i es cridarà automàticament a la versió del mètode que correspongui al tipus de l’objecte: `CompteCorrent` o `CompteJove`."
   ]
  },
  {
   "cell_type": "code",
   "execution_count": 5,
   "id": "f0887ea8-8a2f-40f2-b6ad-8bd73e929ed5",
   "metadata": {},
   "outputs": [
    {
     "name": "stdout",
     "output_type": "stream",
     "text": [
      "100.0\n",
      "100.0\n"
     ]
    }
   ],
   "source": [
    "llista_comptes = []\n",
    "llista_comptes.append(CompteCorrent('ernest'))\n",
    "llista_comptes.append(CompteJove('ernest'))\n",
    "for c in llista_comptes:\n",
    "    c.afegeix_moviment('desc1', 100, '01/01/2022')\n",
    "    print(c.saldo)"
   ]
  },
  {
   "cell_type": "markdown",
   "id": "04cbbb42-1074-4a1b-ae11-90b650d57be4",
   "metadata": {},
   "source": [
    "De vegades podem necessitar comprovar el tipus d’un objecte per poder fer les accions definides només a les classes derivades.\n",
    "- `isinstance(objecte, nom_classe)`: retorna `True` si l’objecte pertany a la classe indicada (o a alguna de les seves subclasses)."
   ]
  },
  {
   "cell_type": "code",
   "execution_count": 6,
   "id": "75a37ee5-04d6-44c9-b7c9-8ce8f3d48ec6",
   "metadata": {},
   "outputs": [
    {
     "name": "stdout",
     "output_type": "stream",
     "text": [
      "Titular:  ernest\n",
      "Saldo:  100.0\n",
      "Titular:  ernest\n",
      "Saldo:  100.0\n",
      "Punts:  1\n"
     ]
    }
   ],
   "source": [
    "for c in llista_comptes:\n",
    "    print(\"Titular: \", c.titular)\n",
    "    print(\"Saldo: \", c.saldo)\n",
    "    if (isinstance(c, CompteJove)):\n",
    "        print(\"Punts: \", c.punts)"
   ]
  },
  {
   "cell_type": "markdown",
   "id": "66c08c5b-4233-4ad8-ad84-a3959726eb2c",
   "metadata": {},
   "source": [
    "Com a norma general, hauríem de reduir al mínim la comprovació del tipus dels objectes, i substituir-ho sempre que puguem per crides a mètodes de les classes utilitzant polimorfisme, com podem veure a l'exemple següent:"
   ]
  },
  {
   "cell_type": "code",
   "execution_count": 7,
   "id": "9f111d79-1db6-4b84-9fe4-1f9db4007a39",
   "metadata": {},
   "outputs": [],
   "source": [
    "@dataclass\n",
    "class CompteCorrent:\n",
    "    _titular: str\n",
    "    _saldo: float = 0.0\n",
    "    _moviments: List[Moviment] = field(init=False, default_factory=list)\n",
    "    \n",
    "    @property\n",
    "    def titular(self) -> str:\n",
    "        return self._titular\n",
    "    \n",
    "    @property\n",
    "    def saldo(self) -> float:\n",
    "        return self._saldo\n",
    "    \n",
    "    def afegeix_moviment(self, descripcio: str, valor: float, data: str) -> None:\n",
    "        moviment = Moviment(descripcio, valor, data)\n",
    "        self._moviments.append(moviment)\n",
    "        self._saldo += valor\n",
    "        \n",
    "    def visualitza(self):\n",
    "        print(\"Titular: \", c.titular)\n",
    "        print(\"Saldo: \", c.saldo)"
   ]
  },
  {
   "cell_type": "code",
   "execution_count": 8,
   "id": "01dbbd5f-c40e-4ea7-8407-503d9b8a5f6c",
   "metadata": {},
   "outputs": [],
   "source": [
    "@dataclass\n",
    "class CompteJove(CompteCorrent):\n",
    "    _punts: int = field(init=False,default=0)\n",
    "    \n",
    "    @property\n",
    "    def punts(self) -> int:\n",
    "        return self._punts\n",
    "       \n",
    "    def afegeix_moviment(self, descripcio: str, valor: float, data: str) -> None:\n",
    "        super().afegeix_moviment(descripcio, valor, data)\n",
    "        if valor > 0:\n",
    "            self._punts += int(valor/100)\n",
    "\n",
    "    def visualitza(self):\n",
    "        super().visualitza()\n",
    "        print(\"Punts: \", c.punts)"
   ]
  },
  {
   "cell_type": "code",
   "execution_count": 9,
   "id": "8e8bd875-b211-4e5a-8bd0-b6a45f6dccd9",
   "metadata": {},
   "outputs": [
    {
     "name": "stdout",
     "output_type": "stream",
     "text": [
      "100.0\n",
      "100.0\n"
     ]
    }
   ],
   "source": [
    "llista_comptes = []\n",
    "llista_comptes.append(CompteCorrent('ernest'))\n",
    "llista_comptes.append(CompteJove('ernest'))\n",
    "for c in llista_comptes:\n",
    "    c.afegeix_moviment('desc1', 100, '01/01/2022')\n",
    "    print(c.saldo)"
   ]
  },
  {
   "cell_type": "code",
   "execution_count": 10,
   "id": "3d0162b3-31dd-43a4-b551-59001fbfe0be",
   "metadata": {},
   "outputs": [
    {
     "name": "stdout",
     "output_type": "stream",
     "text": [
      "Titular:  ernest\n",
      "Saldo:  100.0\n",
      "Titular:  ernest\n",
      "Saldo:  100.0\n",
      "Punts:  1\n"
     ]
    }
   ],
   "source": [
    "for c in llista_comptes:\n",
    "    c.visualitza()"
   ]
  },
  {
   "cell_type": "code",
   "execution_count": null,
   "id": "af889bcd-3667-4a5a-b7ae-385d85312cf1",
   "metadata": {},
   "outputs": [],
   "source": []
  }
 ],
 "metadata": {
  "kernelspec": {
   "display_name": "Python 3 (ipykernel)",
   "language": "python",
   "name": "python3"
  },
  "language_info": {
   "codemirror_mode": {
    "name": "ipython",
    "version": 3
   },
   "file_extension": ".py",
   "mimetype": "text/x-python",
   "name": "python",
   "nbconvert_exporter": "python",
   "pygments_lexer": "ipython3",
   "version": "3.8.8"
  }
 },
 "nbformat": 4,
 "nbformat_minor": 5
}
